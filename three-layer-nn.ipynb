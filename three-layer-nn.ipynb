{
 "cells": [
  {
   "cell_type": "code",
   "execution_count": 1,
   "id": "8376736c",
   "metadata": {
    "_cell_guid": "b1076dfc-b9ad-4769-8c92-a6c4dae69d19",
    "_uuid": "8f2839f25d086af736a60e9eeb907d3b93b6e0e5",
    "execution": {
     "iopub.execute_input": "2023-05-31T14:01:54.062742Z",
     "iopub.status.busy": "2023-05-31T14:01:54.062226Z",
     "iopub.status.idle": "2023-05-31T14:01:54.081073Z",
     "shell.execute_reply": "2023-05-31T14:01:54.079952Z"
    },
    "papermill": {
     "duration": 0.027025,
     "end_time": "2023-05-31T14:01:54.083550",
     "exception": false,
     "start_time": "2023-05-31T14:01:54.056525",
     "status": "completed"
    },
    "tags": []
   },
   "outputs": [
    {
     "name": "stdout",
     "output_type": "stream",
     "text": [
      "/kaggle/input/cs985-cs987-goodread-class-project/my_goodreads_test.csv\n",
      "/kaggle/input/cs985-cs987-goodread-class-project/my_goodreads_train.csv\n",
      "/kaggle/input/cs985-cs987-goodread-class-project/my_goodreads_sample_submission.csv\n"
     ]
    }
   ],
   "source": [
    "### This Python 3 environment comes with many helpful analytics libraries installed\n",
    "# It is defined by the kaggle/python Docker image: https://github.com/kaggle/docker-python\n",
    "# For example, here's several helpful packages to load\n",
    "\n",
    "import numpy as np # linear algebra\n",
    "import pandas as pd # data processing, CSV file I/O (e.g. pd.read_csv)\n",
    "\n",
    "# Input data files are available in the read-only \"../input/\" directory\n",
    "# For example, running this (by clicking run or pressing Shift+Enter) will list all files under the input directory\n",
    "\n",
    "import os\n",
    "for dirname, _, filenames in os.walk('/kaggle/input'):\n",
    "    for filename in filenames:\n",
    "        print(os.path.join(dirname, filename))\n",
    "\n",
    "# You can write up to 20GB to the current directory (/kaggle/working/) that gets preserved as output when you create a version using \"Save & Run All\" \n",
    "# You can also write temporary files to /kaggle/temp/, but they won't be saved outside of the current session"
   ]
  },
  {
   "cell_type": "code",
   "execution_count": 2,
   "id": "b3feb75f",
   "metadata": {
    "execution": {
     "iopub.execute_input": "2023-05-31T14:01:54.091811Z",
     "iopub.status.busy": "2023-05-31T14:01:54.091402Z",
     "iopub.status.idle": "2023-05-31T14:02:20.064750Z",
     "shell.execute_reply": "2023-05-31T14:02:20.063573Z"
    },
    "papermill": {
     "duration": 25.980501,
     "end_time": "2023-05-31T14:02:20.067441",
     "exception": false,
     "start_time": "2023-05-31T14:01:54.086940",
     "status": "completed"
    },
    "tags": []
   },
   "outputs": [],
   "source": [
    "test_set = pd.read_csv('/kaggle/input/cs985-cs987-goodread-class-project/my_goodreads_test.csv')\n",
    "train_set = pd.read_csv('/kaggle/input/cs985-cs987-goodread-class-project/my_goodreads_train.csv')"
   ]
  },
  {
   "cell_type": "code",
   "execution_count": 3,
   "id": "c4530957",
   "metadata": {
    "execution": {
     "iopub.execute_input": "2023-05-31T14:02:20.075450Z",
     "iopub.status.busy": "2023-05-31T14:02:20.075063Z",
     "iopub.status.idle": "2023-05-31T14:02:22.217921Z",
     "shell.execute_reply": "2023-05-31T14:02:22.216852Z"
    },
    "papermill": {
     "duration": 2.150355,
     "end_time": "2023-05-31T14:02:22.221052",
     "exception": false,
     "start_time": "2023-05-31T14:02:20.070697",
     "status": "completed"
    },
    "tags": []
   },
   "outputs": [],
   "source": [
    "from nltk.corpus import stopwords\n",
    "\n",
    "stop = stopwords.words('english')"
   ]
  },
  {
   "cell_type": "code",
   "execution_count": 4,
   "id": "80c61644",
   "metadata": {
    "execution": {
     "iopub.execute_input": "2023-05-31T14:02:22.229040Z",
     "iopub.status.busy": "2023-05-31T14:02:22.228683Z",
     "iopub.status.idle": "2023-05-31T14:08:16.085395Z",
     "shell.execute_reply": "2023-05-31T14:08:16.084397Z"
    },
    "papermill": {
     "duration": 353.863993,
     "end_time": "2023-05-31T14:08:16.088203",
     "exception": false,
     "start_time": "2023-05-31T14:02:22.224210",
     "status": "completed"
    },
    "tags": []
   },
   "outputs": [],
   "source": [
    "# remove stopwords from train and test set\n",
    "train_set['review_text'] = train_set['review_text'].apply(lambda x : ' '.join([word for word in x.split() if word not in (stop)]))\n",
    "\n",
    "test_set['review_text'] = test_set['review_text'].apply(lambda x : ' '.join([word for word in x.split() if word not in (stop)]))"
   ]
  },
  {
   "cell_type": "code",
   "execution_count": 5,
   "id": "e2ca3904",
   "metadata": {
    "execution": {
     "iopub.execute_input": "2023-05-31T14:08:16.096198Z",
     "iopub.status.busy": "2023-05-31T14:08:16.095831Z",
     "iopub.status.idle": "2023-05-31T14:09:58.454168Z",
     "shell.execute_reply": "2023-05-31T14:09:58.452707Z"
    },
    "papermill": {
     "duration": 102.365702,
     "end_time": "2023-05-31T14:09:58.457164",
     "exception": false,
     "start_time": "2023-05-31T14:08:16.091462",
     "status": "completed"
    },
    "tags": []
   },
   "outputs": [
    {
     "name": "stderr",
     "output_type": "stream",
     "text": [
      "/opt/conda/lib/python3.10/site-packages/tensorflow_io/python/ops/__init__.py:98: UserWarning: unable to load libtensorflow_io_plugins.so: unable to open file: libtensorflow_io_plugins.so, from paths: ['/opt/conda/lib/python3.10/site-packages/tensorflow_io/python/ops/libtensorflow_io_plugins.so']\n",
      "caused by: ['/opt/conda/lib/python3.10/site-packages/tensorflow_io/python/ops/libtensorflow_io_plugins.so: undefined symbol: _ZN3tsl6StatusC1EN10tensorflow5error4CodeESt17basic_string_viewIcSt11char_traitsIcEENS_14SourceLocationE']\n",
      "  warnings.warn(f\"unable to load libtensorflow_io_plugins.so: {e}\")\n",
      "/opt/conda/lib/python3.10/site-packages/tensorflow_io/python/ops/__init__.py:104: UserWarning: file system plugins are not loaded: unable to open file: libtensorflow_io.so, from paths: ['/opt/conda/lib/python3.10/site-packages/tensorflow_io/python/ops/libtensorflow_io.so']\n",
      "caused by: ['/opt/conda/lib/python3.10/site-packages/tensorflow_io/python/ops/libtensorflow_io.so: undefined symbol: _ZTVN10tensorflow13GcsFileSystemE']\n",
      "  warnings.warn(f\"file system plugins are not loaded: {e}\")\n"
     ]
    },
    {
     "name": "stdout",
     "output_type": "stream",
     "text": [
      "314290\n"
     ]
    }
   ],
   "source": [
    "from keras.preprocessing.text import Tokenizer\n",
    "#fit tokenizer on training set\n",
    "vocab_size = 5000\n",
    "tokens = Tokenizer(num_words = vocab_size ,filters = '!\"#$%&()*+,-./:;<=>?@[\\]^_`{|}~' , lower = True)\n",
    "tokens.fit_on_texts(train_set['review_text'].values)\n",
    "word_indexes = tokens.word_index\n",
    "print(len(word_indexes))"
   ]
  },
  {
   "cell_type": "code",
   "execution_count": null,
   "id": "41384064",
   "metadata": {
    "papermill": {
     "duration": 0.002964,
     "end_time": "2023-05-31T14:09:58.463406",
     "exception": false,
     "start_time": "2023-05-31T14:09:58.460442",
     "status": "completed"
    },
    "tags": []
   },
   "outputs": [],
   "source": []
  }
 ],
 "metadata": {
  "kernelspec": {
   "display_name": "Python 3",
   "language": "python",
   "name": "python3"
  },
  "language_info": {
   "codemirror_mode": {
    "name": "ipython",
    "version": 3
   },
   "file_extension": ".py",
   "mimetype": "text/x-python",
   "name": "python",
   "nbconvert_exporter": "python",
   "pygments_lexer": "ipython3",
   "version": "3.10.10"
  },
  "papermill": {
   "default_parameters": {},
   "duration": 499.980707,
   "end_time": "2023-05-31T14:10:01.574994",
   "environment_variables": {},
   "exception": null,
   "input_path": "__notebook__.ipynb",
   "output_path": "__notebook__.ipynb",
   "parameters": {},
   "start_time": "2023-05-31T14:01:41.594287",
   "version": "2.4.0"
  }
 },
 "nbformat": 4,
 "nbformat_minor": 5
}
