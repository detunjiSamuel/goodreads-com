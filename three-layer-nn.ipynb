{
 "cells": [
  {
   "cell_type": "code",
   "execution_count": 1,
   "id": "24103c12",
   "metadata": {
    "_cell_guid": "b1076dfc-b9ad-4769-8c92-a6c4dae69d19",
    "_uuid": "8f2839f25d086af736a60e9eeb907d3b93b6e0e5",
    "execution": {
     "iopub.execute_input": "2023-05-31T15:18:23.770151Z",
     "iopub.status.busy": "2023-05-31T15:18:23.769724Z",
     "iopub.status.idle": "2023-05-31T15:18:23.787186Z",
     "shell.execute_reply": "2023-05-31T15:18:23.785701Z"
    },
    "papermill": {
     "duration": 0.027045,
     "end_time": "2023-05-31T15:18:23.789831",
     "exception": false,
     "start_time": "2023-05-31T15:18:23.762786",
     "status": "completed"
    },
    "tags": []
   },
   "outputs": [
    {
     "name": "stdout",
     "output_type": "stream",
     "text": [
      "/kaggle/input/cs985-cs987-goodread-class-project/my_goodreads_test.csv\n",
      "/kaggle/input/cs985-cs987-goodread-class-project/my_goodreads_train.csv\n",
      "/kaggle/input/cs985-cs987-goodread-class-project/my_goodreads_sample_submission.csv\n"
     ]
    }
   ],
   "source": [
    "### This Python 3 environment comes with many helpful analytics libraries installed\n",
    "# It is defined by the kaggle/python Docker image: https://github.com/kaggle/docker-python\n",
    "# For example, here's several helpful packages to load\n",
    "\n",
    "import numpy as np # linear algebra\n",
    "import pandas as pd # data processing, CSV file I/O (e.g. pd.read_csv)\n",
    "\n",
    "# Input data files are available in the read-only \"../input/\" directory\n",
    "# For example, running this (by clicking run or pressing Shift+Enter) will list all files under the input directory\n",
    "\n",
    "import os\n",
    "for dirname, _, filenames in os.walk('/kaggle/input'):\n",
    "    for filename in filenames:\n",
    "        print(os.path.join(dirname, filename))\n",
    "\n",
    "# You can write up to 20GB to the current directory (/kaggle/working/) that gets preserved as output when you create a version using \"Save & Run All\" \n",
    "# You can also write temporary files to /kaggle/temp/, but they won't be saved outside of the current session"
   ]
  },
  {
   "cell_type": "code",
   "execution_count": 2,
   "id": "94902e16",
   "metadata": {
    "execution": {
     "iopub.execute_input": "2023-05-31T15:18:23.802002Z",
     "iopub.status.busy": "2023-05-31T15:18:23.801533Z",
     "iopub.status.idle": "2023-05-31T15:18:51.184228Z",
     "shell.execute_reply": "2023-05-31T15:18:51.183028Z"
    },
    "papermill": {
     "duration": 27.39207,
     "end_time": "2023-05-31T15:18:51.187293",
     "exception": false,
     "start_time": "2023-05-31T15:18:23.795223",
     "status": "completed"
    },
    "tags": []
   },
   "outputs": [],
   "source": [
    "test_set = pd.read_csv('/kaggle/input/cs985-cs987-goodread-class-project/my_goodreads_test.csv')\n",
    "train_set = pd.read_csv('/kaggle/input/cs985-cs987-goodread-class-project/my_goodreads_train.csv')"
   ]
  },
  {
   "cell_type": "code",
   "execution_count": 3,
   "id": "dfbbb415",
   "metadata": {
    "execution": {
     "iopub.execute_input": "2023-05-31T15:18:51.199043Z",
     "iopub.status.busy": "2023-05-31T15:18:51.198589Z",
     "iopub.status.idle": "2023-05-31T15:18:53.315219Z",
     "shell.execute_reply": "2023-05-31T15:18:53.314012Z"
    },
    "papermill": {
     "duration": 2.125985,
     "end_time": "2023-05-31T15:18:53.318330",
     "exception": false,
     "start_time": "2023-05-31T15:18:51.192345",
     "status": "completed"
    },
    "tags": []
   },
   "outputs": [],
   "source": [
    "from nltk.corpus import stopwords\n",
    "\n",
    "stop = stopwords.words('english')"
   ]
  },
  {
   "cell_type": "code",
   "execution_count": 4,
   "id": "42421375",
   "metadata": {
    "execution": {
     "iopub.execute_input": "2023-05-31T15:18:53.329815Z",
     "iopub.status.busy": "2023-05-31T15:18:53.329373Z",
     "iopub.status.idle": "2023-05-31T15:18:53.335011Z",
     "shell.execute_reply": "2023-05-31T15:18:53.333838Z"
    },
    "papermill": {
     "duration": 0.014113,
     "end_time": "2023-05-31T15:18:53.337347",
     "exception": false,
     "start_time": "2023-05-31T15:18:53.323234",
     "status": "completed"
    },
    "tags": []
   },
   "outputs": [],
   "source": [
    "train_set = train_set[:200000]"
   ]
  },
  {
   "cell_type": "code",
   "execution_count": 5,
   "id": "dc400203",
   "metadata": {
    "execution": {
     "iopub.execute_input": "2023-05-31T15:18:53.349205Z",
     "iopub.status.busy": "2023-05-31T15:18:53.348428Z",
     "iopub.status.idle": "2023-05-31T15:21:29.472675Z",
     "shell.execute_reply": "2023-05-31T15:21:29.471384Z"
    },
    "papermill": {
     "duration": 156.133592,
     "end_time": "2023-05-31T15:21:29.475770",
     "exception": false,
     "start_time": "2023-05-31T15:18:53.342178",
     "status": "completed"
    },
    "tags": []
   },
   "outputs": [],
   "source": [
    "# remove stopwords from train and test set\n",
    "train_set['review_text'] = train_set['review_text'].apply(lambda x : ' '.join([word for word in x.split() if word not in (stop)]))\n",
    "\n",
    "test_set['review_text'] = test_set['review_text'].apply(lambda x : ' '.join([word for word in x.split() if word not in (stop)]))"
   ]
  },
  {
   "cell_type": "code",
   "execution_count": 6,
   "id": "847deed6",
   "metadata": {
    "execution": {
     "iopub.execute_input": "2023-05-31T15:21:29.487656Z",
     "iopub.status.busy": "2023-05-31T15:21:29.487270Z",
     "iopub.status.idle": "2023-05-31T15:22:05.499493Z",
     "shell.execute_reply": "2023-05-31T15:22:05.498210Z"
    },
    "papermill": {
     "duration": 36.025238,
     "end_time": "2023-05-31T15:22:05.506235",
     "exception": false,
     "start_time": "2023-05-31T15:21:29.480997",
     "status": "completed"
    },
    "tags": []
   },
   "outputs": [
    {
     "name": "stderr",
     "output_type": "stream",
     "text": [
      "/opt/conda/lib/python3.10/site-packages/tensorflow_io/python/ops/__init__.py:98: UserWarning: unable to load libtensorflow_io_plugins.so: unable to open file: libtensorflow_io_plugins.so, from paths: ['/opt/conda/lib/python3.10/site-packages/tensorflow_io/python/ops/libtensorflow_io_plugins.so']\n",
      "caused by: ['/opt/conda/lib/python3.10/site-packages/tensorflow_io/python/ops/libtensorflow_io_plugins.so: undefined symbol: _ZN3tsl6StatusC1EN10tensorflow5error4CodeESt17basic_string_viewIcSt11char_traitsIcEENS_14SourceLocationE']\n",
      "  warnings.warn(f\"unable to load libtensorflow_io_plugins.so: {e}\")\n",
      "/opt/conda/lib/python3.10/site-packages/tensorflow_io/python/ops/__init__.py:104: UserWarning: file system plugins are not loaded: unable to open file: libtensorflow_io.so, from paths: ['/opt/conda/lib/python3.10/site-packages/tensorflow_io/python/ops/libtensorflow_io.so']\n",
      "caused by: ['/opt/conda/lib/python3.10/site-packages/tensorflow_io/python/ops/libtensorflow_io.so: undefined symbol: _ZTVN10tensorflow13GcsFileSystemE']\n",
      "  warnings.warn(f\"file system plugins are not loaded: {e}\")\n"
     ]
    },
    {
     "name": "stdout",
     "output_type": "stream",
     "text": [
      "170832\n"
     ]
    }
   ],
   "source": [
    "from keras.preprocessing.text import Tokenizer\n",
    "#fit tokenizer on training set\n",
    "vocab_size = 5000\n",
    "tokens = Tokenizer(num_words = vocab_size ,filters = '!\"#$%&()*+,-./:;<=>?@[\\]^_`{|}~' , lower = True)\n",
    "tokens.fit_on_texts(train_set['review_text'].values)\n",
    "word_indexes = tokens.word_index\n",
    "print(len(word_indexes))"
   ]
  },
  {
   "cell_type": "code",
   "execution_count": 7,
   "id": "e95d1187",
   "metadata": {
    "execution": {
     "iopub.execute_input": "2023-05-31T15:22:05.520360Z",
     "iopub.status.busy": "2023-05-31T15:22:05.519536Z",
     "iopub.status.idle": "2023-05-31T15:22:27.013361Z",
     "shell.execute_reply": "2023-05-31T15:22:27.011594Z"
    },
    "papermill": {
     "duration": 21.503331,
     "end_time": "2023-05-31T15:22:27.016535",
     "exception": false,
     "start_time": "2023-05-31T15:22:05.513204",
     "status": "completed"
    },
    "tags": []
   },
   "outputs": [],
   "source": [
    "from tensorflow.keras.preprocessing.sequence import pad_sequences\n",
    "from tensorflow.keras.utils import to_categorical\n",
    "from sklearn.model_selection import train_test_split\n",
    "\n",
    "\n",
    "# tokenize train set and categorize labels (Train set)\n",
    "X = tokens.texts_to_sequences(train_set['review_text'].values)\n",
    "X = pad_sequences(X , maxlen = 250)\n",
    "y = to_categorical(train_set['rating'] , num_classes = 6)\n",
    "\n",
    "X_eval, y_eval = X[-100001:], y[-100001:]\n",
    "X, y = X[:-100000], y[:-100000]\n",
    "\n",
    "# split to train and eval set (Train set)\n",
    "X_train ,X_valid , y_train , y_valid = train_test_split(X , y ,test_size = 0.3 ,random_state = 42)"
   ]
  },
  {
   "cell_type": "code",
   "execution_count": 8,
   "id": "41388e54",
   "metadata": {
    "execution": {
     "iopub.execute_input": "2023-05-31T15:22:27.029233Z",
     "iopub.status.busy": "2023-05-31T15:22:27.028802Z",
     "iopub.status.idle": "2023-05-31T15:22:48.145553Z",
     "shell.execute_reply": "2023-05-31T15:22:48.144200Z"
    },
    "papermill": {
     "duration": 21.126671,
     "end_time": "2023-05-31T15:22:48.148789",
     "exception": false,
     "start_time": "2023-05-31T15:22:27.022118",
     "status": "completed"
    },
    "tags": []
   },
   "outputs": [],
   "source": [
    "# tokenze test set ( Test set)\n",
    "X_eval_final = tokens.texts_to_sequences(test_set['review_text'].values)\n",
    "X_eval_final = pad_sequences(X_eval_final , maxlen = 250 )"
   ]
  },
  {
   "cell_type": "markdown",
   "id": "7baf1abb",
   "metadata": {
    "papermill": {
     "duration": 0.004745,
     "end_time": "2023-05-31T15:22:48.159002",
     "exception": false,
     "start_time": "2023-05-31T15:22:48.154257",
     "status": "completed"
    },
    "tags": []
   },
   "source": [
    "# Three-Layer Baseline"
   ]
  },
  {
   "cell_type": "code",
   "execution_count": 9,
   "id": "30fcd3bf",
   "metadata": {
    "execution": {
     "iopub.execute_input": "2023-05-31T15:22:48.171381Z",
     "iopub.status.busy": "2023-05-31T15:22:48.170937Z",
     "iopub.status.idle": "2023-05-31T15:22:48.176519Z",
     "shell.execute_reply": "2023-05-31T15:22:48.175423Z"
    },
    "papermill": {
     "duration": 0.014552,
     "end_time": "2023-05-31T15:22:48.178893",
     "exception": false,
     "start_time": "2023-05-31T15:22:48.164341",
     "status": "completed"
    },
    "tags": []
   },
   "outputs": [],
   "source": [
    "neurons = [4 , 8 , 16 , 32 , 64]"
   ]
  },
  {
   "cell_type": "code",
   "execution_count": 10,
   "id": "73527517",
   "metadata": {
    "execution": {
     "iopub.execute_input": "2023-05-31T15:22:48.191269Z",
     "iopub.status.busy": "2023-05-31T15:22:48.190848Z",
     "iopub.status.idle": "2023-05-31T15:30:05.269940Z",
     "shell.execute_reply": "2023-05-31T15:30:05.268381Z"
    },
    "papermill": {
     "duration": 437.699412,
     "end_time": "2023-05-31T15:30:05.883448",
     "exception": false,
     "start_time": "2023-05-31T15:22:48.184036",
     "status": "completed"
    },
    "tags": []
   },
   "outputs": [
    {
     "name": "stdout",
     "output_type": "stream",
     "text": [
      "Epoch 1/5\n",
      "2188/2188 [==============================] - 10s 4ms/step - loss: 1.4386 - accuracy: 0.3673 - val_loss: 1.3172 - val_accuracy: 0.3879\n",
      "Epoch 2/5\n",
      "2188/2188 [==============================] - 7s 3ms/step - loss: 1.2059 - accuracy: 0.4584 - val_loss: 1.1237 - val_accuracy: 0.5045\n",
      "Epoch 3/5\n",
      "2188/2188 [==============================] - 7s 3ms/step - loss: 1.0631 - accuracy: 0.5384 - val_loss: 1.1105 - val_accuracy: 0.5164\n",
      "Epoch 4/5\n",
      "2188/2188 [==============================] - 7s 3ms/step - loss: 1.0250 - accuracy: 0.5574 - val_loss: 1.1186 - val_accuracy: 0.5150\n",
      "Epoch 5/5\n",
      "2188/2188 [==============================] - 8s 4ms/step - loss: 0.9993 - accuracy: 0.5688 - val_loss: 1.1360 - val_accuracy: 0.5133\n",
      "3126/3126 [==============================] - 6s 2ms/step - loss: 1.1400 - accuracy: 0.5096\n",
      "[0.5095949172973633]\n",
      "Epoch 1/5\n",
      "2188/2188 [==============================] - 9s 4ms/step - loss: 1.2653 - accuracy: 0.4455 - val_loss: 1.1212 - val_accuracy: 0.5070\n",
      "Epoch 2/5\n",
      "2188/2188 [==============================] - 10s 4ms/step - loss: 1.0729 - accuracy: 0.5327 - val_loss: 1.1018 - val_accuracy: 0.5145\n",
      "Epoch 3/5\n",
      "2188/2188 [==============================] - 10s 4ms/step - loss: 1.0167 - accuracy: 0.5605 - val_loss: 1.1172 - val_accuracy: 0.5135\n",
      "Epoch 4/5\n",
      "2188/2188 [==============================] - 8s 4ms/step - loss: 0.9629 - accuracy: 0.5881 - val_loss: 1.1460 - val_accuracy: 0.5057\n",
      "Epoch 5/5\n",
      "2188/2188 [==============================] - 8s 4ms/step - loss: 0.9090 - accuracy: 0.6175 - val_loss: 1.2070 - val_accuracy: 0.4946\n",
      "3126/3126 [==============================] - 6s 2ms/step - loss: 1.2185 - accuracy: 0.4920\n",
      "[0.5095949172973633, 0.4920150935649872]\n",
      "Epoch 1/5\n",
      "2188/2188 [==============================] - 12s 5ms/step - loss: 1.2397 - accuracy: 0.4525 - val_loss: 1.1136 - val_accuracy: 0.5105\n",
      "Epoch 2/5\n",
      "2188/2188 [==============================] - 12s 5ms/step - loss: 1.0369 - accuracy: 0.5560 - val_loss: 1.1144 - val_accuracy: 0.5137\n",
      "Epoch 3/5\n",
      "2188/2188 [==============================] - 12s 6ms/step - loss: 0.9192 - accuracy: 0.6199 - val_loss: 1.1727 - val_accuracy: 0.5025\n",
      "Epoch 4/5\n",
      "2188/2188 [==============================] - 11s 5ms/step - loss: 0.7811 - accuracy: 0.6879 - val_loss: 1.3159 - val_accuracy: 0.4801\n",
      "Epoch 5/5\n",
      "2188/2188 [==============================] - 11s 5ms/step - loss: 0.6625 - accuracy: 0.7432 - val_loss: 1.5050 - val_accuracy: 0.4728\n",
      "3126/3126 [==============================] - 7s 2ms/step - loss: 1.5130 - accuracy: 0.4746\n",
      "[0.5095949172973633, 0.4920150935649872, 0.4745652675628662]\n",
      "Epoch 1/5\n",
      "2188/2188 [==============================] - 17s 7ms/step - loss: 1.1939 - accuracy: 0.4722 - val_loss: 1.1013 - val_accuracy: 0.5156\n",
      "Epoch 2/5\n",
      "2188/2188 [==============================] - 16s 8ms/step - loss: 0.9775 - accuracy: 0.5842 - val_loss: 1.1568 - val_accuracy: 0.5024\n",
      "Epoch 3/5\n",
      "2188/2188 [==============================] - 16s 7ms/step - loss: 0.7352 - accuracy: 0.7037 - val_loss: 1.3652 - val_accuracy: 0.4746\n",
      "Epoch 4/5\n",
      "2188/2188 [==============================] - 16s 7ms/step - loss: 0.5174 - accuracy: 0.8030 - val_loss: 1.7811 - val_accuracy: 0.4700\n",
      "Epoch 5/5\n",
      "2188/2188 [==============================] - 16s 7ms/step - loss: 0.3836 - accuracy: 0.8587 - val_loss: 2.2575 - val_accuracy: 0.4527\n",
      "3126/3126 [==============================] - 8s 3ms/step - loss: 2.2330 - accuracy: 0.4574\n",
      "[0.5095949172973633, 0.4920150935649872, 0.4745652675628662, 0.4573754370212555]\n",
      "Epoch 1/5\n",
      "2188/2188 [==============================] - 32s 14ms/step - loss: 1.1823 - accuracy: 0.4786 - val_loss: 1.1086 - val_accuracy: 0.5109\n",
      "Epoch 2/5\n",
      "2188/2188 [==============================] - 31s 14ms/step - loss: 0.8778 - accuracy: 0.6372 - val_loss: 1.2576 - val_accuracy: 0.4825\n",
      "Epoch 3/5\n",
      "2188/2188 [==============================] - 31s 14ms/step - loss: 0.5115 - accuracy: 0.8022 - val_loss: 1.6988 - val_accuracy: 0.4607\n",
      "Epoch 4/5\n",
      "2188/2188 [==============================] - 31s 14ms/step - loss: 0.3037 - accuracy: 0.8879 - val_loss: 2.4181 - val_accuracy: 0.4423\n",
      "Epoch 5/5\n",
      "2188/2188 [==============================] - 33s 15ms/step - loss: 0.2061 - accuracy: 0.9267 - val_loss: 3.0007 - val_accuracy: 0.4432\n",
      "3126/3126 [==============================] - 12s 4ms/step - loss: 2.9722 - accuracy: 0.4424\n",
      "[0.5095949172973633, 0.4920150935649872, 0.4745652675628662, 0.4573754370212555, 0.4424055814743042]\n"
     ]
    }
   ],
   "source": [
    "from tensorflow.keras import Sequential\n",
    "from tensorflow.keras.layers import Dense, Embedding, Flatten, SimpleRNN, LSTM, Input, GRU, InputLayer, GlobalMaxPooling1D, Dropout\n",
    "\n",
    "eval_list = []\n",
    "\n",
    "for neuron in neurons:\n",
    "    model = Sequential([\n",
    "        Embedding(input_dim = vocab_size + 1 , output_dim = neuron , input_length = 250),\n",
    "        Flatten(),\n",
    "        Dense(neuron , activation = \"relu\"),\n",
    "        Dense(6 , activation = \"softmax\")\n",
    "    ])\n",
    "    \n",
    "    model.compile(loss = \"categorical_crossentropy\",\n",
    "                 optimizer = \"adam\",\n",
    "                 metrics = [\"accuracy\"]\n",
    "                 )\n",
    "    \n",
    "    history = model.fit(X_train , y_train ,epochs = 5 ,validation_data = (X_valid , y_valid))\n",
    "    \n",
    "    res = model.evaluate(X_eval , y_eval)\n",
    "    eval_list.append(res[1])\n",
    "    print(eval_list)"
   ]
  },
  {
   "cell_type": "code",
   "execution_count": null,
   "id": "88cf38b1",
   "metadata": {
    "papermill": {
     "duration": 0.601778,
     "end_time": "2023-05-31T15:30:07.094985",
     "exception": false,
     "start_time": "2023-05-31T15:30:06.493207",
     "status": "completed"
    },
    "tags": []
   },
   "outputs": [],
   "source": []
  }
 ],
 "metadata": {
  "kernelspec": {
   "display_name": "Python 3",
   "language": "python",
   "name": "python3"
  },
  "language_info": {
   "codemirror_mode": {
    "name": "ipython",
    "version": 3
   },
   "file_extension": ".py",
   "mimetype": "text/x-python",
   "name": "python",
   "nbconvert_exporter": "python",
   "pygments_lexer": "ipython3",
   "version": "3.10.10"
  },
  "papermill": {
   "default_parameters": {},
   "duration": 722.14761,
   "end_time": "2023-05-31T15:30:11.094386",
   "environment_variables": {},
   "exception": null,
   "input_path": "__notebook__.ipynb",
   "output_path": "__notebook__.ipynb",
   "parameters": {},
   "start_time": "2023-05-31T15:18:08.946776",
   "version": "2.4.0"
  }
 },
 "nbformat": 4,
 "nbformat_minor": 5
}
