{
 "cells": [
  {
   "cell_type": "code",
   "execution_count": 1,
   "id": "60077765",
   "metadata": {
    "_cell_guid": "b1076dfc-b9ad-4769-8c92-a6c4dae69d19",
    "_uuid": "8f2839f25d086af736a60e9eeb907d3b93b6e0e5",
    "execution": {
     "iopub.execute_input": "2023-05-31T21:31:43.810740Z",
     "iopub.status.busy": "2023-05-31T21:31:43.810235Z",
     "iopub.status.idle": "2023-05-31T21:31:43.826957Z",
     "shell.execute_reply": "2023-05-31T21:31:43.825708Z"
    },
    "papermill": {
     "duration": 0.028637,
     "end_time": "2023-05-31T21:31:43.829887",
     "exception": false,
     "start_time": "2023-05-31T21:31:43.801250",
     "status": "completed"
    },
    "tags": []
   },
   "outputs": [
    {
     "name": "stdout",
     "output_type": "stream",
     "text": [
      "/kaggle/input/cs985-cs987-goodread-class-project/my_goodreads_test.csv\n",
      "/kaggle/input/cs985-cs987-goodread-class-project/my_goodreads_train.csv\n",
      "/kaggle/input/cs985-cs987-goodread-class-project/my_goodreads_sample_submission.csv\n"
     ]
    }
   ],
   "source": [
    "### This Python 3 environment comes with many helpful analytics libraries installed\n",
    "# It is defined by the kaggle/python Docker image: https://github.com/kaggle/docker-python\n",
    "# For example, here's several helpful packages to load\n",
    "\n",
    "import numpy as np # linear algebra\n",
    "import pandas as pd # data processing, CSV file I/O (e.g. pd.read_csv)\n",
    "\n",
    "# Input data files are available in the read-only \"../input/\" directory\n",
    "# For example, running this (by clicking run or pressing Shift+Enter) will list all files under the input directory\n",
    "\n",
    "import os\n",
    "for dirname, _, filenames in os.walk('/kaggle/input'):\n",
    "    for filename in filenames:\n",
    "        print(os.path.join(dirname, filename))\n",
    "\n",
    "# You can write up to 20GB to the current directory (/kaggle/working/) that gets preserved as output when you create a version using \"Save & Run All\" \n",
    "# You can also write temporary files to /kaggle/temp/, but they won't be saved outside of the current session"
   ]
  },
  {
   "cell_type": "code",
   "execution_count": 2,
   "id": "048d139a",
   "metadata": {
    "execution": {
     "iopub.execute_input": "2023-05-31T21:31:43.845761Z",
     "iopub.status.busy": "2023-05-31T21:31:43.845246Z",
     "iopub.status.idle": "2023-05-31T21:32:11.255824Z",
     "shell.execute_reply": "2023-05-31T21:32:11.254530Z"
    },
    "papermill": {
     "duration": 27.422398,
     "end_time": "2023-05-31T21:32:11.259286",
     "exception": false,
     "start_time": "2023-05-31T21:31:43.836888",
     "status": "completed"
    },
    "tags": []
   },
   "outputs": [],
   "source": [
    "test_set = pd.read_csv('/kaggle/input/cs985-cs987-goodread-class-project/my_goodreads_test.csv')\n",
    "train_set = pd.read_csv('/kaggle/input/cs985-cs987-goodread-class-project/my_goodreads_train.csv')"
   ]
  },
  {
   "cell_type": "code",
   "execution_count": 3,
   "id": "868f5fdd",
   "metadata": {
    "execution": {
     "iopub.execute_input": "2023-05-31T21:32:11.274307Z",
     "iopub.status.busy": "2023-05-31T21:32:11.273861Z",
     "iopub.status.idle": "2023-05-31T21:32:13.586484Z",
     "shell.execute_reply": "2023-05-31T21:32:13.584993Z"
    },
    "papermill": {
     "duration": 2.323848,
     "end_time": "2023-05-31T21:32:13.589790",
     "exception": false,
     "start_time": "2023-05-31T21:32:11.265942",
     "status": "completed"
    },
    "tags": []
   },
   "outputs": [],
   "source": [
    "from nltk.corpus import stopwords\n",
    "\n",
    "stop = stopwords.words('english')"
   ]
  },
  {
   "cell_type": "code",
   "execution_count": 4,
   "id": "dbde98c3",
   "metadata": {
    "execution": {
     "iopub.execute_input": "2023-05-31T21:32:13.604016Z",
     "iopub.status.busy": "2023-05-31T21:32:13.603624Z",
     "iopub.status.idle": "2023-05-31T21:32:13.610503Z",
     "shell.execute_reply": "2023-05-31T21:32:13.609123Z"
    },
    "papermill": {
     "duration": 0.017102,
     "end_time": "2023-05-31T21:32:13.613157",
     "exception": false,
     "start_time": "2023-05-31T21:32:13.596055",
     "status": "completed"
    },
    "tags": []
   },
   "outputs": [],
   "source": [
    "train_set = train_set[:200000]"
   ]
  },
  {
   "cell_type": "code",
   "execution_count": 5,
   "id": "c3ca79c0",
   "metadata": {
    "execution": {
     "iopub.execute_input": "2023-05-31T21:32:13.627515Z",
     "iopub.status.busy": "2023-05-31T21:32:13.627028Z",
     "iopub.status.idle": "2023-05-31T21:34:51.795623Z",
     "shell.execute_reply": "2023-05-31T21:34:51.794153Z"
    },
    "papermill": {
     "duration": 158.180422,
     "end_time": "2023-05-31T21:34:51.799599",
     "exception": false,
     "start_time": "2023-05-31T21:32:13.619177",
     "status": "completed"
    },
    "tags": []
   },
   "outputs": [],
   "source": [
    "# remove stopwords from train and test set\n",
    "train_set['review_text'] = train_set['review_text'].apply(lambda x : ' '.join([word for word in x.split() if word not in (stop)]))\n",
    "\n",
    "test_set['review_text'] = test_set['review_text'].apply(lambda x : ' '.join([word for word in x.split() if word not in (stop)]))"
   ]
  },
  {
   "cell_type": "code",
   "execution_count": 6,
   "id": "6f9f0076",
   "metadata": {
    "execution": {
     "iopub.execute_input": "2023-05-31T21:34:51.815791Z",
     "iopub.status.busy": "2023-05-31T21:34:51.814581Z",
     "iopub.status.idle": "2023-05-31T21:35:31.069609Z",
     "shell.execute_reply": "2023-05-31T21:35:31.067835Z"
    },
    "papermill": {
     "duration": 39.270896,
     "end_time": "2023-05-31T21:35:31.077163",
     "exception": false,
     "start_time": "2023-05-31T21:34:51.806267",
     "status": "completed"
    },
    "tags": []
   },
   "outputs": [
    {
     "name": "stderr",
     "output_type": "stream",
     "text": [
      "/opt/conda/lib/python3.10/site-packages/tensorflow_io/python/ops/__init__.py:98: UserWarning: unable to load libtensorflow_io_plugins.so: unable to open file: libtensorflow_io_plugins.so, from paths: ['/opt/conda/lib/python3.10/site-packages/tensorflow_io/python/ops/libtensorflow_io_plugins.so']\n",
      "caused by: ['/opt/conda/lib/python3.10/site-packages/tensorflow_io/python/ops/libtensorflow_io_plugins.so: undefined symbol: _ZN3tsl6StatusC1EN10tensorflow5error4CodeESt17basic_string_viewIcSt11char_traitsIcEENS_14SourceLocationE']\n",
      "  warnings.warn(f\"unable to load libtensorflow_io_plugins.so: {e}\")\n",
      "/opt/conda/lib/python3.10/site-packages/tensorflow_io/python/ops/__init__.py:104: UserWarning: file system plugins are not loaded: unable to open file: libtensorflow_io.so, from paths: ['/opt/conda/lib/python3.10/site-packages/tensorflow_io/python/ops/libtensorflow_io.so']\n",
      "caused by: ['/opt/conda/lib/python3.10/site-packages/tensorflow_io/python/ops/libtensorflow_io.so: undefined symbol: _ZTVN10tensorflow13GcsFileSystemE']\n",
      "  warnings.warn(f\"file system plugins are not loaded: {e}\")\n"
     ]
    },
    {
     "name": "stdout",
     "output_type": "stream",
     "text": [
      "170832\n"
     ]
    }
   ],
   "source": [
    "from keras.preprocessing.text import Tokenizer\n",
    "#fit tokenizer on training set\n",
    "vocab_size = 5000\n",
    "tokens = Tokenizer(num_words = vocab_size ,filters = '!\"#$%&()*+,-./:;<=>?@[\\]^_`{|}~' , lower = True)\n",
    "tokens.fit_on_texts(train_set['review_text'].values)\n",
    "word_indexes = tokens.word_index\n",
    "print(len(word_indexes))"
   ]
  },
  {
   "cell_type": "code",
   "execution_count": 7,
   "id": "8bbabeaa",
   "metadata": {
    "execution": {
     "iopub.execute_input": "2023-05-31T21:35:31.092796Z",
     "iopub.status.busy": "2023-05-31T21:35:31.091792Z",
     "iopub.status.idle": "2023-05-31T21:35:53.566362Z",
     "shell.execute_reply": "2023-05-31T21:35:53.565073Z"
    },
    "papermill": {
     "duration": 22.486105,
     "end_time": "2023-05-31T21:35:53.569652",
     "exception": false,
     "start_time": "2023-05-31T21:35:31.083547",
     "status": "completed"
    },
    "tags": []
   },
   "outputs": [],
   "source": [
    "from tensorflow.keras.preprocessing.sequence import pad_sequences\n",
    "from tensorflow.keras.utils import to_categorical\n",
    "from sklearn.model_selection import train_test_split\n",
    "\n",
    "\n",
    "# tokenize train set and categorize labels (Train set)\n",
    "X = tokens.texts_to_sequences(train_set['review_text'].values)\n",
    "X = pad_sequences(X , maxlen = 250)\n",
    "y = to_categorical(train_set['rating'] , num_classes = 6)\n",
    "\n",
    "X_eval, y_eval = X[-100001:], y[-100001:]\n",
    "X, y = X[:-100000], y[:-100000]\n",
    "\n",
    "# split to train and eval set (Train set)\n",
    "X_train ,X_valid , y_train , y_valid = train_test_split(X , y ,test_size = 0.3 ,random_state = 42)"
   ]
  },
  {
   "cell_type": "code",
   "execution_count": 8,
   "id": "10c3e185",
   "metadata": {
    "execution": {
     "iopub.execute_input": "2023-05-31T21:35:53.585600Z",
     "iopub.status.busy": "2023-05-31T21:35:53.584378Z",
     "iopub.status.idle": "2023-05-31T21:36:15.063127Z",
     "shell.execute_reply": "2023-05-31T21:36:15.061968Z"
    },
    "papermill": {
     "duration": 21.490271,
     "end_time": "2023-05-31T21:36:15.066292",
     "exception": false,
     "start_time": "2023-05-31T21:35:53.576021",
     "status": "completed"
    },
    "tags": []
   },
   "outputs": [],
   "source": [
    "# tokenze test set ( Test set)\n",
    "X_eval_final = tokens.texts_to_sequences(test_set['review_text'].values)\n",
    "X_eval_final = pad_sequences(X_eval_final , maxlen = 250 )"
   ]
  },
  {
   "cell_type": "markdown",
   "id": "4f9a07b4",
   "metadata": {
    "papermill": {
     "duration": 0.006284,
     "end_time": "2023-05-31T21:36:15.079494",
     "exception": false,
     "start_time": "2023-05-31T21:36:15.073210",
     "status": "completed"
    },
    "tags": []
   },
   "source": [
    "# Three-Layer Baseline"
   ]
  },
  {
   "cell_type": "code",
   "execution_count": 9,
   "id": "d1ec7d69",
   "metadata": {
    "execution": {
     "iopub.execute_input": "2023-05-31T21:36:15.095573Z",
     "iopub.status.busy": "2023-05-31T21:36:15.094355Z",
     "iopub.status.idle": "2023-05-31T21:36:15.100254Z",
     "shell.execute_reply": "2023-05-31T21:36:15.098936Z"
    },
    "papermill": {
     "duration": 0.017003,
     "end_time": "2023-05-31T21:36:15.103055",
     "exception": false,
     "start_time": "2023-05-31T21:36:15.086052",
     "status": "completed"
    },
    "tags": []
   },
   "outputs": [],
   "source": [
    "neurons = [4 , 8 , 16 , 32 , 64]"
   ]
  },
  {
   "cell_type": "code",
   "execution_count": 10,
   "id": "8080d4b7",
   "metadata": {
    "execution": {
     "iopub.execute_input": "2023-05-31T21:36:15.118900Z",
     "iopub.status.busy": "2023-05-31T21:36:15.118365Z",
     "iopub.status.idle": "2023-05-31T21:44:55.837174Z",
     "shell.execute_reply": "2023-05-31T21:44:55.835325Z"
    },
    "papermill": {
     "duration": 521.477142,
     "end_time": "2023-05-31T21:44:56.586853",
     "exception": false,
     "start_time": "2023-05-31T21:36:15.109711",
     "status": "completed"
    },
    "tags": []
   },
   "outputs": [
    {
     "name": "stdout",
     "output_type": "stream",
     "text": [
      "Epoch 1/5\n",
      "2188/2188 [==============================] - 10s 4ms/step - loss: 1.3255 - accuracy: 0.3985 - val_loss: 1.1925 - val_accuracy: 0.4638\n",
      "Epoch 2/5\n",
      "2188/2188 [==============================] - 8s 4ms/step - loss: 1.1526 - accuracy: 0.4835 - val_loss: 1.1520 - val_accuracy: 0.4885\n",
      "Epoch 3/5\n",
      "2188/2188 [==============================] - 8s 4ms/step - loss: 1.0783 - accuracy: 0.5273 - val_loss: 1.1087 - val_accuracy: 0.5166\n",
      "Epoch 4/5\n",
      "2188/2188 [==============================] - 10s 4ms/step - loss: 1.0343 - accuracy: 0.5482 - val_loss: 1.1102 - val_accuracy: 0.5159\n",
      "Epoch 5/5\n",
      "2188/2188 [==============================] - 10s 4ms/step - loss: 1.0041 - accuracy: 0.5649 - val_loss: 1.1301 - val_accuracy: 0.5098\n",
      "3126/3126 [==============================] - 6s 2ms/step - loss: 1.1352 - accuracy: 0.5109\n",
      "[0.5109449028968811]\n",
      "Epoch 1/5\n",
      "2188/2188 [==============================] - 12s 5ms/step - loss: 1.2246 - accuracy: 0.4580 - val_loss: 1.1103 - val_accuracy: 0.5135\n",
      "Epoch 2/5\n",
      "2188/2188 [==============================] - 11s 5ms/step - loss: 1.0594 - accuracy: 0.5398 - val_loss: 1.1059 - val_accuracy: 0.5130\n",
      "Epoch 3/5\n",
      "2188/2188 [==============================] - 10s 5ms/step - loss: 1.0030 - accuracy: 0.5701 - val_loss: 1.1304 - val_accuracy: 0.5085\n",
      "Epoch 4/5\n",
      "2188/2188 [==============================] - 10s 5ms/step - loss: 0.9417 - accuracy: 0.6025 - val_loss: 1.1782 - val_accuracy: 0.4984\n",
      "Epoch 5/5\n",
      "2188/2188 [==============================] - 11s 5ms/step - loss: 0.8829 - accuracy: 0.6321 - val_loss: 1.2360 - val_accuracy: 0.4921\n",
      "3126/3126 [==============================] - 7s 2ms/step - loss: 1.2336 - accuracy: 0.4943\n",
      "[0.5109449028968811, 0.4943050444126129]\n",
      "Epoch 1/5\n",
      "2188/2188 [==============================] - 15s 7ms/step - loss: 1.2238 - accuracy: 0.4598 - val_loss: 1.1105 - val_accuracy: 0.5124\n",
      "Epoch 2/5\n",
      "2188/2188 [==============================] - 14s 6ms/step - loss: 1.0207 - accuracy: 0.5631 - val_loss: 1.1135 - val_accuracy: 0.5147\n",
      "Epoch 3/5\n",
      "2188/2188 [==============================] - 14s 6ms/step - loss: 0.8871 - accuracy: 0.6300 - val_loss: 1.2082 - val_accuracy: 0.4970\n",
      "Epoch 4/5\n",
      "2188/2188 [==============================] - 14s 6ms/step - loss: 0.7501 - accuracy: 0.6974 - val_loss: 1.3451 - val_accuracy: 0.4801\n",
      "Epoch 5/5\n",
      "2188/2188 [==============================] - 14s 6ms/step - loss: 0.6398 - accuracy: 0.7474 - val_loss: 1.5619 - val_accuracy: 0.4674\n",
      "3126/3126 [==============================] - 8s 2ms/step - loss: 1.5657 - accuracy: 0.4674\n",
      "[0.5109449028968811, 0.4943050444126129, 0.467355340719223]\n",
      "Epoch 1/5\n",
      "2188/2188 [==============================] - 21s 9ms/step - loss: 1.2025 - accuracy: 0.4661 - val_loss: 1.1006 - val_accuracy: 0.5150\n",
      "Epoch 2/5\n",
      "2188/2188 [==============================] - 20s 9ms/step - loss: 0.9545 - accuracy: 0.6036 - val_loss: 1.1691 - val_accuracy: 0.5013\n",
      "Epoch 3/5\n",
      "2188/2188 [==============================] - 20s 9ms/step - loss: 0.6913 - accuracy: 0.7271 - val_loss: 1.4143 - val_accuracy: 0.4761\n",
      "Epoch 4/5\n",
      "2188/2188 [==============================] - 20s 9ms/step - loss: 0.4902 - accuracy: 0.8152 - val_loss: 1.8464 - val_accuracy: 0.4475\n",
      "Epoch 5/5\n",
      "2188/2188 [==============================] - 20s 9ms/step - loss: 0.3678 - accuracy: 0.8641 - val_loss: 2.3333 - val_accuracy: 0.4470\n",
      "3126/3126 [==============================] - 9s 3ms/step - loss: 2.3408 - accuracy: 0.4463\n",
      "[0.5109449028968811, 0.4943050444126129, 0.467355340719223, 0.44632554054260254]\n",
      "Epoch 1/5\n",
      "2188/2188 [==============================] - 40s 18ms/step - loss: 1.1827 - accuracy: 0.4769 - val_loss: 1.1017 - val_accuracy: 0.5175\n",
      "Epoch 2/5\n",
      "2188/2188 [==============================] - 40s 18ms/step - loss: 0.8750 - accuracy: 0.6367 - val_loss: 1.2570 - val_accuracy: 0.4838\n",
      "Epoch 3/5\n",
      "2188/2188 [==============================] - 39s 18ms/step - loss: 0.5023 - accuracy: 0.8059 - val_loss: 1.7221 - val_accuracy: 0.4661\n",
      "Epoch 4/5\n",
      "2188/2188 [==============================] - 41s 19ms/step - loss: 0.2938 - accuracy: 0.8913 - val_loss: 2.3653 - val_accuracy: 0.4529\n",
      "Epoch 5/5\n",
      "2188/2188 [==============================] - 38s 18ms/step - loss: 0.1994 - accuracy: 0.9284 - val_loss: 2.9533 - val_accuracy: 0.4464\n",
      "3126/3126 [==============================] - 14s 4ms/step - loss: 2.9337 - accuracy: 0.4468\n",
      "[0.5109449028968811, 0.4943050444126129, 0.467355340719223, 0.44632554054260254, 0.4467855393886566]\n"
     ]
    }
   ],
   "source": [
    "from tensorflow.keras import Sequential\n",
    "from tensorflow.keras.layers import Dense, Embedding, Flatten, SimpleRNN, LSTM, Input, GRU, InputLayer, GlobalMaxPooling1D, Dropout\n",
    "\n",
    "eval_list = []\n",
    "\n",
    "for neuron in neurons:\n",
    "    model = Sequential([\n",
    "        Embedding(input_dim = vocab_size + 1 , output_dim = neuron , input_length = 250),\n",
    "        Flatten(),\n",
    "        Dense(neuron , activation = \"relu\"),\n",
    "        Dense(6 , activation = \"softmax\")\n",
    "    ])\n",
    "    \n",
    "    model.compile(loss = \"categorical_crossentropy\",\n",
    "                 optimizer = \"adam\",\n",
    "                 metrics = [\"accuracy\"]\n",
    "                 )\n",
    "    \n",
    "    history = model.fit(X_train , y_train ,epochs = 5 ,validation_data = (X_valid , y_valid))\n",
    "    \n",
    "    res = model.evaluate(X_eval , y_eval)\n",
    "    eval_list.append(res[1])\n",
    "    print(eval_list)"
   ]
  },
  {
   "cell_type": "code",
   "execution_count": 11,
   "id": "89510be4",
   "metadata": {
    "execution": {
     "iopub.execute_input": "2023-05-31T21:44:58.060601Z",
     "iopub.status.busy": "2023-05-31T21:44:58.060060Z",
     "iopub.status.idle": "2023-05-31T21:44:58.967285Z",
     "shell.execute_reply": "2023-05-31T21:44:58.966057Z"
    },
    "papermill": {
     "duration": 1.647536,
     "end_time": "2023-05-31T21:44:58.970176",
     "exception": false,
     "start_time": "2023-05-31T21:44:57.322640",
     "status": "completed"
    },
    "tags": []
   },
   "outputs": [
    {
     "data": {
      "image/png": "[encoded data removed]",
      "text/plain": [
       "<Figure size 640x480 with 1 Axes>"
      ]
     },
     "metadata": {},
     "output_type": "display_data"
    }
   ],
   "source": [
    "import matplotlib.pyplot as plt\n",
    "\n",
    "plt.figure()\n",
    "plt.plot(neurons , eval_list)\n",
    "plt.xlabel('neurons')\n",
    "plt.ylabel('accuracy')\n",
    "plt.title('Performance of Three layer ANN')\n",
    "plt.savefig('three-layer-ann.png')\n",
    "plt.show()"
   ]
  },
  {
   "cell_type": "code",
   "execution_count": 12,
   "id": "45ad12cd",
   "metadata": {
    "execution": {
     "iopub.execute_input": "2023-05-31T21:45:00.559350Z",
     "iopub.status.busy": "2023-05-31T21:45:00.558886Z",
     "iopub.status.idle": "2023-05-31T21:46:54.207853Z",
     "shell.execute_reply": "2023-05-31T21:46:54.204183Z"
    },
    "papermill": {
     "duration": 114.389691,
     "end_time": "2023-05-31T21:46:54.211572",
     "exception": false,
     "start_time": "2023-05-31T21:44:59.821881",
     "status": "completed"
    },
    "tags": []
   },
   "outputs": [
    {
     "name": "stdout",
     "output_type": "stream",
     "text": [
      "Epoch 1/5\n",
      "2188/2188 [==============================] - 24s 10ms/step - loss: 1.2449 - accuracy: 0.4606 - val_loss: 1.1414 - val_accuracy: 0.5121\n",
      "Epoch 2/5\n",
      "2188/2188 [==============================] - 22s 10ms/step - loss: 0.9898 - accuracy: 0.5824 - val_loss: 1.1747 - val_accuracy: 0.4942\n",
      "Epoch 3/5\n",
      "2188/2188 [==============================] - 23s 10ms/step - loss: 0.7233 - accuracy: 0.7128 - val_loss: 1.4020 - val_accuracy: 0.4768\n",
      "Epoch 4/5\n",
      "2188/2188 [==============================] - 22s 10ms/step - loss: 0.5039 - accuracy: 0.8118 - val_loss: 1.7093 - val_accuracy: 0.4667\n",
      "Epoch 5/5\n",
      "2188/2188 [==============================] - 22s 10ms/step - loss: 0.3531 - accuracy: 0.8743 - val_loss: 2.1966 - val_accuracy: 0.4562\n"
     ]
    }
   ],
   "source": [
    "model = Sequential([\n",
    "        Embedding(input_dim = vocab_size + 1 , output_dim = neuron , input_length = 250),\n",
    "        Flatten(),\n",
    "        Dense(4 , activation = \"relu\"),\n",
    "        Dense(6 , activation = \"softmax\")\n",
    "    ])\n",
    "    \n",
    "model.compile(loss = \"categorical_crossentropy\",\n",
    "                 optimizer = \"adam\",\n",
    "                 metrics = [\"accuracy\"]\n",
    "                 )\n",
    "    \n",
    "history = model.fit(X_train , y_train ,epochs = 5 ,validation_data = (X_valid , y_valid))"
   ]
  },
  {
   "cell_type": "code",
   "execution_count": 13,
   "id": "c5fc1eef",
   "metadata": {
    "execution": {
     "iopub.execute_input": "2023-05-31T21:46:56.189321Z",
     "iopub.status.busy": "2023-05-31T21:46:56.188840Z",
     "iopub.status.idle": "2023-05-31T21:47:06.602137Z",
     "shell.execute_reply": "2023-05-31T21:47:06.601137Z"
    },
    "papermill": {
     "duration": 11.345811,
     "end_time": "2023-05-31T21:47:06.604624",
     "exception": false,
     "start_time": "2023-05-31T21:46:55.258813",
     "status": "completed"
    },
    "tags": []
   },
   "outputs": [
    {
     "name": "stdout",
     "output_type": "stream",
     "text": [
      "3126/3126 [==============================] - 10s 3ms/step - loss: 2.1756 - accuracy: 0.4545\n"
     ]
    },
    {
     "data": {
      "text/plain": [
       "[2.175607919692993, 0.454475462436676]"
      ]
     },
     "execution_count": 13,
     "metadata": {},
     "output_type": "execute_result"
    }
   ],
   "source": [
    "model.evaluate(X_eval , y_eval)"
   ]
  },
  {
   "cell_type": "code",
   "execution_count": 14,
   "id": "47104c6b",
   "metadata": {
    "execution": {
     "iopub.execute_input": "2023-05-31T21:47:08.554655Z",
     "iopub.status.busy": "2023-05-31T21:47:08.554232Z",
     "iopub.status.idle": "2023-05-31T21:47:29.134971Z",
     "shell.execute_reply": "2023-05-31T21:47:29.133764Z"
    },
    "papermill": {
     "duration": 21.591615,
     "end_time": "2023-05-31T21:47:29.138286",
     "exception": false,
     "start_time": "2023-05-31T21:47:07.546671",
     "status": "completed"
    },
    "tags": []
   },
   "outputs": [
    {
     "name": "stdout",
     "output_type": "stream",
     "text": [
      "6250/6250 [==============================] - 17s 3ms/step\n"
     ]
    }
   ],
   "source": [
    "predictions = model.predict(X_eval_final)"
   ]
  },
  {
   "cell_type": "code",
   "execution_count": 15,
   "id": "45d3d6d5",
   "metadata": {
    "execution": {
     "iopub.execute_input": "2023-05-31T21:47:31.209314Z",
     "iopub.status.busy": "2023-05-31T21:47:31.207800Z",
     "iopub.status.idle": "2023-05-31T21:47:32.021896Z",
     "shell.execute_reply": "2023-05-31T21:47:32.020630Z"
    },
    "papermill": {
     "duration": 1.910668,
     "end_time": "2023-05-31T21:47:32.025204",
     "exception": false,
     "start_time": "2023-05-31T21:47:30.114536",
     "status": "completed"
    },
    "tags": []
   },
   "outputs": [
    {
     "name": "stderr",
     "output_type": "stream",
     "text": [
      "/tmp/ipykernel_20/157042034.py:5: SettingWithCopyWarning: \n",
      "A value is trying to be set on a copy of a slice from a DataFrame.\n",
      "Try using .loc[row_indexer,col_indexer] = value instead\n",
      "\n",
      "See the caveats in the documentation: https://pandas.pydata.org/pandas-docs/stable/user_guide/indexing.html#returning-a-view-versus-a-copy\n",
      "  submission_df['rating'] = final.astype(int)\n"
     ]
    }
   ],
   "source": [
    "# print submissions\n",
    "\n",
    "final = np.argmax(predictions, axis=1)\n",
    "submission_df = test_set[['review_id']]\n",
    "submission_df['rating'] = final.astype(int)\n",
    "submission_df.to_csv('submission.csv', index=False)"
   ]
  }
 ],
 "metadata": {
  "kernelspec": {
   "display_name": "Python 3",
   "language": "python",
   "name": "python3"
  },
  "language_info": {
   "codemirror_mode": {
    "name": "ipython",
    "version": 3
   },
   "file_extension": ".py",
   "mimetype": "text/x-python",
   "name": "python",
   "nbconvert_exporter": "python",
   "pygments_lexer": "ipython3",
   "version": "3.10.10"
  },
  "papermill": {
   "default_parameters": {},
   "duration": 967.965789,
   "end_time": "2023-05-31T21:47:36.678748",
   "environment_variables": {},
   "exception": null,
   "input_path": "__notebook__.ipynb",
   "output_path": "__notebook__.ipynb",
   "parameters": {},
   "start_time": "2023-05-31T21:31:28.712959",
   "version": "2.4.0"
  }
 },
 "nbformat": 4,
 "nbformat_minor": 5
}
