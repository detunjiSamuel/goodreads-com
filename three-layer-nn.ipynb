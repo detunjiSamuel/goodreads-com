{
 "cells": [
  {
   "cell_type": "code",
   "execution_count": 1,
   "id": "f06422bd",
   "metadata": {
    "_cell_guid": "b1076dfc-b9ad-4769-8c92-a6c4dae69d19",
    "_uuid": "8f2839f25d086af736a60e9eeb907d3b93b6e0e5",
    "execution": {
     "iopub.execute_input": "2023-05-31T14:15:30.887285Z",
     "iopub.status.busy": "2023-05-31T14:15:30.886756Z",
     "iopub.status.idle": "2023-05-31T14:15:30.903883Z",
     "shell.execute_reply": "2023-05-31T14:15:30.902410Z"
    },
    "papermill": {
     "duration": 0.026182,
     "end_time": "2023-05-31T14:15:30.906986",
     "exception": false,
     "start_time": "2023-05-31T14:15:30.880804",
     "status": "completed"
    },
    "tags": []
   },
   "outputs": [
    {
     "name": "stdout",
     "output_type": "stream",
     "text": [
      "/kaggle/input/cs985-cs987-goodread-class-project/my_goodreads_test.csv\n",
      "/kaggle/input/cs985-cs987-goodread-class-project/my_goodreads_train.csv\n",
      "/kaggle/input/cs985-cs987-goodread-class-project/my_goodreads_sample_submission.csv\n"
     ]
    }
   ],
   "source": [
    "### This Python 3 environment comes with many helpful analytics libraries installed\n",
    "# It is defined by the kaggle/python Docker image: https://github.com/kaggle/docker-python\n",
    "# For example, here's several helpful packages to load\n",
    "\n",
    "import numpy as np # linear algebra\n",
    "import pandas as pd # data processing, CSV file I/O (e.g. pd.read_csv)\n",
    "\n",
    "# Input data files are available in the read-only \"../input/\" directory\n",
    "# For example, running this (by clicking run or pressing Shift+Enter) will list all files under the input directory\n",
    "\n",
    "import os\n",
    "for dirname, _, filenames in os.walk('/kaggle/input'):\n",
    "    for filename in filenames:\n",
    "        print(os.path.join(dirname, filename))\n",
    "\n",
    "# You can write up to 20GB to the current directory (/kaggle/working/) that gets preserved as output when you create a version using \"Save & Run All\" \n",
    "# You can also write temporary files to /kaggle/temp/, but they won't be saved outside of the current session"
   ]
  },
  {
   "cell_type": "code",
   "execution_count": 2,
   "id": "cceb85be",
   "metadata": {
    "execution": {
     "iopub.execute_input": "2023-05-31T14:15:30.916536Z",
     "iopub.status.busy": "2023-05-31T14:15:30.916153Z",
     "iopub.status.idle": "2023-05-31T14:15:54.691608Z",
     "shell.execute_reply": "2023-05-31T14:15:54.690206Z"
    },
    "papermill": {
     "duration": 23.783828,
     "end_time": "2023-05-31T14:15:54.694827",
     "exception": false,
     "start_time": "2023-05-31T14:15:30.910999",
     "status": "completed"
    },
    "tags": []
   },
   "outputs": [],
   "source": [
    "test_set = pd.read_csv('/kaggle/input/cs985-cs987-goodread-class-project/my_goodreads_test.csv')\n",
    "train_set = pd.read_csv('/kaggle/input/cs985-cs987-goodread-class-project/my_goodreads_train.csv')"
   ]
  },
  {
   "cell_type": "code",
   "execution_count": 3,
   "id": "2e33a960",
   "metadata": {
    "execution": {
     "iopub.execute_input": "2023-05-31T14:15:54.705376Z",
     "iopub.status.busy": "2023-05-31T14:15:54.703968Z",
     "iopub.status.idle": "2023-05-31T14:15:56.994227Z",
     "shell.execute_reply": "2023-05-31T14:15:56.992259Z"
    },
    "papermill": {
     "duration": 2.298853,
     "end_time": "2023-05-31T14:15:56.997533",
     "exception": false,
     "start_time": "2023-05-31T14:15:54.698680",
     "status": "completed"
    },
    "tags": []
   },
   "outputs": [],
   "source": [
    "from nltk.corpus import stopwords\n",
    "\n",
    "stop = stopwords.words('english')"
   ]
  },
  {
   "cell_type": "code",
   "execution_count": 4,
   "id": "11d8669d",
   "metadata": {
    "execution": {
     "iopub.execute_input": "2023-05-31T14:15:57.007923Z",
     "iopub.status.busy": "2023-05-31T14:15:57.007195Z",
     "iopub.status.idle": "2023-05-31T14:22:29.418292Z",
     "shell.execute_reply": "2023-05-31T14:22:29.416942Z"
    },
    "papermill": {
     "duration": 392.419749,
     "end_time": "2023-05-31T14:22:29.421233",
     "exception": false,
     "start_time": "2023-05-31T14:15:57.001484",
     "status": "completed"
    },
    "tags": []
   },
   "outputs": [],
   "source": [
    "# remove stopwords from train and test set\n",
    "train_set['review_text'] = train_set['review_text'].apply(lambda x : ' '.join([word for word in x.split() if word not in (stop)]))\n",
    "\n",
    "test_set['review_text'] = test_set['review_text'].apply(lambda x : ' '.join([word for word in x.split() if word not in (stop)]))"
   ]
  },
  {
   "cell_type": "code",
   "execution_count": 5,
   "id": "a7ba4c31",
   "metadata": {
    "execution": {
     "iopub.execute_input": "2023-05-31T14:22:29.431139Z",
     "iopub.status.busy": "2023-05-31T14:22:29.430694Z",
     "iopub.status.idle": "2023-05-31T14:24:17.595409Z",
     "shell.execute_reply": "2023-05-31T14:24:17.594019Z"
    },
    "papermill": {
     "duration": 108.175669,
     "end_time": "2023-05-31T14:24:17.601223",
     "exception": false,
     "start_time": "2023-05-31T14:22:29.425554",
     "status": "completed"
    },
    "tags": []
   },
   "outputs": [
    {
     "name": "stderr",
     "output_type": "stream",
     "text": [
      "/opt/conda/lib/python3.10/site-packages/tensorflow_io/python/ops/__init__.py:98: UserWarning: unable to load libtensorflow_io_plugins.so: unable to open file: libtensorflow_io_plugins.so, from paths: ['/opt/conda/lib/python3.10/site-packages/tensorflow_io/python/ops/libtensorflow_io_plugins.so']\n",
      "caused by: ['/opt/conda/lib/python3.10/site-packages/tensorflow_io/python/ops/libtensorflow_io_plugins.so: undefined symbol: _ZN3tsl6StatusC1EN10tensorflow5error4CodeESt17basic_string_viewIcSt11char_traitsIcEENS_14SourceLocationE']\n",
      "  warnings.warn(f\"unable to load libtensorflow_io_plugins.so: {e}\")\n",
      "/opt/conda/lib/python3.10/site-packages/tensorflow_io/python/ops/__init__.py:104: UserWarning: file system plugins are not loaded: unable to open file: libtensorflow_io.so, from paths: ['/opt/conda/lib/python3.10/site-packages/tensorflow_io/python/ops/libtensorflow_io.so']\n",
      "caused by: ['/opt/conda/lib/python3.10/site-packages/tensorflow_io/python/ops/libtensorflow_io.so: undefined symbol: _ZTVN10tensorflow13GcsFileSystemE']\n",
      "  warnings.warn(f\"file system plugins are not loaded: {e}\")\n"
     ]
    },
    {
     "name": "stdout",
     "output_type": "stream",
     "text": [
      "314290\n"
     ]
    }
   ],
   "source": [
    "from keras.preprocessing.text import Tokenizer\n",
    "#fit tokenizer on training set\n",
    "vocab_size = 5000\n",
    "tokens = Tokenizer(num_words = vocab_size ,filters = '!\"#$%&()*+,-./:;<=>?@[\\]^_`{|}~' , lower = True)\n",
    "tokens.fit_on_texts(train_set['review_text'].values)\n",
    "word_indexes = tokens.word_index\n",
    "print(len(word_indexes))"
   ]
  },
  {
   "cell_type": "code",
   "execution_count": 6,
   "id": "6d9fcfe0",
   "metadata": {
    "execution": {
     "iopub.execute_input": "2023-05-31T14:24:17.611269Z",
     "iopub.status.busy": "2023-05-31T14:24:17.610398Z",
     "iopub.status.idle": "2023-05-31T14:25:35.550905Z",
     "shell.execute_reply": "2023-05-31T14:25:35.549647Z"
    },
    "papermill": {
     "duration": 77.948879,
     "end_time": "2023-05-31T14:25:35.554030",
     "exception": false,
     "start_time": "2023-05-31T14:24:17.605151",
     "status": "completed"
    },
    "tags": []
   },
   "outputs": [],
   "source": [
    "from tensorflow.keras.preprocessing.sequence import pad_sequences\n",
    "from tensorflow.keras.utils import to_categorical\n",
    "from sklearn.model_selection import train_test_split\n",
    "\n",
    "\n",
    "# tokenize train set and categorize labels (Train set)\n",
    "X = tokens.texts_to_sequences(train_set['review_text'].values)\n",
    "X = pad_sequences(X , maxlen = 250)\n",
    "y = to_categorical(train_set['rating'] , num_classes = 6)\n",
    "\n",
    "# split to train and eval set (Train set)\n",
    "X_train ,X_valid , y_train , y_valid = train_test_split(X , y ,test_size = 0.3 ,random_state = 42)"
   ]
  },
  {
   "cell_type": "code",
   "execution_count": 7,
   "id": "4a1d261a",
   "metadata": {
    "execution": {
     "iopub.execute_input": "2023-05-31T14:25:35.564080Z",
     "iopub.status.busy": "2023-05-31T14:25:35.563662Z",
     "iopub.status.idle": "2023-05-31T14:25:57.402487Z",
     "shell.execute_reply": "2023-05-31T14:25:57.401130Z"
    },
    "papermill": {
     "duration": 21.847011,
     "end_time": "2023-05-31T14:25:57.405359",
     "exception": false,
     "start_time": "2023-05-31T14:25:35.558348",
     "status": "completed"
    },
    "tags": []
   },
   "outputs": [],
   "source": [
    "# tokenze test set ( Test set)\n",
    "X_eval = tokens.texts_to_sequences(test_set['review_text'].values)\n",
    "X_eval = pad_sequences(X_eval , maxlen = 250 )"
   ]
  },
  {
   "cell_type": "code",
   "execution_count": null,
   "id": "b36e2355",
   "metadata": {
    "papermill": {
     "duration": 0.003531,
     "end_time": "2023-05-31T14:25:57.412895",
     "exception": false,
     "start_time": "2023-05-31T14:25:57.409364",
     "status": "completed"
    },
    "tags": []
   },
   "outputs": [],
   "source": []
  }
 ],
 "metadata": {
  "kernelspec": {
   "display_name": "Python 3",
   "language": "python",
   "name": "python3"
  },
  "language_info": {
   "codemirror_mode": {
    "name": "ipython",
    "version": 3
   },
   "file_extension": ".py",
   "mimetype": "text/x-python",
   "name": "python",
   "nbconvert_exporter": "python",
   "pygments_lexer": "ipython3",
   "version": "3.10.10"
  },
  "papermill": {
   "default_parameters": {},
   "duration": 643.176846,
   "end_time": "2023-05-31T14:26:01.112413",
   "environment_variables": {},
   "exception": null,
   "input_path": "__notebook__.ipynb",
   "output_path": "__notebook__.ipynb",
   "parameters": {},
   "start_time": "2023-05-31T14:15:17.935567",
   "version": "2.4.0"
  }
 },
 "nbformat": 4,
 "nbformat_minor": 5
}
