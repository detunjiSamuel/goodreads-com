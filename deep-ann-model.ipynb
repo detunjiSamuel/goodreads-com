{
 "cells": [
  {
   "cell_type": "code",
   "execution_count": 1,
   "id": "99506ce3",
   "metadata": {
    "_cell_guid": "b1076dfc-b9ad-4769-8c92-a6c4dae69d19",
    "_uuid": "8f2839f25d086af736a60e9eeb907d3b93b6e0e5",
    "execution": {
     "iopub.execute_input": "2023-05-31T23:22:23.815965Z",
     "iopub.status.busy": "2023-05-31T23:22:23.815400Z",
     "iopub.status.idle": "2023-05-31T23:22:23.834057Z",
     "shell.execute_reply": "2023-05-31T23:22:23.832731Z"
    },
    "papermill": {
     "duration": 0.030954,
     "end_time": "2023-05-31T23:22:23.836662",
     "exception": false,
     "start_time": "2023-05-31T23:22:23.805708",
     "status": "completed"
    },
    "tags": []
   },
   "outputs": [
    {
     "name": "stdout",
     "output_type": "stream",
     "text": [
      "/kaggle/input/cs985-cs987-goodread-class-project/my_goodreads_test.csv\n",
      "/kaggle/input/cs985-cs987-goodread-class-project/my_goodreads_train.csv\n",
      "/kaggle/input/cs985-cs987-goodread-class-project/my_goodreads_sample_submission.csv\n"
     ]
    }
   ],
   "source": [
    "# This Python 3 environment comes with many helpful analytics libraries installed\n",
    "# It is defined by the kaggle/python Docker image: https://github.com/kaggle/docker-python\n",
    "# For example, here's several helpful packages to load\n",
    "\n",
    "import numpy as np # linear algebra\n",
    "import pandas as pd # data processing, CSV file I/O (e.g. pd.read_csv)\n",
    "\n",
    "# Input data files are available in the read-only \"../input/\" directory\n",
    "# For example, running this (by clicking run or pressing Shift+Enter) will list all files under the input directory\n",
    "\n",
    "import os\n",
    "for dirname, _, filenames in os.walk('/kaggle/input'):\n",
    "    for filename in filenames:\n",
    "        print(os.path.join(dirname, filename))\n",
    "\n",
    "# You can write up to 20GB to the current directory (/kaggle/working/) that gets preserved as output when you create a version using \"Save & Run All\" \n",
    "# You can also write temporary files to /kaggle/temp/, but they won't be saved outside of the current session"
   ]
  },
  {
   "cell_type": "code",
   "execution_count": 2,
   "id": "c8abcdce",
   "metadata": {
    "execution": {
     "iopub.execute_input": "2023-05-31T23:22:23.851522Z",
     "iopub.status.busy": "2023-05-31T23:22:23.851098Z",
     "iopub.status.idle": "2023-05-31T23:22:49.203822Z",
     "shell.execute_reply": "2023-05-31T23:22:49.202278Z"
    },
    "papermill": {
     "duration": 25.364002,
     "end_time": "2023-05-31T23:22:49.207145",
     "exception": false,
     "start_time": "2023-05-31T23:22:23.843143",
     "status": "completed"
    },
    "tags": []
   },
   "outputs": [],
   "source": [
    "train_set = pd.read_csv('/kaggle/input/cs985-cs987-goodread-class-project/my_goodreads_train.csv')\n",
    "test_set = pd.read_csv('/kaggle/input/cs985-cs987-goodread-class-project/my_goodreads_test.csv')"
   ]
  },
  {
   "cell_type": "code",
   "execution_count": 3,
   "id": "446138b8",
   "metadata": {
    "execution": {
     "iopub.execute_input": "2023-05-31T23:22:49.222386Z",
     "iopub.status.busy": "2023-05-31T23:22:49.221999Z",
     "iopub.status.idle": "2023-05-31T23:22:49.227387Z",
     "shell.execute_reply": "2023-05-31T23:22:49.226155Z"
    },
    "papermill": {
     "duration": 0.015904,
     "end_time": "2023-05-31T23:22:49.229939",
     "exception": false,
     "start_time": "2023-05-31T23:22:49.214035",
     "status": "completed"
    },
    "tags": []
   },
   "outputs": [],
   "source": [
    "train_set = train_set[:200000]"
   ]
  },
  {
   "cell_type": "code",
   "execution_count": 4,
   "id": "32f78e74",
   "metadata": {
    "execution": {
     "iopub.execute_input": "2023-05-31T23:22:49.243953Z",
     "iopub.status.busy": "2023-05-31T23:22:49.243484Z",
     "iopub.status.idle": "2023-05-31T23:22:51.461711Z",
     "shell.execute_reply": "2023-05-31T23:22:51.460207Z"
    },
    "papermill": {
     "duration": 2.22869,
     "end_time": "2023-05-31T23:22:51.464760",
     "exception": false,
     "start_time": "2023-05-31T23:22:49.236070",
     "status": "completed"
    },
    "tags": []
   },
   "outputs": [],
   "source": [
    "from nltk.corpus import stopwords\n",
    "\n",
    "stop = stopwords.words('english')"
   ]
  },
  {
   "cell_type": "code",
   "execution_count": 5,
   "id": "45d789a9",
   "metadata": {
    "execution": {
     "iopub.execute_input": "2023-05-31T23:22:51.478953Z",
     "iopub.status.busy": "2023-05-31T23:22:51.478456Z",
     "iopub.status.idle": "2023-05-31T23:25:28.704699Z",
     "shell.execute_reply": "2023-05-31T23:25:28.703206Z"
    },
    "papermill": {
     "duration": 157.237223,
     "end_time": "2023-05-31T23:25:28.708183",
     "exception": false,
     "start_time": "2023-05-31T23:22:51.470960",
     "status": "completed"
    },
    "tags": []
   },
   "outputs": [],
   "source": [
    "# remove stopwords from train and test set\n",
    "train_set['review_text'] = train_set['review_text'].apply(lambda x : ' '.join([word for word in x.split() if word not in (stop)]))\n",
    "\n",
    "test_set['review_text'] = test_set['review_text'].apply(lambda x : ' '.join([word for word in x.split() if word not in (stop)]))"
   ]
  },
  {
   "cell_type": "code",
   "execution_count": 6,
   "id": "e8d7c58c",
   "metadata": {
    "execution": {
     "iopub.execute_input": "2023-05-31T23:25:28.723175Z",
     "iopub.status.busy": "2023-05-31T23:25:28.722720Z",
     "iopub.status.idle": "2023-05-31T23:26:05.133573Z",
     "shell.execute_reply": "2023-05-31T23:26:05.131755Z"
    },
    "papermill": {
     "duration": 36.426828,
     "end_time": "2023-05-31T23:26:05.141471",
     "exception": false,
     "start_time": "2023-05-31T23:25:28.714643",
     "status": "completed"
    },
    "tags": []
   },
   "outputs": [
    {
     "name": "stderr",
     "output_type": "stream",
     "text": [
      "/opt/conda/lib/python3.10/site-packages/tensorflow_io/python/ops/__init__.py:98: UserWarning: unable to load libtensorflow_io_plugins.so: unable to open file: libtensorflow_io_plugins.so, from paths: ['/opt/conda/lib/python3.10/site-packages/tensorflow_io/python/ops/libtensorflow_io_plugins.so']\n",
      "caused by: ['/opt/conda/lib/python3.10/site-packages/tensorflow_io/python/ops/libtensorflow_io_plugins.so: undefined symbol: _ZN3tsl6StatusC1EN10tensorflow5error4CodeESt17basic_string_viewIcSt11char_traitsIcEENS_14SourceLocationE']\n",
      "  warnings.warn(f\"unable to load libtensorflow_io_plugins.so: {e}\")\n",
      "/opt/conda/lib/python3.10/site-packages/tensorflow_io/python/ops/__init__.py:104: UserWarning: file system plugins are not loaded: unable to open file: libtensorflow_io.so, from paths: ['/opt/conda/lib/python3.10/site-packages/tensorflow_io/python/ops/libtensorflow_io.so']\n",
      "caused by: ['/opt/conda/lib/python3.10/site-packages/tensorflow_io/python/ops/libtensorflow_io.so: undefined symbol: _ZTVN10tensorflow13GcsFileSystemE']\n",
      "  warnings.warn(f\"file system plugins are not loaded: {e}\")\n"
     ]
    },
    {
     "name": "stdout",
     "output_type": "stream",
     "text": [
      "170832\n"
     ]
    }
   ],
   "source": [
    "from keras.preprocessing.text import Tokenizer\n",
    "#fit tokenizer on training set\n",
    "vocab_size = 5000\n",
    "tokens = Tokenizer(num_words = vocab_size ,filters = '!\"#$%&()*+,-./:;<=>?@[\\]^_`{|}~' , lower = True)\n",
    "tokens.fit_on_texts(train_set['review_text'].values)\n",
    "word_indexes = tokens.word_index\n",
    "print(len(word_indexes))"
   ]
  },
  {
   "cell_type": "code",
   "execution_count": 7,
   "id": "c0c8662d",
   "metadata": {
    "execution": {
     "iopub.execute_input": "2023-05-31T23:26:05.156392Z",
     "iopub.status.busy": "2023-05-31T23:26:05.155451Z",
     "iopub.status.idle": "2023-05-31T23:26:27.190779Z",
     "shell.execute_reply": "2023-05-31T23:26:27.189362Z"
    },
    "papermill": {
     "duration": 22.046161,
     "end_time": "2023-05-31T23:26:27.193700",
     "exception": false,
     "start_time": "2023-05-31T23:26:05.147539",
     "status": "completed"
    },
    "tags": []
   },
   "outputs": [],
   "source": [
    "from tensorflow.keras.preprocessing.sequence import pad_sequences\n",
    "from tensorflow.keras.utils import to_categorical\n",
    "from sklearn.model_selection import train_test_split\n",
    "\n",
    "\n",
    "# tokenize train set and categorize labels (Train set)\n",
    "X = tokens.texts_to_sequences(train_set['review_text'].values)\n",
    "X = pad_sequences(X , maxlen = 250)\n",
    "y = to_categorical(train_set['rating'] , num_classes = 6)\n",
    "\n",
    "X_eval, y_eval = X[-100001:], y[-100001:]\n",
    "X, y = X[:-100000], y[:-100000]\n",
    "\n",
    "# split to train and eval set (Train set)\n",
    "X_train ,X_valid , y_train , y_valid = train_test_split(X , y ,test_size = 0.3 ,random_state = 42)"
   ]
  },
  {
   "cell_type": "code",
   "execution_count": 8,
   "id": "791bbddb",
   "metadata": {
    "execution": {
     "iopub.execute_input": "2023-05-31T23:26:27.209122Z",
     "iopub.status.busy": "2023-05-31T23:26:27.207777Z",
     "iopub.status.idle": "2023-05-31T23:26:48.584237Z",
     "shell.execute_reply": "2023-05-31T23:26:48.582714Z"
    },
    "papermill": {
     "duration": 21.387642,
     "end_time": "2023-05-31T23:26:48.587684",
     "exception": false,
     "start_time": "2023-05-31T23:26:27.200042",
     "status": "completed"
    },
    "tags": []
   },
   "outputs": [],
   "source": [
    "# tokenze test set ( Test set)\n",
    "X_eval_final = tokens.texts_to_sequences(test_set['review_text'].values)\n",
    "X_eval_final = pad_sequences(X_eval_final , maxlen = 250 )"
   ]
  },
  {
   "cell_type": "markdown",
   "id": "50c48a77",
   "metadata": {
    "papermill": {
     "duration": 0.006264,
     "end_time": "2023-05-31T23:26:48.600584",
     "exception": false,
     "start_time": "2023-05-31T23:26:48.594320",
     "status": "completed"
    },
    "tags": []
   },
   "source": [
    "# layers"
   ]
  },
  {
   "cell_type": "code",
   "execution_count": 9,
   "id": "df6d1560",
   "metadata": {
    "execution": {
     "iopub.execute_input": "2023-05-31T23:26:48.615572Z",
     "iopub.status.busy": "2023-05-31T23:26:48.615099Z",
     "iopub.status.idle": "2023-05-31T23:26:48.623972Z",
     "shell.execute_reply": "2023-05-31T23:26:48.622720Z"
    },
    "papermill": {
     "duration": 0.019608,
     "end_time": "2023-05-31T23:26:48.626653",
     "exception": false,
     "start_time": "2023-05-31T23:26:48.607045",
     "status": "completed"
    },
    "tags": []
   },
   "outputs": [],
   "source": [
    "from tensorflow.keras import Sequential\n",
    "from tensorflow.keras.layers import Dense, Embedding, Dropout, Flatten, SimpleRNN, LSTM, Input, GRU, InputLayer, GlobalMaxPooling1D"
   ]
  },
  {
   "cell_type": "code",
   "execution_count": 10,
   "id": "2448eb39",
   "metadata": {
    "execution": {
     "iopub.execute_input": "2023-05-31T23:26:48.641056Z",
     "iopub.status.busy": "2023-05-31T23:26:48.640592Z",
     "iopub.status.idle": "2023-05-31T23:29:11.182160Z",
     "shell.execute_reply": "2023-05-31T23:29:11.180623Z"
    },
    "papermill": {
     "duration": 142.552304,
     "end_time": "2023-05-31T23:29:11.185335",
     "exception": false,
     "start_time": "2023-05-31T23:26:48.633031",
     "status": "completed"
    },
    "tags": []
   },
   "outputs": [
    {
     "name": "stdout",
     "output_type": "stream",
     "text": [
      "Epoch 1/5\n",
      "2188/2188 [==============================] - 9s 3ms/step - loss: 1.4930 - accuracy: 0.3238 - val_loss: 1.4347 - val_accuracy: 0.3434\n",
      "Epoch 2/5\n",
      "2188/2188 [==============================] - 8s 4ms/step - loss: 1.3114 - accuracy: 0.4296 - val_loss: 1.2337 - val_accuracy: 0.4665\n",
      "Epoch 3/5\n",
      "2188/2188 [==============================] - 7s 3ms/step - loss: 1.1984 - accuracy: 0.4797 - val_loss: 1.1998 - val_accuracy: 0.4740\n",
      "Epoch 4/5\n",
      "2188/2188 [==============================] - 7s 3ms/step - loss: 1.1644 - accuracy: 0.4922 - val_loss: 1.1865 - val_accuracy: 0.4786\n",
      "Epoch 5/5\n",
      "2188/2188 [==============================] - 7s 3ms/step - loss: 1.1408 - accuracy: 0.5026 - val_loss: 1.1809 - val_accuracy: 0.4791\n",
      "3126/3126 [==============================] - 6s 2ms/step - loss: 1.1844 - accuracy: 0.4768\n",
      "Epoch 1/5\n",
      "2188/2188 [==============================] - 10s 4ms/step - loss: 1.3351 - accuracy: 0.4004 - val_loss: 1.1569 - val_accuracy: 0.4822\n",
      "Epoch 2/5\n",
      "2188/2188 [==============================] - 7s 3ms/step - loss: 1.1022 - accuracy: 0.5115 - val_loss: 1.1200 - val_accuracy: 0.5040\n",
      "Epoch 3/5\n",
      "2188/2188 [==============================] - 8s 4ms/step - loss: 1.0495 - accuracy: 0.5399 - val_loss: 1.1192 - val_accuracy: 0.5094\n",
      "Epoch 4/5\n",
      "2188/2188 [==============================] - 7s 3ms/step - loss: 1.0169 - accuracy: 0.5569 - val_loss: 1.1331 - val_accuracy: 0.5044\n",
      "Epoch 5/5\n",
      "2188/2188 [==============================] - 8s 4ms/step - loss: 0.9913 - accuracy: 0.5698 - val_loss: 1.1519 - val_accuracy: 0.5010\n",
      "3126/3126 [==============================] - 5s 2ms/step - loss: 1.1546 - accuracy: 0.5005\n",
      "Epoch 1/5\n",
      "2188/2188 [==============================] - 8s 3ms/step - loss: 1.3709 - accuracy: 0.3881 - val_loss: 1.1994 - val_accuracy: 0.4749\n",
      "Epoch 2/5\n",
      "2188/2188 [==============================] - 7s 3ms/step - loss: 1.1244 - accuracy: 0.5078 - val_loss: 1.1201 - val_accuracy: 0.5113\n",
      "Epoch 3/5\n",
      "2188/2188 [==============================] - 7s 3ms/step - loss: 1.0462 - accuracy: 0.5469 - val_loss: 1.1157 - val_accuracy: 0.5162\n",
      "Epoch 4/5\n",
      "2188/2188 [==============================] - 8s 4ms/step - loss: 1.0071 - accuracy: 0.5657 - val_loss: 1.1354 - val_accuracy: 0.5041\n",
      "Epoch 5/5\n",
      "2188/2188 [==============================] - 7s 3ms/step - loss: 0.9791 - accuracy: 0.5794 - val_loss: 1.1456 - val_accuracy: 0.5071\n",
      "3126/3126 [==============================] - 6s 2ms/step - loss: 1.1492 - accuracy: 0.5039\n"
     ]
    }
   ],
   "source": [
    "\n",
    "activation_functions = ['sigmoid' , 'relu' , 'tanh']\n",
    "two_layer_histories = []\n",
    "\n",
    "for funct in activation_functions:\n",
    "    model_layer_1 = Sequential([\n",
    "        Embedding(vocab_size + 1 ,4 ,input_length = 250),\n",
    "        Flatten(),\n",
    "        Dense(4 , activation = funct),\n",
    "        Dense(4 , activation = funct),\n",
    "        Dense(6, activation='softmax')        \n",
    "    ])\n",
    "    \n",
    "    model_layer_1.compile(loss=\"categorical_crossentropy\",\n",
    "                  optimizer=\"Adam\",\n",
    "                  metrics=[\"accuracy\"])\n",
    "    \n",
    "    history_layer_1 = model_layer_1.fit(X_train, y_train, epochs=5, validation_data=(X_valid, y_valid))\n",
    "    \n",
    "    results_layer_1 = model_layer_1.evaluate(X_eval, y_eval)\n",
    "    \n",
    "    two_layer_histories.append(results_layer_1)\n",
    "    "
   ]
  },
  {
   "cell_type": "code",
   "execution_count": 11,
   "id": "68560b3f",
   "metadata": {
    "execution": {
     "iopub.execute_input": "2023-05-31T23:29:11.557255Z",
     "iopub.status.busy": "2023-05-31T23:29:11.556776Z",
     "iopub.status.idle": "2023-05-31T23:31:30.950568Z",
     "shell.execute_reply": "2023-05-31T23:31:30.949141Z"
    },
    "papermill": {
     "duration": 139.58325,
     "end_time": "2023-05-31T23:31:30.953651",
     "exception": false,
     "start_time": "2023-05-31T23:29:11.370401",
     "status": "completed"
    },
    "tags": []
   },
   "outputs": [
    {
     "name": "stdout",
     "output_type": "stream",
     "text": [
      "Epoch 1/5\n",
      "2188/2188 [==============================] - 10s 4ms/step - loss: 1.4654 - accuracy: 0.3456 - val_loss: 1.4436 - val_accuracy: 0.3434\n",
      "Epoch 2/5\n",
      "2188/2188 [==============================] - 7s 3ms/step - loss: 1.4105 - accuracy: 0.3791 - val_loss: 1.3363 - val_accuracy: 0.4343\n",
      "Epoch 3/5\n",
      "2188/2188 [==============================] - 8s 3ms/step - loss: 1.2870 - accuracy: 0.4504 - val_loss: 1.2772 - val_accuracy: 0.4541\n",
      "Epoch 4/5\n",
      "2188/2188 [==============================] - 8s 4ms/step - loss: 1.2332 - accuracy: 0.4806 - val_loss: 1.2467 - val_accuracy: 0.4667\n",
      "Epoch 5/5\n",
      "2188/2188 [==============================] - 8s 4ms/step - loss: 1.1959 - accuracy: 0.4951 - val_loss: 1.2263 - val_accuracy: 0.4749\n",
      "3126/3126 [==============================] - 6s 2ms/step - loss: 1.2265 - accuracy: 0.4742\n",
      "Epoch 1/5\n",
      "2188/2188 [==============================] - 10s 4ms/step - loss: 1.5449 - accuracy: 0.3457 - val_loss: 1.4719 - val_accuracy: 0.3434\n",
      "Epoch 2/5\n",
      "2188/2188 [==============================] - 7s 3ms/step - loss: 1.4582 - accuracy: 0.3468 - val_loss: 1.4511 - val_accuracy: 0.3434\n",
      "Epoch 3/5\n",
      "2188/2188 [==============================] - 9s 4ms/step - loss: 1.4464 - accuracy: 0.3468 - val_loss: 1.4448 - val_accuracy: 0.3434\n",
      "Epoch 4/5\n",
      "2188/2188 [==============================] - 7s 3ms/step - loss: 1.4423 - accuracy: 0.3468 - val_loss: 1.4423 - val_accuracy: 0.3434\n",
      "Epoch 5/5\n",
      "2188/2188 [==============================] - 8s 3ms/step - loss: 1.4407 - accuracy: 0.3468 - val_loss: 1.4414 - val_accuracy: 0.3434\n",
      "3126/3126 [==============================] - 6s 2ms/step - loss: 1.4389 - accuracy: 0.3487\n",
      "Epoch 1/5\n",
      "2188/2188 [==============================] - 8s 3ms/step - loss: 1.4602 - accuracy: 0.3468 - val_loss: 1.4219 - val_accuracy: 0.3480\n",
      "Epoch 2/5\n",
      "2188/2188 [==============================] - 8s 4ms/step - loss: 1.1979 - accuracy: 0.4665 - val_loss: 1.1345 - val_accuracy: 0.5014\n",
      "Epoch 3/5\n",
      "2188/2188 [==============================] - 7s 3ms/step - loss: 1.0764 - accuracy: 0.5357 - val_loss: 1.1149 - val_accuracy: 0.5149\n",
      "Epoch 4/5\n",
      "2188/2188 [==============================] - 7s 3ms/step - loss: 1.0306 - accuracy: 0.5615 - val_loss: 1.1403 - val_accuracy: 0.5017\n",
      "Epoch 5/5\n",
      "2188/2188 [==============================] - 9s 4ms/step - loss: 1.0000 - accuracy: 0.5765 - val_loss: 1.1375 - val_accuracy: 0.5097\n",
      "3126/3126 [==============================] - 6s 2ms/step - loss: 1.1414 - accuracy: 0.5093\n"
     ]
    }
   ],
   "source": [
    "three_layer_histories = []\n",
    "\n",
    "for funct in activation_functions:\n",
    "    model_layer_2 = Sequential([\n",
    "        Embedding(vocab_size + 1 ,4 ,input_length = 250),\n",
    "        Flatten(),\n",
    "        Dense(4 , activation = funct),\n",
    "        Dense(4 , activation = funct),\n",
    "        Dense(4 , activation = funct),\n",
    "        Dense(6, activation='softmax')        \n",
    "    ])\n",
    "    \n",
    "    model_layer_2.compile(loss=\"categorical_crossentropy\",\n",
    "                  optimizer=\"Adam\",\n",
    "                  metrics=[\"accuracy\"])\n",
    "    \n",
    "    history_layer_2 = model_layer_2.fit(X_train, y_train, epochs=5, validation_data=(X_valid, y_valid))\n",
    "    \n",
    "    results_layer_2 = model_layer_2.evaluate(X_eval, y_eval)\n",
    "    \n",
    "    three_layer_histories.append(results_layer_2)\n",
    "\n"
   ]
  },
  {
   "cell_type": "code",
   "execution_count": 12,
   "id": "c1c5a2b7",
   "metadata": {
    "execution": {
     "iopub.execute_input": "2023-05-31T23:31:31.736384Z",
     "iopub.status.busy": "2023-05-31T23:31:31.735631Z",
     "iopub.status.idle": "2023-05-31T23:34:04.229213Z",
     "shell.execute_reply": "2023-05-31T23:34:04.227689Z"
    },
    "papermill": {
     "duration": 152.898045,
     "end_time": "2023-05-31T23:34:04.232289",
     "exception": false,
     "start_time": "2023-05-31T23:31:31.334244",
     "status": "completed"
    },
    "tags": []
   },
   "outputs": [
    {
     "name": "stdout",
     "output_type": "stream",
     "text": [
      "Epoch 1/5\n",
      "2188/2188 [==============================] - 9s 4ms/step - loss: 1.4945 - accuracy: 0.3253 - val_loss: 1.4449 - val_accuracy: 0.3434\n",
      "Epoch 2/5\n",
      "2188/2188 [==============================] - 8s 4ms/step - loss: 1.4237 - accuracy: 0.3783 - val_loss: 1.3674 - val_accuracy: 0.4366\n",
      "Epoch 3/5\n",
      "2188/2188 [==============================] - 8s 4ms/step - loss: 1.3259 - accuracy: 0.4543 - val_loss: 1.3279 - val_accuracy: 0.4417\n",
      "Epoch 4/5\n",
      "2188/2188 [==============================] - 9s 4ms/step - loss: 1.2831 - accuracy: 0.4642 - val_loss: 1.2998 - val_accuracy: 0.4402\n",
      "Epoch 5/5\n",
      "2188/2188 [==============================] - 8s 4ms/step - loss: 1.2515 - accuracy: 0.4689 - val_loss: 1.2832 - val_accuracy: 0.4451\n",
      "3126/3126 [==============================] - 6s 2ms/step - loss: 1.2762 - accuracy: 0.4477\n",
      "Epoch 1/5\n",
      "2188/2188 [==============================] - 9s 4ms/step - loss: 1.3517 - accuracy: 0.3826 - val_loss: 1.2041 - val_accuracy: 0.4490\n",
      "Epoch 2/5\n",
      "2188/2188 [==============================] - 8s 4ms/step - loss: 1.1772 - accuracy: 0.4666 - val_loss: 1.1762 - val_accuracy: 0.4692\n",
      "Epoch 3/5\n",
      "2188/2188 [==============================] - 9s 4ms/step - loss: 1.1280 - accuracy: 0.4939 - val_loss: 1.1451 - val_accuracy: 0.4902\n",
      "Epoch 4/5\n",
      "2188/2188 [==============================] - 8s 3ms/step - loss: 1.0633 - accuracy: 0.5291 - val_loss: 1.1301 - val_accuracy: 0.5036\n",
      "Epoch 5/5\n",
      "2188/2188 [==============================] - 9s 4ms/step - loss: 1.0196 - accuracy: 0.5562 - val_loss: 1.1510 - val_accuracy: 0.4973\n",
      "3126/3126 [==============================] - 5s 2ms/step - loss: 1.1595 - accuracy: 0.4940\n",
      "Epoch 1/5\n",
      "2188/2188 [==============================] - 9s 4ms/step - loss: 1.3729 - accuracy: 0.3941 - val_loss: 1.2051 - val_accuracy: 0.4708\n",
      "Epoch 2/5\n",
      "2188/2188 [==============================] - 9s 4ms/step - loss: 1.1384 - accuracy: 0.5036 - val_loss: 1.1210 - val_accuracy: 0.5107\n",
      "Epoch 3/5\n",
      "2188/2188 [==============================] - 8s 4ms/step - loss: 1.0539 - accuracy: 0.5474 - val_loss: 1.1308 - val_accuracy: 0.5038\n",
      "Epoch 4/5\n",
      "2188/2188 [==============================] - 9s 4ms/step - loss: 1.0146 - accuracy: 0.5702 - val_loss: 1.1382 - val_accuracy: 0.5072\n",
      "Epoch 5/5\n",
      "2188/2188 [==============================] - 8s 3ms/step - loss: 0.9883 - accuracy: 0.5843 - val_loss: 1.1548 - val_accuracy: 0.5025\n",
      "3126/3126 [==============================] - 6s 2ms/step - loss: 1.1582 - accuracy: 0.5039\n"
     ]
    }
   ],
   "source": [
    "four_layer_histories = []\n",
    "\n",
    "for funct in activation_functions:\n",
    "    model_layer_3 = Sequential([\n",
    "        Embedding(vocab_size + 1 ,4 ,input_length = 250),\n",
    "        Flatten(),\n",
    "        Dense(4 , activation = funct),\n",
    "        Dense(4 , activation = funct),\n",
    "        Dense(4 , activation = funct),\n",
    "        Dense(4 , activation = funct),\n",
    "        Dense(6, activation='softmax')        \n",
    "    ])\n",
    "    \n",
    "    model_layer_3.compile(loss=\"categorical_crossentropy\",\n",
    "                  optimizer=\"Adam\",\n",
    "                  metrics=[\"accuracy\"])\n",
    "    \n",
    "    history_layer_3 = model_layer_3.fit(X_train, y_train, epochs=5, validation_data=(X_valid, y_valid))\n",
    "    \n",
    "    results_layer_3 = model_layer_3.evaluate(X_eval, y_eval)\n",
    "    \n",
    "    four_layer_histories.append(results_layer_3)\n",
    "\n"
   ]
  },
  {
   "cell_type": "code",
   "execution_count": 13,
   "id": "e9d0ab86",
   "metadata": {
    "execution": {
     "iopub.execute_input": "2023-05-31T23:34:05.370247Z",
     "iopub.status.busy": "2023-05-31T23:34:05.369116Z",
     "iopub.status.idle": "2023-05-31T23:34:05.377631Z",
     "shell.execute_reply": "2023-05-31T23:34:05.376855Z"
    },
    "papermill": {
     "duration": 0.579981,
     "end_time": "2023-05-31T23:34:05.380002",
     "exception": false,
     "start_time": "2023-05-31T23:34:04.800021",
     "status": "completed"
    },
    "tags": []
   },
   "outputs": [],
   "source": [
    "tanh_results = [two_layer_histories[0][1], three_layer_histories[0][1], four_layer_histories[0][1]]\n",
    "relu_results = [two_layer_histories[1][1], three_layer_histories[1][1], four_layer_histories[1][1]]\n",
    "sigmoid_results = [two_layer_histories[2][1], three_layer_histories[2][1], four_layer_histories[2][1]]"
   ]
  },
  {
   "cell_type": "code",
   "execution_count": 14,
   "id": "d9f2241b",
   "metadata": {
    "execution": {
     "iopub.execute_input": "2023-05-31T23:34:06.519066Z",
     "iopub.status.busy": "2023-05-31T23:34:06.517593Z",
     "iopub.status.idle": "2023-05-31T23:34:07.054302Z",
     "shell.execute_reply": "2023-05-31T23:34:07.052901Z"
    },
    "papermill": {
     "duration": 1.103201,
     "end_time": "2023-05-31T23:34:07.056979",
     "exception": false,
     "start_time": "2023-05-31T23:34:05.953778",
     "status": "completed"
    },
    "tags": []
   },
   "outputs": [
    {
     "data": {
      "image/png": "[encoded data removed]",
      "text/plain": [
       "<Figure size 640x480 with 1 Axes>"
      ]
     },
     "metadata": {},
     "output_type": "display_data"
    }
   ],
   "source": [
    "import matplotlib.pyplot as plt\n",
    "\n",
    "layers = [2, 3, 4]\n",
    "# plot\n",
    "plt.figure()\n",
    "plt.plot(layers, tanh_results, label='tanh')\n",
    "plt.plot(layers, relu_results, label='relu')\n",
    "plt.plot(layers, sigmoid_results, label='sigmoid')\n",
    "plt.xlabel('Number of layers')\n",
    "plt.ylabel('Evaluation set accuracy')\n",
    "plt.legend()\n",
    "plt.title('Performance of Deep Neural Networks')\n",
    "plt.savefig('deep-nn.png')\n",
    "plt.show()"
   ]
  },
  {
   "cell_type": "code",
   "execution_count": null,
   "id": "f05fe299",
   "metadata": {
    "papermill": {
     "duration": 0.689522,
     "end_time": "2023-05-31T23:34:08.311935",
     "exception": false,
     "start_time": "2023-05-31T23:34:07.622413",
     "status": "completed"
    },
    "tags": []
   },
   "outputs": [],
   "source": []
  }
 ],
 "metadata": {
  "kernelspec": {
   "display_name": "Python 3",
   "language": "python",
   "name": "python3"
  },
  "language_info": {
   "codemirror_mode": {
    "name": "ipython",
    "version": 3
   },
   "file_extension": ".py",
   "mimetype": "text/x-python",
   "name": "python",
   "nbconvert_exporter": "python",
   "pygments_lexer": "ipython3",
   "version": "3.10.10"
  },
  "papermill": {
   "default_parameters": {},
   "duration": 721.331123,
   "end_time": "2023-05-31T23:34:12.132611",
   "environment_variables": {},
   "exception": null,
   "input_path": "__notebook__.ipynb",
   "output_path": "__notebook__.ipynb",
   "parameters": {},
   "start_time": "2023-05-31T23:22:10.801488",
   "version": "2.4.0"
  }
 },
 "nbformat": 4,
 "nbformat_minor": 5
}
