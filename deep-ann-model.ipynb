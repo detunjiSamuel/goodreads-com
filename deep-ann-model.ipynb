{
 "cells": [
  {
   "cell_type": "code",
   "execution_count": 1,
   "id": "9db6c2ba",
   "metadata": {
    "_cell_guid": "b1076dfc-b9ad-4769-8c92-a6c4dae69d19",
    "_uuid": "8f2839f25d086af736a60e9eeb907d3b93b6e0e5",
    "execution": {
     "iopub.execute_input": "2023-05-31T22:43:02.815158Z",
     "iopub.status.busy": "2023-05-31T22:43:02.814765Z",
     "iopub.status.idle": "2023-05-31T22:43:02.829212Z",
     "shell.execute_reply": "2023-05-31T22:43:02.828075Z"
    },
    "papermill": {
     "duration": 0.024089,
     "end_time": "2023-05-31T22:43:02.831879",
     "exception": false,
     "start_time": "2023-05-31T22:43:02.807790",
     "status": "completed"
    },
    "tags": []
   },
   "outputs": [
    {
     "name": "stdout",
     "output_type": "stream",
     "text": [
      "/kaggle/input/cs985-cs987-goodread-class-project/my_goodreads_test.csv\n",
      "/kaggle/input/cs985-cs987-goodread-class-project/my_goodreads_train.csv\n",
      "/kaggle/input/cs985-cs987-goodread-class-project/my_goodreads_sample_submission.csv\n"
     ]
    }
   ],
   "source": [
    "# This Python 3 environment comes with many helpful analytics libraries installed\n",
    "# It is defined by the kaggle/python Docker image: https://github.com/kaggle/docker-python\n",
    "# For example, here's several helpful packages to load\n",
    "\n",
    "import numpy as np # linear algebra\n",
    "import pandas as pd # data processing, CSV file I/O (e.g. pd.read_csv)\n",
    "\n",
    "# Input data files are available in the read-only \"../input/\" directory\n",
    "# For example, running this (by clicking run or pressing Shift+Enter) will list all files under the input directory\n",
    "\n",
    "import os\n",
    "for dirname, _, filenames in os.walk('/kaggle/input'):\n",
    "    for filename in filenames:\n",
    "        print(os.path.join(dirname, filename))\n",
    "\n",
    "# You can write up to 20GB to the current directory (/kaggle/working/) that gets preserved as output when you create a version using \"Save & Run All\" \n",
    "# You can also write temporary files to /kaggle/temp/, but they won't be saved outside of the current session"
   ]
  },
  {
   "cell_type": "code",
   "execution_count": 2,
   "id": "59904b2a",
   "metadata": {
    "execution": {
     "iopub.execute_input": "2023-05-31T22:43:02.843546Z",
     "iopub.status.busy": "2023-05-31T22:43:02.843126Z",
     "iopub.status.idle": "2023-05-31T22:43:28.685553Z",
     "shell.execute_reply": "2023-05-31T22:43:28.684220Z"
    },
    "papermill": {
     "duration": 25.851628,
     "end_time": "2023-05-31T22:43:28.688549",
     "exception": false,
     "start_time": "2023-05-31T22:43:02.836921",
     "status": "completed"
    },
    "tags": []
   },
   "outputs": [],
   "source": [
    "train_set = pd.read_csv('/kaggle/input/cs985-cs987-goodread-class-project/my_goodreads_train.csv')\n",
    "test_set = pd.read_csv('/kaggle/input/cs985-cs987-goodread-class-project/my_goodreads_test.csv')"
   ]
  },
  {
   "cell_type": "code",
   "execution_count": 3,
   "id": "dcccf55c",
   "metadata": {
    "execution": {
     "iopub.execute_input": "2023-05-31T22:43:28.700513Z",
     "iopub.status.busy": "2023-05-31T22:43:28.699785Z",
     "iopub.status.idle": "2023-05-31T22:43:28.704856Z",
     "shell.execute_reply": "2023-05-31T22:43:28.704002Z"
    },
    "papermill": {
     "duration": 0.013788,
     "end_time": "2023-05-31T22:43:28.707300",
     "exception": false,
     "start_time": "2023-05-31T22:43:28.693512",
     "status": "completed"
    },
    "tags": []
   },
   "outputs": [],
   "source": [
    "train_set = train_set[:200000]"
   ]
  },
  {
   "cell_type": "code",
   "execution_count": 4,
   "id": "04cf02a4",
   "metadata": {
    "execution": {
     "iopub.execute_input": "2023-05-31T22:43:28.718998Z",
     "iopub.status.busy": "2023-05-31T22:43:28.718585Z",
     "iopub.status.idle": "2023-05-31T22:43:30.911149Z",
     "shell.execute_reply": "2023-05-31T22:43:30.909877Z"
    },
    "papermill": {
     "duration": 2.201951,
     "end_time": "2023-05-31T22:43:30.914178",
     "exception": false,
     "start_time": "2023-05-31T22:43:28.712227",
     "status": "completed"
    },
    "tags": []
   },
   "outputs": [],
   "source": [
    "from nltk.corpus import stopwords\n",
    "\n",
    "stop = stopwords.words('english')"
   ]
  },
  {
   "cell_type": "code",
   "execution_count": 5,
   "id": "61bf6be9",
   "metadata": {
    "execution": {
     "iopub.execute_input": "2023-05-31T22:43:30.925697Z",
     "iopub.status.busy": "2023-05-31T22:43:30.925300Z",
     "iopub.status.idle": "2023-05-31T22:46:07.622324Z",
     "shell.execute_reply": "2023-05-31T22:46:07.621277Z"
    },
    "papermill": {
     "duration": 156.705979,
     "end_time": "2023-05-31T22:46:07.625147",
     "exception": false,
     "start_time": "2023-05-31T22:43:30.919168",
     "status": "completed"
    },
    "tags": []
   },
   "outputs": [],
   "source": [
    "# remove stopwords from train and test set\n",
    "train_set['review_text'] = train_set['review_text'].apply(lambda x : ' '.join([word for word in x.split() if word not in (stop)]))\n",
    "\n",
    "test_set['review_text'] = test_set['review_text'].apply(lambda x : ' '.join([word for word in x.split() if word not in (stop)]))"
   ]
  },
  {
   "cell_type": "code",
   "execution_count": 6,
   "id": "c271a0f2",
   "metadata": {
    "execution": {
     "iopub.execute_input": "2023-05-31T22:46:07.636755Z",
     "iopub.status.busy": "2023-05-31T22:46:07.636155Z",
     "iopub.status.idle": "2023-05-31T22:46:42.073618Z",
     "shell.execute_reply": "2023-05-31T22:46:42.072227Z"
    },
    "papermill": {
     "duration": 34.451412,
     "end_time": "2023-05-31T22:46:42.081467",
     "exception": false,
     "start_time": "2023-05-31T22:46:07.630055",
     "status": "completed"
    },
    "tags": []
   },
   "outputs": [
    {
     "name": "stderr",
     "output_type": "stream",
     "text": [
      "/opt/conda/lib/python3.10/site-packages/tensorflow_io/python/ops/__init__.py:98: UserWarning: unable to load libtensorflow_io_plugins.so: unable to open file: libtensorflow_io_plugins.so, from paths: ['/opt/conda/lib/python3.10/site-packages/tensorflow_io/python/ops/libtensorflow_io_plugins.so']\n",
      "caused by: ['/opt/conda/lib/python3.10/site-packages/tensorflow_io/python/ops/libtensorflow_io_plugins.so: undefined symbol: _ZN3tsl6StatusC1EN10tensorflow5error4CodeESt17basic_string_viewIcSt11char_traitsIcEENS_14SourceLocationE']\n",
      "  warnings.warn(f\"unable to load libtensorflow_io_plugins.so: {e}\")\n",
      "/opt/conda/lib/python3.10/site-packages/tensorflow_io/python/ops/__init__.py:104: UserWarning: file system plugins are not loaded: unable to open file: libtensorflow_io.so, from paths: ['/opt/conda/lib/python3.10/site-packages/tensorflow_io/python/ops/libtensorflow_io.so']\n",
      "caused by: ['/opt/conda/lib/python3.10/site-packages/tensorflow_io/python/ops/libtensorflow_io.so: undefined symbol: _ZTVN10tensorflow13GcsFileSystemE']\n",
      "  warnings.warn(f\"file system plugins are not loaded: {e}\")\n"
     ]
    },
    {
     "name": "stdout",
     "output_type": "stream",
     "text": [
      "170832\n"
     ]
    }
   ],
   "source": [
    "from keras.preprocessing.text import Tokenizer\n",
    "#fit tokenizer on training set\n",
    "vocab_size = 5000\n",
    "tokens = Tokenizer(num_words = vocab_size ,filters = '!\"#$%&()*+,-./:;<=>?@[\\]^_`{|}~' , lower = True)\n",
    "tokens.fit_on_texts(train_set['review_text'].values)\n",
    "word_indexes = tokens.word_index\n",
    "print(len(word_indexes))"
   ]
  },
  {
   "cell_type": "code",
   "execution_count": 7,
   "id": "76f8c8df",
   "metadata": {
    "execution": {
     "iopub.execute_input": "2023-05-31T22:46:42.096429Z",
     "iopub.status.busy": "2023-05-31T22:46:42.095061Z",
     "iopub.status.idle": "2023-05-31T22:47:03.396566Z",
     "shell.execute_reply": "2023-05-31T22:47:03.395305Z"
    },
    "papermill": {
     "duration": 21.31071,
     "end_time": "2023-05-31T22:47:03.399409",
     "exception": false,
     "start_time": "2023-05-31T22:46:42.088699",
     "status": "completed"
    },
    "tags": []
   },
   "outputs": [],
   "source": [
    "from tensorflow.keras.preprocessing.sequence import pad_sequences\n",
    "from tensorflow.keras.utils import to_categorical\n",
    "from sklearn.model_selection import train_test_split\n",
    "\n",
    "\n",
    "# tokenize train set and categorize labels (Train set)\n",
    "X = tokens.texts_to_sequences(train_set['review_text'].values)\n",
    "X = pad_sequences(X , maxlen = 250)\n",
    "y = to_categorical(train_set['rating'] , num_classes = 6)\n",
    "\n",
    "X_eval, y_eval = X[-100001:], y[-100001:]\n",
    "X, y = X[:-100000], y[:-100000]\n",
    "\n",
    "# split to train and eval set (Train set)\n",
    "X_train ,X_valid , y_train , y_valid = train_test_split(X , y ,test_size = 0.3 ,random_state = 42)"
   ]
  },
  {
   "cell_type": "code",
   "execution_count": 8,
   "id": "a2fa8d26",
   "metadata": {
    "execution": {
     "iopub.execute_input": "2023-05-31T22:47:03.411312Z",
     "iopub.status.busy": "2023-05-31T22:47:03.410907Z",
     "iopub.status.idle": "2023-05-31T22:47:23.861060Z",
     "shell.execute_reply": "2023-05-31T22:47:23.859863Z"
    },
    "papermill": {
     "duration": 20.459484,
     "end_time": "2023-05-31T22:47:23.863988",
     "exception": false,
     "start_time": "2023-05-31T22:47:03.404504",
     "status": "completed"
    },
    "tags": []
   },
   "outputs": [],
   "source": [
    "# tokenze test set ( Test set)\n",
    "X_eval_final = tokens.texts_to_sequences(test_set['review_text'].values)\n",
    "X_eval_final = pad_sequences(X_eval_final , maxlen = 250 )"
   ]
  },
  {
   "cell_type": "markdown",
   "id": "d04111be",
   "metadata": {
    "papermill": {
     "duration": 0.004654,
     "end_time": "2023-05-31T22:47:23.873991",
     "exception": false,
     "start_time": "2023-05-31T22:47:23.869337",
     "status": "completed"
    },
    "tags": []
   },
   "source": [
    "# layers"
   ]
  },
  {
   "cell_type": "code",
   "execution_count": 9,
   "id": "e69e461c",
   "metadata": {
    "execution": {
     "iopub.execute_input": "2023-05-31T22:47:23.885752Z",
     "iopub.status.busy": "2023-05-31T22:47:23.885304Z",
     "iopub.status.idle": "2023-05-31T22:47:23.892198Z",
     "shell.execute_reply": "2023-05-31T22:47:23.891162Z"
    },
    "papermill": {
     "duration": 0.015844,
     "end_time": "2023-05-31T22:47:23.894778",
     "exception": false,
     "start_time": "2023-05-31T22:47:23.878934",
     "status": "completed"
    },
    "tags": []
   },
   "outputs": [],
   "source": [
    "from tensorflow.keras import Sequential\n",
    "from tensorflow.keras.layers import Dense, Embedding, Dropout, Flatten, SimpleRNN, LSTM, Input, GRU, InputLayer, GlobalMaxPooling1D"
   ]
  },
  {
   "cell_type": "code",
   "execution_count": 10,
   "id": "f5e40619",
   "metadata": {
    "execution": {
     "iopub.execute_input": "2023-05-31T22:47:23.906720Z",
     "iopub.status.busy": "2023-05-31T22:47:23.906326Z",
     "iopub.status.idle": "2023-05-31T22:49:33.056443Z",
     "shell.execute_reply": "2023-05-31T22:49:33.055238Z"
    },
    "papermill": {
     "duration": 129.1596,
     "end_time": "2023-05-31T22:49:33.059527",
     "exception": false,
     "start_time": "2023-05-31T22:47:23.899927",
     "status": "completed"
    },
    "tags": []
   },
   "outputs": [
    {
     "name": "stdout",
     "output_type": "stream",
     "text": [
      "Epoch 1/5\n",
      "2188/2188 [==============================] - 9s 4ms/step - loss: 1.4830 - accuracy: 0.3352 - val_loss: 1.4444 - val_accuracy: 0.3434\n",
      "Epoch 2/5\n",
      "2188/2188 [==============================] - 6s 3ms/step - loss: 1.2904 - accuracy: 0.4108 - val_loss: 1.2281 - val_accuracy: 0.4470\n",
      "Epoch 3/5\n",
      "2188/2188 [==============================] - 6s 3ms/step - loss: 1.1959 - accuracy: 0.4617 - val_loss: 1.2056 - val_accuracy: 0.4552\n",
      "Epoch 4/5\n",
      "2188/2188 [==============================] - 7s 3ms/step - loss: 1.1716 - accuracy: 0.4764 - val_loss: 1.1986 - val_accuracy: 0.4621\n",
      "Epoch 5/5\n",
      "2188/2188 [==============================] - 7s 3ms/step - loss: 1.1565 - accuracy: 0.4849 - val_loss: 1.1948 - val_accuracy: 0.4677\n",
      "3126/3126 [==============================] - 5s 2ms/step - loss: 1.1983 - accuracy: 0.4642\n",
      "Epoch 1/5\n",
      "2188/2188 [==============================] - 7s 3ms/step - loss: 1.3117 - accuracy: 0.4132 - val_loss: 1.1635 - val_accuracy: 0.4889\n",
      "Epoch 2/5\n",
      "2188/2188 [==============================] - 8s 4ms/step - loss: 1.1088 - accuracy: 0.5145 - val_loss: 1.1181 - val_accuracy: 0.5126\n",
      "Epoch 3/5\n",
      "2188/2188 [==============================] - 7s 3ms/step - loss: 1.0538 - accuracy: 0.5458 - val_loss: 1.1144 - val_accuracy: 0.5167\n",
      "Epoch 4/5\n",
      "2188/2188 [==============================] - 7s 3ms/step - loss: 1.0196 - accuracy: 0.5666 - val_loss: 1.1262 - val_accuracy: 0.5089\n",
      "Epoch 5/5\n",
      "2188/2188 [==============================] - 6s 3ms/step - loss: 0.9937 - accuracy: 0.5783 - val_loss: 1.1442 - val_accuracy: 0.5101\n",
      "3126/3126 [==============================] - 5s 2ms/step - loss: 1.1487 - accuracy: 0.5072\n",
      "Epoch 1/5\n",
      "2188/2188 [==============================] - 8s 3ms/step - loss: 1.3316 - accuracy: 0.4116 - val_loss: 1.2070 - val_accuracy: 0.4625\n",
      "Epoch 2/5\n",
      "2188/2188 [==============================] - 6s 3ms/step - loss: 1.1578 - accuracy: 0.4876 - val_loss: 1.1551 - val_accuracy: 0.4880\n",
      "Epoch 3/5\n",
      "2188/2188 [==============================] - 8s 3ms/step - loss: 1.0746 - accuracy: 0.5289 - val_loss: 1.1306 - val_accuracy: 0.5055\n",
      "Epoch 4/5\n",
      "2188/2188 [==============================] - 6s 3ms/step - loss: 1.0191 - accuracy: 0.5613 - val_loss: 1.1388 - val_accuracy: 0.5057\n",
      "Epoch 5/5\n",
      "2188/2188 [==============================] - 6s 3ms/step - loss: 0.9874 - accuracy: 0.5792 - val_loss: 1.1513 - val_accuracy: 0.5049\n",
      "3126/3126 [==============================] - 5s 2ms/step - loss: 1.1561 - accuracy: 0.5024\n"
     ]
    }
   ],
   "source": [
    "\n",
    "activation_functions = ['sigmoid' , 'relu' , 'tanh']\n",
    "two_layer_histories = []\n",
    "\n",
    "for funct in activation_functions:\n",
    "    model_layer_1 = Sequential([\n",
    "        Embedding(vocab_size + 1 ,4 ,input_length = 250),\n",
    "        Flatten(),\n",
    "        Dense(4 , activation = funct),\n",
    "        Dense(4 , activation = funct),\n",
    "        Dense(6, activation='softmax')        \n",
    "    ])\n",
    "    \n",
    "    model_layer_1.compile(loss=\"categorical_crossentropy\",\n",
    "                  optimizer=\"Adam\",\n",
    "                  metrics=[\"accuracy\"])\n",
    "    \n",
    "    history_layer_1 = model_layer_1.fit(X_train, y_train, epochs=5, validation_data=(X_valid, y_valid))\n",
    "    \n",
    "    results_layer_1 = model_layer_1.evaluate(X_eval, y_eval)\n",
    "    \n",
    "    two_layer_histories.append(results_layer_1)\n",
    "    "
   ]
  },
  {
   "cell_type": "code",
   "execution_count": null,
   "id": "f7672055",
   "metadata": {
    "papermill": {
     "duration": 0.167066,
     "end_time": "2023-05-31T22:49:33.394659",
     "exception": false,
     "start_time": "2023-05-31T22:49:33.227593",
     "status": "completed"
    },
    "tags": []
   },
   "outputs": [],
   "source": []
  }
 ],
 "metadata": {
  "kernelspec": {
   "display_name": "Python 3",
   "language": "python",
   "name": "python3"
  },
  "language_info": {
   "codemirror_mode": {
    "name": "ipython",
    "version": 3
   },
   "file_extension": ".py",
   "mimetype": "text/x-python",
   "name": "python",
   "nbconvert_exporter": "python",
   "pygments_lexer": "ipython3",
   "version": "3.10.10"
  },
  "papermill": {
   "default_parameters": {},
   "duration": 405.972811,
   "end_time": "2023-05-31T22:49:36.381219",
   "environment_variables": {},
   "exception": null,
   "input_path": "__notebook__.ipynb",
   "output_path": "__notebook__.ipynb",
   "parameters": {},
   "start_time": "2023-05-31T22:42:50.408408",
   "version": "2.4.0"
  }
 },
 "nbformat": 4,
 "nbformat_minor": 5
}
