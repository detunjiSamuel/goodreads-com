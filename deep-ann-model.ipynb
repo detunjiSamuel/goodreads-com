{
 "cells": [
  {
   "cell_type": "code",
   "execution_count": 1,
   "id": "500b477e",
   "metadata": {
    "_cell_guid": "b1076dfc-b9ad-4769-8c92-a6c4dae69d19",
    "_uuid": "8f2839f25d086af736a60e9eeb907d3b93b6e0e5",
    "execution": {
     "iopub.execute_input": "2023-05-31T23:30:38.098617Z",
     "iopub.status.busy": "2023-05-31T23:30:38.097826Z",
     "iopub.status.idle": "2023-05-31T23:30:38.115889Z",
     "shell.execute_reply": "2023-05-31T23:30:38.114710Z"
    },
    "papermill": {
     "duration": 0.02989,
     "end_time": "2023-05-31T23:30:38.118842",
     "exception": false,
     "start_time": "2023-05-31T23:30:38.088952",
     "status": "completed"
    },
    "tags": []
   },
   "outputs": [
    {
     "name": "stdout",
     "output_type": "stream",
     "text": [
      "/kaggle/input/cs985-cs987-goodread-class-project/my_goodreads_test.csv\n",
      "/kaggle/input/cs985-cs987-goodread-class-project/my_goodreads_train.csv\n",
      "/kaggle/input/cs985-cs987-goodread-class-project/my_goodreads_sample_submission.csv\n"
     ]
    }
   ],
   "source": [
    "# This Python 3 environment comes with many helpful analytics libraries installed\n",
    "# It is defined by the kaggle/python Docker image: https://github.com/kaggle/docker-python\n",
    "# For example, here's several helpful packages to load\n",
    "\n",
    "import numpy as np # linear algebra\n",
    "import pandas as pd # data processing, CSV file I/O (e.g. pd.read_csv)\n",
    "\n",
    "# Input data files are available in the read-only \"../input/\" directory\n",
    "# For example, running this (by clicking run or pressing Shift+Enter) will list all files under the input directory\n",
    "\n",
    "import os\n",
    "for dirname, _, filenames in os.walk('/kaggle/input'):\n",
    "    for filename in filenames:\n",
    "        print(os.path.join(dirname, filename))\n",
    "\n",
    "# You can write up to 20GB to the current directory (/kaggle/working/) that gets preserved as output when you create a version using \"Save & Run All\" \n",
    "# You can also write temporary files to /kaggle/temp/, but they won't be saved outside of the current session"
   ]
  },
  {
   "cell_type": "code",
   "execution_count": 2,
   "id": "1406354a",
   "metadata": {
    "execution": {
     "iopub.execute_input": "2023-05-31T23:30:38.135227Z",
     "iopub.status.busy": "2023-05-31T23:30:38.134439Z",
     "iopub.status.idle": "2023-05-31T23:31:02.140688Z",
     "shell.execute_reply": "2023-05-31T23:31:02.139108Z"
    },
    "papermill": {
     "duration": 24.018399,
     "end_time": "2023-05-31T23:31:02.144422",
     "exception": false,
     "start_time": "2023-05-31T23:30:38.126023",
     "status": "completed"
    },
    "tags": []
   },
   "outputs": [],
   "source": [
    "train_set = pd.read_csv('/kaggle/input/cs985-cs987-goodread-class-project/my_goodreads_train.csv')\n",
    "test_set = pd.read_csv('/kaggle/input/cs985-cs987-goodread-class-project/my_goodreads_test.csv')"
   ]
  },
  {
   "cell_type": "code",
   "execution_count": 3,
   "id": "00d24107",
   "metadata": {
    "execution": {
     "iopub.execute_input": "2023-05-31T23:31:02.160025Z",
     "iopub.status.busy": "2023-05-31T23:31:02.159632Z",
     "iopub.status.idle": "2023-05-31T23:31:02.165416Z",
     "shell.execute_reply": "2023-05-31T23:31:02.164541Z"
    },
    "papermill": {
     "duration": 0.016152,
     "end_time": "2023-05-31T23:31:02.167654",
     "exception": false,
     "start_time": "2023-05-31T23:31:02.151502",
     "status": "completed"
    },
    "tags": []
   },
   "outputs": [],
   "source": [
    "train_set = train_set[:200000]"
   ]
  },
  {
   "cell_type": "code",
   "execution_count": 4,
   "id": "fc8a4ef0",
   "metadata": {
    "execution": {
     "iopub.execute_input": "2023-05-31T23:31:02.183223Z",
     "iopub.status.busy": "2023-05-31T23:31:02.182814Z",
     "iopub.status.idle": "2023-05-31T23:31:04.472427Z",
     "shell.execute_reply": "2023-05-31T23:31:04.470840Z"
    },
    "papermill": {
     "duration": 2.301082,
     "end_time": "2023-05-31T23:31:04.475680",
     "exception": false,
     "start_time": "2023-05-31T23:31:02.174598",
     "status": "completed"
    },
    "tags": []
   },
   "outputs": [],
   "source": [
    "from nltk.corpus import stopwords\n",
    "\n",
    "stop = stopwords.words('english')"
   ]
  },
  {
   "cell_type": "code",
   "execution_count": 5,
   "id": "aadd0a19",
   "metadata": {
    "execution": {
     "iopub.execute_input": "2023-05-31T23:31:04.493609Z",
     "iopub.status.busy": "2023-05-31T23:31:04.493137Z",
     "iopub.status.idle": "2023-05-31T23:33:40.390768Z",
     "shell.execute_reply": "2023-05-31T23:33:40.389441Z"
    },
    "papermill": {
     "duration": 155.910074,
     "end_time": "2023-05-31T23:33:40.393567",
     "exception": false,
     "start_time": "2023-05-31T23:31:04.483493",
     "status": "completed"
    },
    "tags": []
   },
   "outputs": [],
   "source": [
    "# remove stopwords from train and test set\n",
    "train_set['review_text'] = train_set['review_text'].apply(lambda x : ' '.join([word for word in x.split() if word not in (stop)]))\n",
    "\n",
    "test_set['review_text'] = test_set['review_text'].apply(lambda x : ' '.join([word for word in x.split() if word not in (stop)]))"
   ]
  },
  {
   "cell_type": "code",
   "execution_count": 6,
   "id": "8837f979",
   "metadata": {
    "execution": {
     "iopub.execute_input": "2023-05-31T23:33:40.409763Z",
     "iopub.status.busy": "2023-05-31T23:33:40.409371Z",
     "iopub.status.idle": "2023-05-31T23:34:16.106202Z",
     "shell.execute_reply": "2023-05-31T23:34:16.104742Z"
    },
    "papermill": {
     "duration": 35.714569,
     "end_time": "2023-05-31T23:34:16.115539",
     "exception": false,
     "start_time": "2023-05-31T23:33:40.400970",
     "status": "completed"
    },
    "tags": []
   },
   "outputs": [
    {
     "name": "stderr",
     "output_type": "stream",
     "text": [
      "/opt/conda/lib/python3.10/site-packages/tensorflow_io/python/ops/__init__.py:98: UserWarning: unable to load libtensorflow_io_plugins.so: unable to open file: libtensorflow_io_plugins.so, from paths: ['/opt/conda/lib/python3.10/site-packages/tensorflow_io/python/ops/libtensorflow_io_plugins.so']\n",
      "caused by: ['/opt/conda/lib/python3.10/site-packages/tensorflow_io/python/ops/libtensorflow_io_plugins.so: undefined symbol: _ZN3tsl6StatusC1EN10tensorflow5error4CodeESt17basic_string_viewIcSt11char_traitsIcEENS_14SourceLocationE']\n",
      "  warnings.warn(f\"unable to load libtensorflow_io_plugins.so: {e}\")\n",
      "/opt/conda/lib/python3.10/site-packages/tensorflow_io/python/ops/__init__.py:104: UserWarning: file system plugins are not loaded: unable to open file: libtensorflow_io.so, from paths: ['/opt/conda/lib/python3.10/site-packages/tensorflow_io/python/ops/libtensorflow_io.so']\n",
      "caused by: ['/opt/conda/lib/python3.10/site-packages/tensorflow_io/python/ops/libtensorflow_io.so: undefined symbol: _ZTVN10tensorflow13GcsFileSystemE']\n",
      "  warnings.warn(f\"file system plugins are not loaded: {e}\")\n"
     ]
    },
    {
     "name": "stdout",
     "output_type": "stream",
     "text": [
      "170832\n"
     ]
    }
   ],
   "source": [
    "from keras.preprocessing.text import Tokenizer\n",
    "#fit tokenizer on training set\n",
    "vocab_size = 5000\n",
    "tokens = Tokenizer(num_words = vocab_size ,filters = '!\"#$%&()*+,-./:;<=>?@[\\]^_`{|}~' , lower = True)\n",
    "tokens.fit_on_texts(train_set['review_text'].values)\n",
    "word_indexes = tokens.word_index\n",
    "print(len(word_indexes))"
   ]
  },
  {
   "cell_type": "code",
   "execution_count": 7,
   "id": "5ea9b7e6",
   "metadata": {
    "execution": {
     "iopub.execute_input": "2023-05-31T23:34:16.132461Z",
     "iopub.status.busy": "2023-05-31T23:34:16.131573Z",
     "iopub.status.idle": "2023-05-31T23:34:37.702548Z",
     "shell.execute_reply": "2023-05-31T23:34:37.701357Z"
    },
    "papermill": {
     "duration": 21.582584,
     "end_time": "2023-05-31T23:34:37.705509",
     "exception": false,
     "start_time": "2023-05-31T23:34:16.122925",
     "status": "completed"
    },
    "tags": []
   },
   "outputs": [],
   "source": [
    "from tensorflow.keras.preprocessing.sequence import pad_sequences\n",
    "from tensorflow.keras.utils import to_categorical\n",
    "from sklearn.model_selection import train_test_split\n",
    "\n",
    "\n",
    "# tokenize train set and categorize labels (Train set)\n",
    "X = tokens.texts_to_sequences(train_set['review_text'].values)\n",
    "X = pad_sequences(X , maxlen = 250)\n",
    "y = to_categorical(train_set['rating'] , num_classes = 6)\n",
    "\n",
    "X_eval, y_eval = X[-100001:], y[-100001:]\n",
    "X, y = X[:-100000], y[:-100000]\n",
    "\n",
    "# split to train and eval set (Train set)\n",
    "X_train ,X_valid , y_train , y_valid = train_test_split(X , y ,test_size = 0.3 ,random_state = 42)"
   ]
  },
  {
   "cell_type": "code",
   "execution_count": 8,
   "id": "e0ff908f",
   "metadata": {
    "execution": {
     "iopub.execute_input": "2023-05-31T23:34:37.721627Z",
     "iopub.status.busy": "2023-05-31T23:34:37.721174Z",
     "iopub.status.idle": "2023-05-31T23:34:58.539281Z",
     "shell.execute_reply": "2023-05-31T23:34:58.537918Z"
    },
    "papermill": {
     "duration": 20.829381,
     "end_time": "2023-05-31T23:34:58.542111",
     "exception": false,
     "start_time": "2023-05-31T23:34:37.712730",
     "status": "completed"
    },
    "tags": []
   },
   "outputs": [],
   "source": [
    "# tokenze test set ( Test set)\n",
    "X_eval_final = tokens.texts_to_sequences(test_set['review_text'].values)\n",
    "X_eval_final = pad_sequences(X_eval_final , maxlen = 250 )"
   ]
  },
  {
   "cell_type": "markdown",
   "id": "697b373b",
   "metadata": {
    "papermill": {
     "duration": 0.006703,
     "end_time": "2023-05-31T23:34:58.555915",
     "exception": false,
     "start_time": "2023-05-31T23:34:58.549212",
     "status": "completed"
    },
    "tags": []
   },
   "source": [
    "# layers"
   ]
  },
  {
   "cell_type": "code",
   "execution_count": 9,
   "id": "afa7339a",
   "metadata": {
    "execution": {
     "iopub.execute_input": "2023-05-31T23:34:58.571586Z",
     "iopub.status.busy": "2023-05-31T23:34:58.571167Z",
     "iopub.status.idle": "2023-05-31T23:34:58.578159Z",
     "shell.execute_reply": "2023-05-31T23:34:58.577011Z"
    },
    "papermill": {
     "duration": 0.017887,
     "end_time": "2023-05-31T23:34:58.580696",
     "exception": false,
     "start_time": "2023-05-31T23:34:58.562809",
     "status": "completed"
    },
    "tags": []
   },
   "outputs": [],
   "source": [
    "from tensorflow.keras import Sequential\n",
    "from tensorflow.keras.layers import Dense, Embedding, Dropout, Flatten, SimpleRNN, LSTM, Input, GRU, InputLayer, GlobalMaxPooling1D"
   ]
  },
  {
   "cell_type": "code",
   "execution_count": 10,
   "id": "b5a669c4",
   "metadata": {
    "execution": {
     "iopub.execute_input": "2023-05-31T23:34:58.596883Z",
     "iopub.status.busy": "2023-05-31T23:34:58.596467Z",
     "iopub.status.idle": "2023-05-31T23:37:11.161072Z",
     "shell.execute_reply": "2023-05-31T23:37:11.159956Z"
    },
    "papermill": {
     "duration": 132.57576,
     "end_time": "2023-05-31T23:37:11.163490",
     "exception": false,
     "start_time": "2023-05-31T23:34:58.587730",
     "status": "completed"
    },
    "tags": []
   },
   "outputs": [
    {
     "name": "stdout",
     "output_type": "stream",
     "text": [
      "Epoch 1/5\n",
      "2188/2188 [==============================] - 10s 4ms/step - loss: 1.4577 - accuracy: 0.3590 - val_loss: 1.2764 - val_accuracy: 0.4581\n",
      "Epoch 2/5\n",
      "2188/2188 [==============================] - 7s 3ms/step - loss: 1.2246 - accuracy: 0.4635 - val_loss: 1.2155 - val_accuracy: 0.4646\n",
      "Epoch 3/5\n",
      "2188/2188 [==============================] - 7s 3ms/step - loss: 1.1797 - accuracy: 0.4791 - val_loss: 1.2051 - val_accuracy: 0.4639\n",
      "Epoch 4/5\n",
      "2188/2188 [==============================] - 8s 4ms/step - loss: 1.1593 - accuracy: 0.4880 - val_loss: 1.1992 - val_accuracy: 0.4692\n",
      "Epoch 5/5\n",
      "2188/2188 [==============================] - 6s 3ms/step - loss: 1.1409 - accuracy: 0.4966 - val_loss: 1.2007 - val_accuracy: 0.4651\n",
      "3126/3126 [==============================] - 5s 2ms/step - loss: 1.2032 - accuracy: 0.4638\n",
      "Epoch 1/5\n",
      "2188/2188 [==============================] - 8s 3ms/step - loss: 1.3381 - accuracy: 0.3873 - val_loss: 1.2113 - val_accuracy: 0.4436\n",
      "Epoch 2/5\n",
      "2188/2188 [==============================] - 7s 3ms/step - loss: 1.1717 - accuracy: 0.4698 - val_loss: 1.1624 - val_accuracy: 0.4829\n",
      "Epoch 3/5\n",
      "2188/2188 [==============================] - 7s 3ms/step - loss: 1.0944 - accuracy: 0.5161 - val_loss: 1.1167 - val_accuracy: 0.5114\n",
      "Epoch 4/5\n",
      "2188/2188 [==============================] - 7s 3ms/step - loss: 1.0416 - accuracy: 0.5493 - val_loss: 1.1308 - val_accuracy: 0.5036\n",
      "Epoch 5/5\n",
      "2188/2188 [==============================] - 8s 4ms/step - loss: 1.0104 - accuracy: 0.5660 - val_loss: 1.1356 - val_accuracy: 0.5055\n",
      "3126/3126 [==============================] - 5s 2ms/step - loss: 1.1369 - accuracy: 0.5072\n",
      "Epoch 1/5\n",
      "2188/2188 [==============================] - 8s 3ms/step - loss: 1.3982 - accuracy: 0.3967 - val_loss: 1.2186 - val_accuracy: 0.4719\n",
      "Epoch 2/5\n",
      "2188/2188 [==============================] - 7s 3ms/step - loss: 1.1355 - accuracy: 0.5109 - val_loss: 1.1212 - val_accuracy: 0.5080\n",
      "Epoch 3/5\n",
      "2188/2188 [==============================] - 8s 4ms/step - loss: 1.0491 - accuracy: 0.5562 - val_loss: 1.1280 - val_accuracy: 0.5039\n",
      "Epoch 4/5\n",
      "2188/2188 [==============================] - 7s 3ms/step - loss: 1.0065 - accuracy: 0.5805 - val_loss: 1.1417 - val_accuracy: 0.5004\n",
      "Epoch 5/5\n",
      "2188/2188 [==============================] - 7s 3ms/step - loss: 0.9772 - accuracy: 0.5991 - val_loss: 1.1541 - val_accuracy: 0.5001\n",
      "3126/3126 [==============================] - 5s 2ms/step - loss: 1.1590 - accuracy: 0.5011\n"
     ]
    }
   ],
   "source": [
    "\n",
    "activation_functions = ['sigmoid' , 'relu' , 'tanh']\n",
    "two_layer_histories = []\n",
    "\n",
    "for funct in activation_functions:\n",
    "    model_layer_1 = Sequential([\n",
    "        Embedding(vocab_size + 1 ,4 ,input_length = 250),\n",
    "        Flatten(),\n",
    "        Dense(4 , activation = funct),\n",
    "        Dense(4 , activation = funct),\n",
    "        Dense(6, activation='softmax')        \n",
    "    ])\n",
    "    \n",
    "    model_layer_1.compile(loss=\"categorical_crossentropy\",\n",
    "                  optimizer=\"Adam\",\n",
    "                  metrics=[\"accuracy\"])\n",
    "    \n",
    "    history_layer_1 = model_layer_1.fit(X_train, y_train, epochs=5, validation_data=(X_valid, y_valid))\n",
    "    \n",
    "    results_layer_1 = model_layer_1.evaluate(X_eval, y_eval)\n",
    "    \n",
    "    two_layer_histories.append(results_layer_1)\n",
    "    "
   ]
  },
  {
   "cell_type": "code",
   "execution_count": 11,
   "id": "7fa6f307",
   "metadata": {
    "execution": {
     "iopub.execute_input": "2023-05-31T23:37:11.523064Z",
     "iopub.status.busy": "2023-05-31T23:37:11.522602Z",
     "iopub.status.idle": "2023-05-31T23:39:27.891621Z",
     "shell.execute_reply": "2023-05-31T23:39:27.890423Z"
    },
    "papermill": {
     "duration": 136.552916,
     "end_time": "2023-05-31T23:39:27.894496",
     "exception": false,
     "start_time": "2023-05-31T23:37:11.341580",
     "status": "completed"
    },
    "tags": []
   },
   "outputs": [
    {
     "name": "stdout",
     "output_type": "stream",
     "text": [
      "Epoch 1/5\n",
      "2188/2188 [==============================] - 9s 4ms/step - loss: 1.4574 - accuracy: 0.3750 - val_loss: 1.3910 - val_accuracy: 0.4332\n",
      "Epoch 2/5\n",
      "2188/2188 [==============================] - 8s 4ms/step - loss: 1.3201 - accuracy: 0.4540 - val_loss: 1.2903 - val_accuracy: 0.4413\n",
      "Epoch 3/5\n",
      "2188/2188 [==============================] - 8s 3ms/step - loss: 1.2480 - accuracy: 0.4674 - val_loss: 1.2538 - val_accuracy: 0.4666\n",
      "Epoch 4/5\n",
      "2188/2188 [==============================] - 7s 3ms/step - loss: 1.2102 - accuracy: 0.4902 - val_loss: 1.2374 - val_accuracy: 0.4676\n",
      "Epoch 5/5\n",
      "2188/2188 [==============================] - 8s 3ms/step - loss: 1.1835 - accuracy: 0.4966 - val_loss: 1.2285 - val_accuracy: 0.4703\n",
      "3126/3126 [==============================] - 5s 2ms/step - loss: 1.2288 - accuracy: 0.4697\n",
      "Epoch 1/5\n",
      "2188/2188 [==============================] - 9s 4ms/step - loss: 1.4043 - accuracy: 0.3650 - val_loss: 1.2630 - val_accuracy: 0.3879\n",
      "Epoch 2/5\n",
      "2188/2188 [==============================] - 7s 3ms/step - loss: 1.1692 - accuracy: 0.4730 - val_loss: 1.1429 - val_accuracy: 0.4964\n",
      "Epoch 3/5\n",
      "2188/2188 [==============================] - 7s 3ms/step - loss: 1.0813 - accuracy: 0.5244 - val_loss: 1.1242 - val_accuracy: 0.5089\n",
      "Epoch 4/5\n",
      "2188/2188 [==============================] - 8s 4ms/step - loss: 1.0371 - accuracy: 0.5496 - val_loss: 1.1301 - val_accuracy: 0.5111\n",
      "Epoch 5/5\n",
      "2188/2188 [==============================] - 7s 3ms/step - loss: 1.0055 - accuracy: 0.5651 - val_loss: 1.1503 - val_accuracy: 0.5102\n",
      "3126/3126 [==============================] - 5s 2ms/step - loss: 1.1531 - accuracy: 0.5095\n",
      "Epoch 1/5\n",
      "2188/2188 [==============================] - 9s 4ms/step - loss: 1.3618 - accuracy: 0.3912 - val_loss: 1.1937 - val_accuracy: 0.4764\n",
      "Epoch 2/5\n",
      "2188/2188 [==============================] - 7s 3ms/step - loss: 1.1230 - accuracy: 0.5123 - val_loss: 1.1117 - val_accuracy: 0.5184\n",
      "Epoch 3/5\n",
      "2188/2188 [==============================] - 7s 3ms/step - loss: 1.0451 - accuracy: 0.5511 - val_loss: 1.1228 - val_accuracy: 0.5139\n",
      "Epoch 4/5\n",
      "2188/2188 [==============================] - 7s 3ms/step - loss: 1.0095 - accuracy: 0.5704 - val_loss: 1.1305 - val_accuracy: 0.5142\n",
      "Epoch 5/5\n",
      "2188/2188 [==============================] - 7s 3ms/step - loss: 0.9841 - accuracy: 0.5847 - val_loss: 1.1492 - val_accuracy: 0.5093\n",
      "3126/3126 [==============================] - 5s 2ms/step - loss: 1.1545 - accuracy: 0.5051\n"
     ]
    }
   ],
   "source": [
    "three_layer_histories = []\n",
    "\n",
    "for funct in activation_functions:\n",
    "    model_layer_2 = Sequential([\n",
    "        Embedding(vocab_size + 1 ,4 ,input_length = 250),\n",
    "        Flatten(),\n",
    "        Dense(4 , activation = funct),\n",
    "        Dense(4 , activation = funct),\n",
    "        Dense(4 , activation = funct),\n",
    "        Dense(6, activation='softmax')        \n",
    "    ])\n",
    "    \n",
    "    model_layer_2.compile(loss=\"categorical_crossentropy\",\n",
    "                  optimizer=\"Adam\",\n",
    "                  metrics=[\"accuracy\"])\n",
    "    \n",
    "    history_layer_2 = model_layer_2.fit(X_train, y_train, epochs=5, validation_data=(X_valid, y_valid))\n",
    "    \n",
    "    results_layer_2 = model_layer_2.evaluate(X_eval, y_eval)\n",
    "    \n",
    "    three_layer_histories.append(results_layer_2)\n",
    "\n"
   ]
  },
  {
   "cell_type": "code",
   "execution_count": 12,
   "id": "01187c02",
   "metadata": {
    "execution": {
     "iopub.execute_input": "2023-05-31T23:39:28.678820Z",
     "iopub.status.busy": "2023-05-31T23:39:28.678406Z",
     "iopub.status.idle": "2023-05-31T23:41:56.633275Z",
     "shell.execute_reply": "2023-05-31T23:41:56.632168Z"
    },
    "papermill": {
     "duration": 148.31438,
     "end_time": "2023-05-31T23:41:56.636035",
     "exception": false,
     "start_time": "2023-05-31T23:39:28.321655",
     "status": "completed"
    },
    "tags": []
   },
   "outputs": [
    {
     "name": "stdout",
     "output_type": "stream",
     "text": [
      "Epoch 1/5\n",
      "2188/2188 [==============================] - 8s 3ms/step - loss: 1.4987 - accuracy: 0.3286 - val_loss: 1.4345 - val_accuracy: 0.3434\n",
      "Epoch 2/5\n",
      "2188/2188 [==============================] - 7s 3ms/step - loss: 1.3178 - accuracy: 0.4115 - val_loss: 1.2561 - val_accuracy: 0.4463\n",
      "Epoch 3/5\n",
      "2188/2188 [==============================] - 8s 4ms/step - loss: 1.2118 - accuracy: 0.4659 - val_loss: 1.2146 - val_accuracy: 0.4657\n",
      "Epoch 4/5\n",
      "2188/2188 [==============================] - 7s 3ms/step - loss: 1.1744 - accuracy: 0.4855 - val_loss: 1.2037 - val_accuracy: 0.4708\n",
      "Epoch 5/5\n",
      "2188/2188 [==============================] - 8s 4ms/step - loss: 1.1508 - accuracy: 0.4971 - val_loss: 1.1894 - val_accuracy: 0.4744\n",
      "3126/3126 [==============================] - 6s 2ms/step - loss: 1.1933 - accuracy: 0.4733\n",
      "Epoch 1/5\n",
      "2188/2188 [==============================] - 8s 3ms/step - loss: 1.3677 - accuracy: 0.3660 - val_loss: 1.2415 - val_accuracy: 0.4368\n",
      "Epoch 2/5\n",
      "2188/2188 [==============================] - 7s 3ms/step - loss: 1.2006 - accuracy: 0.4496 - val_loss: 1.1881 - val_accuracy: 0.4577\n",
      "Epoch 3/5\n",
      "2188/2188 [==============================] - 9s 4ms/step - loss: 1.1346 - accuracy: 0.4823 - val_loss: 1.1360 - val_accuracy: 0.4977\n",
      "Epoch 4/5\n",
      "2188/2188 [==============================] - 7s 3ms/step - loss: 1.0687 - accuracy: 0.5247 - val_loss: 1.1251 - val_accuracy: 0.5043\n",
      "Epoch 5/5\n",
      "2188/2188 [==============================] - 9s 4ms/step - loss: 1.0326 - accuracy: 0.5445 - val_loss: 1.1261 - val_accuracy: 0.5039\n",
      "3126/3126 [==============================] - 6s 2ms/step - loss: 1.1296 - accuracy: 0.5053\n",
      "Epoch 1/5\n",
      "2188/2188 [==============================] - 9s 4ms/step - loss: 1.4625 - accuracy: 0.3457 - val_loss: 1.4006 - val_accuracy: 0.3402\n",
      "Epoch 2/5\n",
      "2188/2188 [==============================] - 9s 4ms/step - loss: 1.2500 - accuracy: 0.4266 - val_loss: 1.2111 - val_accuracy: 0.4580\n",
      "Epoch 3/5\n",
      "2188/2188 [==============================] - 8s 4ms/step - loss: 1.1221 - accuracy: 0.5042 - val_loss: 1.1334 - val_accuracy: 0.5047\n",
      "Epoch 4/5\n",
      "2188/2188 [==============================] - 7s 3ms/step - loss: 1.0449 - accuracy: 0.5482 - val_loss: 1.1507 - val_accuracy: 0.5022\n",
      "Epoch 5/5\n",
      "2188/2188 [==============================] - 7s 3ms/step - loss: 1.0061 - accuracy: 0.5699 - val_loss: 1.1451 - val_accuracy: 0.5052\n",
      "3126/3126 [==============================] - 6s 2ms/step - loss: 1.1505 - accuracy: 0.5069\n"
     ]
    }
   ],
   "source": [
    "four_layer_histories = []\n",
    "\n",
    "for funct in activation_functions:\n",
    "    model_layer_3 = Sequential([\n",
    "        Embedding(vocab_size + 1 ,4 ,input_length = 250),\n",
    "        Flatten(),\n",
    "        Dense(4 , activation = funct),\n",
    "        Dense(4 , activation = funct),\n",
    "        Dense(4 , activation = funct),\n",
    "        Dense(4 , activation = funct),\n",
    "        Dense(6, activation='softmax')        \n",
    "    ])\n",
    "    \n",
    "    model_layer_3.compile(loss=\"categorical_crossentropy\",\n",
    "                  optimizer=\"Adam\",\n",
    "                  metrics=[\"accuracy\"])\n",
    "    \n",
    "    history_layer_3 = model_layer_3.fit(X_train, y_train, epochs=5, validation_data=(X_valid, y_valid))\n",
    "    \n",
    "    results_layer_3 = model_layer_3.evaluate(X_eval, y_eval)\n",
    "    \n",
    "    four_layer_histories.append(results_layer_3)\n",
    "\n"
   ]
  },
  {
   "cell_type": "code",
   "execution_count": 13,
   "id": "c2c43734",
   "metadata": {
    "execution": {
     "iopub.execute_input": "2023-05-31T23:41:57.731563Z",
     "iopub.status.busy": "2023-05-31T23:41:57.730794Z",
     "iopub.status.idle": "2023-05-31T23:41:57.737129Z",
     "shell.execute_reply": "2023-05-31T23:41:57.736229Z"
    },
    "papermill": {
     "duration": 0.552509,
     "end_time": "2023-05-31T23:41:57.739469",
     "exception": false,
     "start_time": "2023-05-31T23:41:57.186960",
     "status": "completed"
    },
    "tags": []
   },
   "outputs": [],
   "source": [
    "tanh_results = [two_layer_histories[0][1], three_layer_histories[0][1], four_layer_histories[0][1]]\n",
    "relu_results = [two_layer_histories[1][1], three_layer_histories[1][1], four_layer_histories[1][1]]\n",
    "sigmoid_results = [two_layer_histories[2][1], three_layer_histories[2][1], four_layer_histories[2][1]]"
   ]
  },
  {
   "cell_type": "code",
   "execution_count": 14,
   "id": "030b094e",
   "metadata": {
    "execution": {
     "iopub.execute_input": "2023-05-31T23:41:58.924417Z",
     "iopub.status.busy": "2023-05-31T23:41:58.923985Z",
     "iopub.status.idle": "2023-05-31T23:41:59.467542Z",
     "shell.execute_reply": "2023-05-31T23:41:59.466645Z"
    },
    "papermill": {
     "duration": 1.166721,
     "end_time": "2023-05-31T23:41:59.469661",
     "exception": false,
     "start_time": "2023-05-31T23:41:58.302940",
     "status": "completed"
    },
    "tags": []
   },
   "outputs": [
    {
     "data": {
      "image/png": "[encoded data removed]",
      "text/plain": [
       "<Figure size 640x480 with 1 Axes>"
      ]
     },
     "metadata": {},
     "output_type": "display_data"
    }
   ],
   "source": [
    "import matplotlib.pyplot as plt\n",
    "\n",
    "layers = [2, 3, 4]\n",
    "# plot\n",
    "plt.figure()\n",
    "plt.plot(layers, tanh_results, label='tanh')\n",
    "plt.plot(layers, relu_results, label='relu')\n",
    "plt.plot(layers, sigmoid_results, label='sigmoid')\n",
    "plt.xlabel('Number of layers')\n",
    "plt.ylabel('Evaluation set accuracy')\n",
    "plt.legend()\n",
    "plt.title('Performance of Deep Neural Networks')\n",
    "plt.savefig('deep-nn.png')\n",
    "plt.show()"
   ]
  },
  {
   "cell_type": "code",
   "execution_count": 15,
   "id": "14edd3b7",
   "metadata": {
    "execution": {
     "iopub.execute_input": "2023-05-31T23:42:00.561499Z",
     "iopub.status.busy": "2023-05-31T23:42:00.560635Z",
     "iopub.status.idle": "2023-05-31T23:42:42.337191Z",
     "shell.execute_reply": "2023-05-31T23:42:42.336221Z"
    },
    "papermill": {
     "duration": 42.328304,
     "end_time": "2023-05-31T23:42:42.340337",
     "exception": false,
     "start_time": "2023-05-31T23:42:00.012033",
     "status": "completed"
    },
    "tags": []
   },
   "outputs": [
    {
     "name": "stdout",
     "output_type": "stream",
     "text": [
      "Epoch 1/5\n",
      "2188/2188 [==============================] - 9s 4ms/step - loss: 1.4291 - accuracy: 0.3729 - val_loss: 1.2348 - val_accuracy: 0.4673\n",
      "Epoch 2/5\n",
      "2188/2188 [==============================] - 8s 4ms/step - loss: 1.1466 - accuracy: 0.5069 - val_loss: 1.1322 - val_accuracy: 0.5069\n",
      "Epoch 3/5\n",
      "2188/2188 [==============================] - 9s 4ms/step - loss: 1.0551 - accuracy: 0.5502 - val_loss: 1.1186 - val_accuracy: 0.5141\n",
      "Epoch 4/5\n",
      "2188/2188 [==============================] - 9s 4ms/step - loss: 1.0128 - accuracy: 0.5732 - val_loss: 1.1319 - val_accuracy: 0.5079\n",
      "Epoch 5/5\n",
      "2188/2188 [==============================] - 7s 3ms/step - loss: 0.9829 - accuracy: 0.5906 - val_loss: 1.1611 - val_accuracy: 0.5024\n"
     ]
    }
   ],
   "source": [
    "# best performing\n",
    "model_layer_final = Sequential([\n",
    "        Embedding(vocab_size + 1 ,4 ,input_length = 250),\n",
    "        Flatten(),\n",
    "        Dense(4 , activation = 'tanh'),\n",
    "        Dense(4 , activation = 'tanh'),\n",
    "        Dense(4 , activation = 'tanh'),\n",
    "        Dense(6, activation='softmax')        \n",
    "    ])\n",
    "    \n",
    "model_layer_final.compile(loss=\"categorical_crossentropy\",\n",
    "                  optimizer=\"Adam\",\n",
    "                  metrics=[\"accuracy\"])\n",
    "    \n",
    "history_layer_final = model_layer_final.fit(X_train, y_train, epochs=5, validation_data=(X_valid, y_valid))"
   ]
  },
  {
   "cell_type": "code",
   "execution_count": 16,
   "id": "ebcd94c6",
   "metadata": {
    "execution": {
     "iopub.execute_input": "2023-05-31T23:42:43.603811Z",
     "iopub.status.busy": "2023-05-31T23:42:43.602665Z",
     "iopub.status.idle": "2023-05-31T23:42:56.428484Z",
     "shell.execute_reply": "2023-05-31T23:42:56.427286Z"
    },
    "papermill": {
     "duration": 13.499325,
     "end_time": "2023-05-31T23:42:56.431458",
     "exception": false,
     "start_time": "2023-05-31T23:42:42.932133",
     "status": "completed"
    },
    "tags": []
   },
   "outputs": [
    {
     "name": "stdout",
     "output_type": "stream",
     "text": [
      "6250/6250 [==============================] - 9s 1ms/step\n"
     ]
    }
   ],
   "source": [
    "predictions = model_layer_final.predict(X_eval_final)"
   ]
  },
  {
   "cell_type": "code",
   "execution_count": 17,
   "id": "d1577ea0",
   "metadata": {
    "execution": {
     "iopub.execute_input": "2023-05-31T23:42:57.657956Z",
     "iopub.status.busy": "2023-05-31T23:42:57.657546Z",
     "iopub.status.idle": "2023-05-31T23:42:58.517012Z",
     "shell.execute_reply": "2023-05-31T23:42:58.515850Z"
    },
    "papermill": {
     "duration": 1.478883,
     "end_time": "2023-05-31T23:42:58.519817",
     "exception": false,
     "start_time": "2023-05-31T23:42:57.040934",
     "status": "completed"
    },
    "tags": []
   },
   "outputs": [
    {
     "name": "stderr",
     "output_type": "stream",
     "text": [
      "/tmp/ipykernel_20/2464041748.py:3: SettingWithCopyWarning: \n",
      "A value is trying to be set on a copy of a slice from a DataFrame.\n",
      "Try using .loc[row_indexer,col_indexer] = value instead\n",
      "\n",
      "See the caveats in the documentation: https://pandas.pydata.org/pandas-docs/stable/user_guide/indexing.html#returning-a-view-versus-a-copy\n",
      "  submission_df['rating'] = final.astype(int)\n"
     ]
    }
   ],
   "source": [
    "final = np.argmax(predictions, axis=1)\n",
    "submission_df = test_set[['review_id']]\n",
    "submission_df['rating'] = final.astype(int)\n",
    "submission_df.to_csv('submission.csv', index=False)"
   ]
  },
  {
   "cell_type": "code",
   "execution_count": null,
   "id": "9c724547",
   "metadata": {
    "papermill": {
     "duration": 0.60941,
     "end_time": "2023-05-31T23:42:59.827690",
     "exception": false,
     "start_time": "2023-05-31T23:42:59.218280",
     "status": "completed"
    },
    "tags": []
   },
   "outputs": [],
   "source": []
  }
 ],
 "metadata": {
  "kernelspec": {
   "display_name": "Python 3",
   "language": "python",
   "name": "python3"
  },
  "language_info": {
   "codemirror_mode": {
    "name": "ipython",
    "version": 3
   },
   "file_extension": ".py",
   "mimetype": "text/x-python",
   "name": "python",
   "nbconvert_exporter": "python",
   "pygments_lexer": "ipython3",
   "version": "3.10.10"
  },
  "papermill": {
   "default_parameters": {},
   "duration": 758.271445,
   "end_time": "2023-05-31T23:43:03.578078",
   "environment_variables": {},
   "exception": null,
   "input_path": "__notebook__.ipynb",
   "output_path": "__notebook__.ipynb",
   "parameters": {},
   "start_time": "2023-05-31T23:30:25.306633",
   "version": "2.4.0"
  }
 },
 "nbformat": 4,
 "nbformat_minor": 5
}
