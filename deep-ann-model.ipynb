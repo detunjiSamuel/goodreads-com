{
 "cells": [
  {
   "cell_type": "code",
   "execution_count": 1,
   "id": "d85e2be0",
   "metadata": {
    "_cell_guid": "b1076dfc-b9ad-4769-8c92-a6c4dae69d19",
    "_uuid": "8f2839f25d086af736a60e9eeb907d3b93b6e0e5",
    "execution": {
     "iopub.execute_input": "2023-05-31T22:30:56.988612Z",
     "iopub.status.busy": "2023-05-31T22:30:56.988215Z",
     "iopub.status.idle": "2023-05-31T22:30:57.003572Z",
     "shell.execute_reply": "2023-05-31T22:30:57.002088Z"
    },
    "papermill": {
     "duration": 0.024089,
     "end_time": "2023-05-31T22:30:57.005940",
     "exception": false,
     "start_time": "2023-05-31T22:30:56.981851",
     "status": "completed"
    },
    "tags": []
   },
   "outputs": [
    {
     "name": "stdout",
     "output_type": "stream",
     "text": [
      "/kaggle/input/cs985-cs987-goodread-class-project/my_goodreads_test.csv\n",
      "/kaggle/input/cs985-cs987-goodread-class-project/my_goodreads_train.csv\n",
      "/kaggle/input/cs985-cs987-goodread-class-project/my_goodreads_sample_submission.csv\n"
     ]
    }
   ],
   "source": [
    "# This Python 3 environment comes with many helpful analytics libraries installed\n",
    "# It is defined by the kaggle/python Docker image: https://github.com/kaggle/docker-python\n",
    "# For example, here's several helpful packages to load\n",
    "\n",
    "import numpy as np # linear algebra\n",
    "import pandas as pd # data processing, CSV file I/O (e.g. pd.read_csv)\n",
    "\n",
    "# Input data files are available in the read-only \"../input/\" directory\n",
    "# For example, running this (by clicking run or pressing Shift+Enter) will list all files under the input directory\n",
    "\n",
    "import os\n",
    "for dirname, _, filenames in os.walk('/kaggle/input'):\n",
    "    for filename in filenames:\n",
    "        print(os.path.join(dirname, filename))\n",
    "\n",
    "# You can write up to 20GB to the current directory (/kaggle/working/) that gets preserved as output when you create a version using \"Save & Run All\" \n",
    "# You can also write temporary files to /kaggle/temp/, but they won't be saved outside of the current session"
   ]
  },
  {
   "cell_type": "code",
   "execution_count": 2,
   "id": "f1dc7907",
   "metadata": {
    "execution": {
     "iopub.execute_input": "2023-05-31T22:30:57.016913Z",
     "iopub.status.busy": "2023-05-31T22:30:57.016479Z",
     "iopub.status.idle": "2023-05-31T22:31:22.276027Z",
     "shell.execute_reply": "2023-05-31T22:31:22.275011Z"
    },
    "papermill": {
     "duration": 25.268628,
     "end_time": "2023-05-31T22:31:22.279078",
     "exception": false,
     "start_time": "2023-05-31T22:30:57.010450",
     "status": "completed"
    },
    "tags": []
   },
   "outputs": [],
   "source": [
    "train_set = pd.read_csv('/kaggle/input/cs985-cs987-goodread-class-project/my_goodreads_train.csv')\n",
    "test_set = pd.read_csv('/kaggle/input/cs985-cs987-goodread-class-project/my_goodreads_test.csv')"
   ]
  },
  {
   "cell_type": "code",
   "execution_count": 3,
   "id": "55e079ed",
   "metadata": {
    "execution": {
     "iopub.execute_input": "2023-05-31T22:31:22.289948Z",
     "iopub.status.busy": "2023-05-31T22:31:22.289413Z",
     "iopub.status.idle": "2023-05-31T22:31:22.295332Z",
     "shell.execute_reply": "2023-05-31T22:31:22.293841Z"
    },
    "papermill": {
     "duration": 0.015795,
     "end_time": "2023-05-31T22:31:22.299483",
     "exception": false,
     "start_time": "2023-05-31T22:31:22.283688",
     "status": "completed"
    },
    "tags": []
   },
   "outputs": [],
   "source": [
    "train_set = train_set[:200000]"
   ]
  },
  {
   "cell_type": "code",
   "execution_count": 4,
   "id": "3b9b26f3",
   "metadata": {
    "execution": {
     "iopub.execute_input": "2023-05-31T22:31:22.310191Z",
     "iopub.status.busy": "2023-05-31T22:31:22.309795Z",
     "iopub.status.idle": "2023-05-31T22:31:24.731569Z",
     "shell.execute_reply": "2023-05-31T22:31:24.730218Z"
    },
    "papermill": {
     "duration": 2.430704,
     "end_time": "2023-05-31T22:31:24.734716",
     "exception": false,
     "start_time": "2023-05-31T22:31:22.304012",
     "status": "completed"
    },
    "tags": []
   },
   "outputs": [],
   "source": [
    "from nltk.corpus import stopwords\n",
    "\n",
    "stop = stopwords.words('english')"
   ]
  },
  {
   "cell_type": "code",
   "execution_count": 5,
   "id": "bad70333",
   "metadata": {
    "execution": {
     "iopub.execute_input": "2023-05-31T22:31:24.745167Z",
     "iopub.status.busy": "2023-05-31T22:31:24.744755Z",
     "iopub.status.idle": "2023-05-31T22:34:05.955840Z",
     "shell.execute_reply": "2023-05-31T22:34:05.954358Z"
    },
    "papermill": {
     "duration": 161.220236,
     "end_time": "2023-05-31T22:34:05.959274",
     "exception": false,
     "start_time": "2023-05-31T22:31:24.739038",
     "status": "completed"
    },
    "tags": []
   },
   "outputs": [],
   "source": [
    "# remove stopwords from train and test set\n",
    "train_set['review_text'] = train_set['review_text'].apply(lambda x : ' '.join([word for word in x.split() if word not in (stop)]))\n",
    "\n",
    "test_set['review_text'] = test_set['review_text'].apply(lambda x : ' '.join([word for word in x.split() if word not in (stop)]))"
   ]
  },
  {
   "cell_type": "code",
   "execution_count": 6,
   "id": "b43623b1",
   "metadata": {
    "execution": {
     "iopub.execute_input": "2023-05-31T22:34:05.970670Z",
     "iopub.status.busy": "2023-05-31T22:34:05.970257Z",
     "iopub.status.idle": "2023-05-31T22:34:47.561107Z",
     "shell.execute_reply": "2023-05-31T22:34:47.559798Z"
    },
    "papermill": {
     "duration": 41.602501,
     "end_time": "2023-05-31T22:34:47.566876",
     "exception": false,
     "start_time": "2023-05-31T22:34:05.964375",
     "status": "completed"
    },
    "tags": []
   },
   "outputs": [
    {
     "name": "stderr",
     "output_type": "stream",
     "text": [
      "/opt/conda/lib/python3.10/site-packages/tensorflow_io/python/ops/__init__.py:98: UserWarning: unable to load libtensorflow_io_plugins.so: unable to open file: libtensorflow_io_plugins.so, from paths: ['/opt/conda/lib/python3.10/site-packages/tensorflow_io/python/ops/libtensorflow_io_plugins.so']\n",
      "caused by: ['/opt/conda/lib/python3.10/site-packages/tensorflow_io/python/ops/libtensorflow_io_plugins.so: undefined symbol: _ZN3tsl6StatusC1EN10tensorflow5error4CodeESt17basic_string_viewIcSt11char_traitsIcEENS_14SourceLocationE']\n",
      "  warnings.warn(f\"unable to load libtensorflow_io_plugins.so: {e}\")\n",
      "/opt/conda/lib/python3.10/site-packages/tensorflow_io/python/ops/__init__.py:104: UserWarning: file system plugins are not loaded: unable to open file: libtensorflow_io.so, from paths: ['/opt/conda/lib/python3.10/site-packages/tensorflow_io/python/ops/libtensorflow_io.so']\n",
      "caused by: ['/opt/conda/lib/python3.10/site-packages/tensorflow_io/python/ops/libtensorflow_io.so: undefined symbol: _ZTVN10tensorflow13GcsFileSystemE']\n",
      "  warnings.warn(f\"file system plugins are not loaded: {e}\")\n"
     ]
    },
    {
     "name": "stdout",
     "output_type": "stream",
     "text": [
      "170832\n"
     ]
    }
   ],
   "source": [
    "from keras.preprocessing.text import Tokenizer\n",
    "#fit tokenizer on training set\n",
    "vocab_size = 5000\n",
    "tokens = Tokenizer(num_words = vocab_size ,filters = '!\"#$%&()*+,-./:;<=>?@[\\]^_`{|}~' , lower = True)\n",
    "tokens.fit_on_texts(train_set['review_text'].values)\n",
    "word_indexes = tokens.word_index\n",
    "print(len(word_indexes))"
   ]
  },
  {
   "cell_type": "code",
   "execution_count": 7,
   "id": "094fbb17",
   "metadata": {
    "execution": {
     "iopub.execute_input": "2023-05-31T22:34:47.581310Z",
     "iopub.status.busy": "2023-05-31T22:34:47.580386Z",
     "iopub.status.idle": "2023-05-31T22:35:12.700304Z",
     "shell.execute_reply": "2023-05-31T22:35:12.698154Z"
    },
    "papermill": {
     "duration": 25.13228,
     "end_time": "2023-05-31T22:35:12.703913",
     "exception": false,
     "start_time": "2023-05-31T22:34:47.571633",
     "status": "completed"
    },
    "tags": []
   },
   "outputs": [],
   "source": [
    "from tensorflow.keras.preprocessing.sequence import pad_sequences\n",
    "from tensorflow.keras.utils import to_categorical\n",
    "from sklearn.model_selection import train_test_split\n",
    "\n",
    "\n",
    "# tokenize train set and categorize labels (Train set)\n",
    "X = tokens.texts_to_sequences(train_set['review_text'].values)\n",
    "X = pad_sequences(X , maxlen = 250)\n",
    "y = to_categorical(train_set['rating'] , num_classes = 6)\n",
    "\n",
    "X_eval, y_eval = X[-100001:], y[-100001:]\n",
    "X, y = X[:-100000], y[:-100000]\n",
    "\n",
    "# split to train and eval set (Train set)\n",
    "X_train ,X_valid , y_train , y_valid = train_test_split(X , y ,test_size = 0.3 ,random_state = 42)"
   ]
  },
  {
   "cell_type": "code",
   "execution_count": 8,
   "id": "8e31d709",
   "metadata": {
    "execution": {
     "iopub.execute_input": "2023-05-31T22:35:12.717436Z",
     "iopub.status.busy": "2023-05-31T22:35:12.716174Z",
     "iopub.status.idle": "2023-05-31T22:35:35.148652Z",
     "shell.execute_reply": "2023-05-31T22:35:35.147526Z"
    },
    "papermill": {
     "duration": 22.442488,
     "end_time": "2023-05-31T22:35:35.151643",
     "exception": false,
     "start_time": "2023-05-31T22:35:12.709155",
     "status": "completed"
    },
    "tags": []
   },
   "outputs": [],
   "source": [
    "# tokenze test set ( Test set)\n",
    "X_eval_final = tokens.texts_to_sequences(test_set['review_text'].values)\n",
    "X_eval_final = pad_sequences(X_eval_final , maxlen = 250 )"
   ]
  },
  {
   "cell_type": "markdown",
   "id": "76012ddd",
   "metadata": {
    "papermill": {
     "duration": 0.004351,
     "end_time": "2023-05-31T22:35:35.160530",
     "exception": false,
     "start_time": "2023-05-31T22:35:35.156179",
     "status": "completed"
    },
    "tags": []
   },
   "source": [
    "# layers"
   ]
  },
  {
   "cell_type": "code",
   "execution_count": null,
   "id": "3d7205dc",
   "metadata": {
    "papermill": {
     "duration": 0.004232,
     "end_time": "2023-05-31T22:35:35.169298",
     "exception": false,
     "start_time": "2023-05-31T22:35:35.165066",
     "status": "completed"
    },
    "tags": []
   },
   "outputs": [],
   "source": []
  }
 ],
 "metadata": {
  "kernelspec": {
   "display_name": "Python 3",
   "language": "python",
   "name": "python3"
  },
  "language_info": {
   "codemirror_mode": {
    "name": "ipython",
    "version": 3
   },
   "file_extension": ".py",
   "mimetype": "text/x-python",
   "name": "python",
   "nbconvert_exporter": "python",
   "pygments_lexer": "ipython3",
   "version": "3.10.10"
  },
  "papermill": {
   "default_parameters": {},
   "duration": 294.919387,
   "end_time": "2023-05-31T22:35:38.389987",
   "environment_variables": {},
   "exception": null,
   "input_path": "__notebook__.ipynb",
   "output_path": "__notebook__.ipynb",
   "parameters": {},
   "start_time": "2023-05-31T22:30:43.470600",
   "version": "2.4.0"
  }
 },
 "nbformat": 4,
 "nbformat_minor": 5
}
