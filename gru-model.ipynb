{
 "cells": [
  {
   "cell_type": "code",
   "execution_count": 1,
   "id": "22ecf50f",
   "metadata": {
    "_cell_guid": "b1076dfc-b9ad-4769-8c92-a6c4dae69d19",
    "_uuid": "8f2839f25d086af736a60e9eeb907d3b93b6e0e5",
    "execution": {
     "iopub.execute_input": "2023-06-21T23:22:03.562291Z",
     "iopub.status.busy": "2023-06-21T23:22:03.561898Z",
     "iopub.status.idle": "2023-06-21T23:22:13.296674Z",
     "shell.execute_reply": "2023-06-21T23:22:13.295695Z"
    },
    "papermill": {
     "duration": 9.743147,
     "end_time": "2023-06-21T23:22:13.299204",
     "exception": false,
     "start_time": "2023-06-21T23:22:03.556057",
     "status": "completed"
    },
    "tags": []
   },
   "outputs": [
    {
     "name": "stdout",
     "output_type": "stream",
     "text": [
      "/kaggle/input/cs985-cs987-goodread-class-project/my_goodreads_test.csv\n",
      "/kaggle/input/cs985-cs987-goodread-class-project/my_goodreads_train.csv\n",
      "/kaggle/input/cs985-cs987-goodread-class-project/my_goodreads_sample_submission.csv\n"
     ]
    },
    {
     "name": "stderr",
     "output_type": "stream",
     "text": [
      "/opt/conda/lib/python3.10/site-packages/tensorflow_io/python/ops/__init__.py:98: UserWarning: unable to load libtensorflow_io_plugins.so: unable to open file: libtensorflow_io_plugins.so, from paths: ['/opt/conda/lib/python3.10/site-packages/tensorflow_io/python/ops/libtensorflow_io_plugins.so']\n",
      "caused by: ['/opt/conda/lib/python3.10/site-packages/tensorflow_io/python/ops/libtensorflow_io_plugins.so: undefined symbol: _ZN3tsl6StatusC1EN10tensorflow5error4CodeESt17basic_string_viewIcSt11char_traitsIcEENS_14SourceLocationE']\n",
      "  warnings.warn(f\"unable to load libtensorflow_io_plugins.so: {e}\")\n",
      "/opt/conda/lib/python3.10/site-packages/tensorflow_io/python/ops/__init__.py:104: UserWarning: file system plugins are not loaded: unable to open file: libtensorflow_io.so, from paths: ['/opt/conda/lib/python3.10/site-packages/tensorflow_io/python/ops/libtensorflow_io.so']\n",
      "caused by: ['/opt/conda/lib/python3.10/site-packages/tensorflow_io/python/ops/libtensorflow_io.so: undefined symbol: _ZTVN10tensorflow13GcsFileSystemE']\n",
      "  warnings.warn(f\"file system plugins are not loaded: {e}\")\n"
     ]
    }
   ],
   "source": [
    "# This Python 3 environment comes with many helpful analytics libraries installed\n",
    "# It is defined by the kaggle/python Docker image: https://github.com/kaggle/docker-python\n",
    "# For example, here's several helpful packages to load\n",
    "\n",
    "import numpy as np # linear algebra\n",
    "import pandas as pd # data processing, CSV file I/O (e.g. pd.read_csv)\n",
    "\n",
    "# Input data files are available in the read-only \"../input/\" directory\n",
    "# For example, running this (by clicking run or pressing Shift+Enter) will list all files under the input directory\n",
    "\n",
    "import os\n",
    "for dirname, _, filenames in os.walk('/kaggle/input'):\n",
    "    for filename in filenames:\n",
    "        print(os.path.join(dirname, filename))\n",
    "\n",
    "# You can write up to 20GB to the current directory (/kaggle/working/) that gets preserved as output when you create a version using \"Save & Run All\" \n",
    "# You can also write temporary files to /kaggle/temp/, but they won't be saved outside of the current session\n",
    "\n",
    "\n",
    "import matplotlib.pyplot as plt\n",
    "from tensorflow.keras import Sequential\n",
    "from tensorflow.keras.layers import Dense, Embedding, Dropout, Flatten, SimpleRNN, LSTM, Input, GRU, InputLayer, GlobalMaxPooling1D\n",
    "from tensorflow.keras.optimizers import Adam, SGD\n",
    "from keras.preprocessing.text import Tokenizer\n",
    "from tensorflow.keras.utils import to_categorical\n",
    "from keras.callbacks import EarlyStopping\n",
    "import tensorflow as tf\n",
    "from tensorflow.keras.preprocessing.sequence import pad_sequences\n",
    "from tensorflow.keras.utils import to_categorical\n",
    "from sklearn.model_selection import train_test_split\n",
    "from nltk.corpus import stopwords"
   ]
  },
  {
   "cell_type": "code",
   "execution_count": 2,
   "id": "bd24b05e",
   "metadata": {
    "execution": {
     "iopub.execute_input": "2023-06-21T23:22:13.309684Z",
     "iopub.status.busy": "2023-06-21T23:22:13.308314Z",
     "iopub.status.idle": "2023-06-21T23:22:35.792009Z",
     "shell.execute_reply": "2023-06-21T23:22:35.790729Z"
    },
    "papermill": {
     "duration": 22.490933,
     "end_time": "2023-06-21T23:22:35.794276",
     "exception": false,
     "start_time": "2023-06-21T23:22:13.303343",
     "status": "completed"
    },
    "tags": []
   },
   "outputs": [
    {
     "data": {
      "text/html": [
       "<div>\n",
       "<style scoped>\n",
       "    .dataframe tbody tr th:only-of-type {\n",
       "        vertical-align: middle;\n",
       "    }\n",
       "\n",
       "    .dataframe tbody tr th {\n",
       "        vertical-align: top;\n",
       "    }\n",
       "\n",
       "    .dataframe thead th {\n",
       "        text-align: right;\n",
       "    }\n",
       "</style>\n",
       "<table border=\"1\" class=\"dataframe\">\n",
       "  <thead>\n",
       "    <tr style=\"text-align: right;\">\n",
       "      <th></th>\n",
       "      <th>user_id</th>\n",
       "      <th>book_id</th>\n",
       "      <th>review_id</th>\n",
       "      <th>rating</th>\n",
       "      <th>review_text</th>\n",
       "      <th>date_added</th>\n",
       "      <th>date_updated</th>\n",
       "      <th>read_at</th>\n",
       "      <th>started_at</th>\n",
       "      <th>n_votes</th>\n",
       "      <th>n_comments</th>\n",
       "    </tr>\n",
       "  </thead>\n",
       "  <tbody>\n",
       "    <tr>\n",
       "      <th>0</th>\n",
       "      <td>1da3dcc13cf360b9ecb06251e86237535</td>\n",
       "      <td>182091851</td>\n",
       "      <td>1c949b5dedf860514ec8b97ad158c9f4f</td>\n",
       "      <td>5</td>\n",
       "      <td>I thought this was a very good historical fant...</td>\n",
       "      <td>Fri Feb 01 16:44:16 -0800 2013</td>\n",
       "      <td>Tue Oct 25 18:49:25 -0700 2016</td>\n",
       "      <td>Sat May 04 00:00:00 -0700 2013</td>\n",
       "      <td>Thu Apr 25 00:00:00 -0700 2013</td>\n",
       "      <td>5</td>\n",
       "      <td>6</td>\n",
       "    </tr>\n",
       "  </tbody>\n",
       "</table>\n",
       "</div>"
      ],
      "text/plain": [
       "                             user_id    book_id  \\\n",
       "0  1da3dcc13cf360b9ecb06251e86237535  182091851   \n",
       "\n",
       "                           review_id  rating  \\\n",
       "0  1c949b5dedf860514ec8b97ad158c9f4f       5   \n",
       "\n",
       "                                         review_text  \\\n",
       "0  I thought this was a very good historical fant...   \n",
       "\n",
       "                       date_added                    date_updated  \\\n",
       "0  Fri Feb 01 16:44:16 -0800 2013  Tue Oct 25 18:49:25 -0700 2016   \n",
       "\n",
       "                          read_at                      started_at  n_votes  \\\n",
       "0  Sat May 04 00:00:00 -0700 2013  Thu Apr 25 00:00:00 -0700 2013        5   \n",
       "\n",
       "   n_comments  \n",
       "0           6  "
      ]
     },
     "execution_count": 2,
     "metadata": {},
     "output_type": "execute_result"
    }
   ],
   "source": [
    "test_set = pd.read_csv('/kaggle/input/cs985-cs987-goodread-class-project/my_goodreads_test.csv')\n",
    "train_set = pd.read_csv('/kaggle/input/cs985-cs987-goodread-class-project/my_goodreads_train.csv')\n",
    "train_set.head(1)"
   ]
  },
  {
   "cell_type": "code",
   "execution_count": 3,
   "id": "7f776a5d",
   "metadata": {
    "execution": {
     "iopub.execute_input": "2023-06-21T23:22:35.803711Z",
     "iopub.status.busy": "2023-06-21T23:22:35.803347Z",
     "iopub.status.idle": "2023-06-21T23:22:35.807961Z",
     "shell.execute_reply": "2023-06-21T23:22:35.807033Z"
    },
    "papermill": {
     "duration": 0.011634,
     "end_time": "2023-06-21T23:22:35.810038",
     "exception": false,
     "start_time": "2023-06-21T23:22:35.798404",
     "status": "completed"
    },
    "tags": []
   },
   "outputs": [],
   "source": [
    "train_set = train_set[:200000] "
   ]
  },
  {
   "cell_type": "code",
   "execution_count": 4,
   "id": "48142d74",
   "metadata": {
    "execution": {
     "iopub.execute_input": "2023-06-21T23:22:35.820851Z",
     "iopub.status.busy": "2023-06-21T23:22:35.820045Z",
     "iopub.status.idle": "2023-06-21T23:25:00.006533Z",
     "shell.execute_reply": "2023-06-21T23:25:00.005544Z"
    },
    "papermill": {
     "duration": 144.194702,
     "end_time": "2023-06-21T23:25:00.009144",
     "exception": false,
     "start_time": "2023-06-21T23:22:35.814442",
     "status": "completed"
    },
    "tags": []
   },
   "outputs": [],
   "source": [
    "stop = stopwords.words('english')\n",
    "# remove stop words from train and test set\n",
    "train_set['review_text'] = train_set['review_text'].apply(lambda x: ' '.join([word for word in x.split() if word not in (stop)]))\n",
    "test_set['review_text'] = test_set['review_text'].apply(lambda x: ' '.join([word for word in x.split() if word not in (stop)]))"
   ]
  },
  {
   "cell_type": "code",
   "execution_count": 5,
   "id": "4caebf16",
   "metadata": {
    "execution": {
     "iopub.execute_input": "2023-06-21T23:25:00.020827Z",
     "iopub.status.busy": "2023-06-21T23:25:00.020455Z",
     "iopub.status.idle": "2023-06-21T23:25:20.940915Z",
     "shell.execute_reply": "2023-06-21T23:25:20.939819Z"
    },
    "papermill": {
     "duration": 20.927718,
     "end_time": "2023-06-21T23:25:20.943142",
     "exception": false,
     "start_time": "2023-06-21T23:25:00.015424",
     "status": "completed"
    },
    "tags": []
   },
   "outputs": [
    {
     "name": "stdout",
     "output_type": "stream",
     "text": [
      "170832\n"
     ]
    }
   ],
   "source": [
    "# fit the tokenizer on the train set\n",
    "vocab_size = 5000\n",
    "tok = Tokenizer(num_words=vocab_size, filters='!\"#$%&()*+,-./:;<=>?@[\\]^_`{|}~', lower=True)\n",
    "tok.fit_on_texts(train_set['review_text'].values)\n",
    "wi = tok.word_index\n",
    "print(len(wi))"
   ]
  },
  {
   "cell_type": "code",
   "execution_count": 6,
   "id": "838ee3d9",
   "metadata": {
    "execution": {
     "iopub.execute_input": "2023-06-21T23:25:20.952817Z",
     "iopub.status.busy": "2023-06-21T23:25:20.952452Z",
     "iopub.status.idle": "2023-06-21T23:25:20.959711Z",
     "shell.execute_reply": "2023-06-21T23:25:20.958502Z"
    },
    "papermill": {
     "duration": 0.014578,
     "end_time": "2023-06-21T23:25:20.961834",
     "exception": false,
     "start_time": "2023-06-21T23:25:20.947256",
     "status": "completed"
    },
    "tags": []
   },
   "outputs": [],
   "source": [
    "def process_dataset(train_df, test_df):\n",
    "    \"\"\"Produce the train set, validation set, eval set and test set\n",
    "\n",
    "    Args:\n",
    "        train_df (pd.DataFrame): initial train set\n",
    "        test_df (pd.DataFrame): initial test set\n",
    "\n",
    "    Returns:\n",
    "        tuple: all relevant datasets\n",
    "    \"\"\"\n",
    "    # Tokenize the initial train set and categorise labels\n",
    "    X = tok.texts_to_sequences(train_df['review_text'].values)\n",
    "    X = pad_sequences(X, maxlen=250)\n",
    "    y = to_categorical(train_df['rating'], num_classes=6)\n",
    "    # Split eval set and train set\n",
    "    X_eval, y_eval = X[-100001:], y[-100001:]\n",
    "    X, y = X[:-100000], y[:-100000]\n",
    "    # Split train set and validation set\n",
    "    X_train, X_valid, y_train, y_valid = train_test_split(X, y, test_size=0.2, random_state=42)\n",
    "    # Tokenize initial test set\n",
    "    X_test = tok.texts_to_sequences(test_df['review_text'].values)\n",
    "    X_test = pad_sequences(X_test, maxlen=250)\n",
    "    return X_train, X_valid, X_eval, X_test, y_train, y_valid, y_eval "
   ]
  },
  {
   "cell_type": "code",
   "execution_count": 7,
   "id": "8261c87e",
   "metadata": {
    "execution": {
     "iopub.execute_input": "2023-06-21T23:25:20.971797Z",
     "iopub.status.busy": "2023-06-21T23:25:20.970910Z",
     "iopub.status.idle": "2023-06-21T23:25:50.293487Z",
     "shell.execute_reply": "2023-06-21T23:25:50.291884Z"
    },
    "papermill": {
     "duration": 29.33044,
     "end_time": "2023-06-21T23:25:50.296437",
     "exception": false,
     "start_time": "2023-06-21T23:25:20.965997",
     "status": "completed"
    },
    "tags": []
   },
   "outputs": [],
   "source": [
    "X_train, X_valid, X_eval, X_test, y_train, y_valid, y_eval = process_dataset(train_set, test_set)"
   ]
  },
  {
   "cell_type": "code",
   "execution_count": 8,
   "id": "c08ed4ec",
   "metadata": {
    "execution": {
     "iopub.execute_input": "2023-06-21T23:25:50.306559Z",
     "iopub.status.busy": "2023-06-21T23:25:50.306183Z",
     "iopub.status.idle": "2023-06-21T23:25:50.781113Z",
     "shell.execute_reply": "2023-06-21T23:25:50.780195Z"
    },
    "papermill": {
     "duration": 0.482714,
     "end_time": "2023-06-21T23:25:50.783528",
     "exception": false,
     "start_time": "2023-06-21T23:25:50.300814",
     "status": "completed"
    },
    "tags": []
   },
   "outputs": [],
   "source": [
    "GRU_model = Sequential([\n",
    "    Embedding(vocab_size + 1, 64, input_length = 250),\n",
    "    GRU(32, return_sequences=False),\n",
    "    Dense(16, activation='tanh'),\n",
    "    Dropout(0.5),\n",
    "    Dense(6, activation='softmax')] # 6 output nodes numbers 0-5\n",
    "                       )\n",
    "\n",
    "GRU_model.compile(Adam(learning_rate=1E-4),\n",
    "              loss = 'categorical_crossentropy', \n",
    "              metrics=['accuracy'])"
   ]
  },
  {
   "cell_type": "code",
   "execution_count": 9,
   "id": "b16bf329",
   "metadata": {
    "execution": {
     "iopub.execute_input": "2023-06-21T23:25:50.793597Z",
     "iopub.status.busy": "2023-06-21T23:25:50.793243Z",
     "iopub.status.idle": "2023-06-21T23:25:50.817944Z",
     "shell.execute_reply": "2023-06-21T23:25:50.816920Z"
    },
    "papermill": {
     "duration": 0.037647,
     "end_time": "2023-06-21T23:25:50.825508",
     "exception": false,
     "start_time": "2023-06-21T23:25:50.787861",
     "status": "completed"
    },
    "tags": []
   },
   "outputs": [
    {
     "name": "stdout",
     "output_type": "stream",
     "text": [
      "Model: \"sequential\"\n",
      "_________________________________________________________________\n",
      " Layer (type)                Output Shape              Param #   \n",
      "=================================================================\n",
      " embedding (Embedding)       (None, 250, 64)           320064    \n",
      "                                                                 \n",
      " gru (GRU)                   (None, 32)                9408      \n",
      "                                                                 \n",
      " dense (Dense)               (None, 16)                528       \n",
      "                                                                 \n",
      " dropout (Dropout)           (None, 16)                0         \n",
      "                                                                 \n",
      " dense_1 (Dense)             (None, 6)                 102       \n",
      "                                                                 \n",
      "=================================================================\n",
      "Total params: 330,102\n",
      "Trainable params: 330,102\n",
      "Non-trainable params: 0\n",
      "_________________________________________________________________\n"
     ]
    }
   ],
   "source": [
    "GRU_model.summary()"
   ]
  },
  {
   "cell_type": "code",
   "execution_count": 10,
   "id": "3afa1b3c",
   "metadata": {
    "execution": {
     "iopub.execute_input": "2023-06-21T23:25:50.837543Z",
     "iopub.status.busy": "2023-06-21T23:25:50.837197Z",
     "iopub.status.idle": "2023-06-21T23:40:14.910068Z",
     "shell.execute_reply": "2023-06-21T23:40:14.909084Z"
    },
    "papermill": {
     "duration": 864.082078,
     "end_time": "2023-06-21T23:40:14.912696",
     "exception": false,
     "start_time": "2023-06-21T23:25:50.830618",
     "status": "completed"
    },
    "tags": []
   },
   "outputs": [
    {
     "name": "stdout",
     "output_type": "stream",
     "text": [
      "Epoch 1/5\n",
      "2500/2500 [==============================] - 171s 67ms/step - loss: 1.5124 - accuracy: 0.3261 - val_loss: 1.3112 - val_accuracy: 0.4259\n",
      "Epoch 2/5\n",
      "2500/2500 [==============================] - 168s 67ms/step - loss: 1.3103 - accuracy: 0.4180 - val_loss: 1.2123 - val_accuracy: 0.4697\n",
      "Epoch 3/5\n",
      "2500/2500 [==============================] - 169s 68ms/step - loss: 1.2268 - accuracy: 0.4602 - val_loss: 1.1688 - val_accuracy: 0.4859\n",
      "Epoch 4/5\n",
      "2500/2500 [==============================] - 169s 67ms/step - loss: 1.1814 - accuracy: 0.4867 - val_loss: 1.1420 - val_accuracy: 0.4982\n",
      "Epoch 5/5\n",
      "2500/2500 [==============================] - 169s 68ms/step - loss: 1.1441 - accuracy: 0.5096 - val_loss: 1.1266 - val_accuracy: 0.5074\n"
     ]
    }
   ],
   "source": [
    "callback = tf.keras.callbacks.EarlyStopping(monitor='accuracy', patience=2)\n",
    "# fit model with early stopping callback\n",
    "GRU_history = GRU_model.fit(X_train, y_train, epochs=5, validation_data=(X_valid, y_valid), callbacks=[callback])"
   ]
  },
  {
   "cell_type": "code",
   "execution_count": 11,
   "id": "5f2eae64",
   "metadata": {
    "execution": {
     "iopub.execute_input": "2023-06-21T23:40:16.526041Z",
     "iopub.status.busy": "2023-06-21T23:40:16.525434Z",
     "iopub.status.idle": "2023-06-21T23:41:20.233000Z",
     "shell.execute_reply": "2023-06-21T23:41:20.231812Z"
    },
    "papermill": {
     "duration": 64.478523,
     "end_time": "2023-06-21T23:41:20.235616",
     "exception": false,
     "start_time": "2023-06-21T23:40:15.757093",
     "status": "completed"
    },
    "tags": []
   },
   "outputs": [
    {
     "name": "stdout",
     "output_type": "stream",
     "text": [
      "3126/3126 [==============================] - 64s 20ms/step - loss: 1.1295 - accuracy: 0.5058\n"
     ]
    }
   ],
   "source": [
    "evaluation_results = GRU_model.evaluate(X_eval, y_eval)"
   ]
  },
  {
   "cell_type": "code",
   "execution_count": 12,
   "id": "7579752b",
   "metadata": {
    "execution": {
     "iopub.execute_input": "2023-06-21T23:41:21.974403Z",
     "iopub.status.busy": "2023-06-21T23:41:21.973332Z",
     "iopub.status.idle": "2023-06-21T23:43:29.054750Z",
     "shell.execute_reply": "2023-06-21T23:43:29.053825Z"
    },
    "papermill": {
     "duration": 127.982942,
     "end_time": "2023-06-21T23:43:29.057369",
     "exception": false,
     "start_time": "2023-06-21T23:41:21.074427",
     "status": "completed"
    },
    "tags": []
   },
   "outputs": [
    {
     "name": "stdout",
     "output_type": "stream",
     "text": [
      "6250/6250 [==============================] - 124s 20ms/step\n"
     ]
    }
   ],
   "source": [
    "predictions = GRU_model.predict(X_test)"
   ]
  },
  {
   "cell_type": "code",
   "execution_count": 13,
   "id": "e3a6f91a",
   "metadata": {
    "execution": {
     "iopub.execute_input": "2023-06-21T23:43:31.132618Z",
     "iopub.status.busy": "2023-06-21T23:43:31.132207Z",
     "iopub.status.idle": "2023-06-21T23:43:31.137389Z",
     "shell.execute_reply": "2023-06-21T23:43:31.136650Z"
    },
    "papermill": {
     "duration": 1.043736,
     "end_time": "2023-06-21T23:43:31.139114",
     "exception": false,
     "start_time": "2023-06-21T23:43:30.095378",
     "status": "completed"
    },
    "tags": []
   },
   "outputs": [],
   "source": [
    "def submit_predictions(results):\n",
    "    final = np.argmax(results, axis=1)\n",
    "    submission_df = test_set[['review_id']]\n",
    "    submission_df['rating'] = final.astype(int)\n",
    "    submission_df.to_csv('submission.csv', index=False)\n",
    "    return submission_df"
   ]
  },
  {
   "cell_type": "code",
   "execution_count": 14,
   "id": "29e55a9c",
   "metadata": {
    "execution": {
     "iopub.execute_input": "2023-06-21T23:43:33.212394Z",
     "iopub.status.busy": "2023-06-21T23:43:33.212040Z",
     "iopub.status.idle": "2023-06-21T23:43:33.687239Z",
     "shell.execute_reply": "2023-06-21T23:43:33.686224Z"
    },
    "papermill": {
     "duration": 1.576862,
     "end_time": "2023-06-21T23:43:33.689256",
     "exception": false,
     "start_time": "2023-06-21T23:43:32.112394",
     "status": "completed"
    },
    "tags": []
   },
   "outputs": [
    {
     "name": "stderr",
     "output_type": "stream",
     "text": [
      "/tmp/ipykernel_20/2102143267.py:4: SettingWithCopyWarning: \n",
      "A value is trying to be set on a copy of a slice from a DataFrame.\n",
      "Try using .loc[row_indexer,col_indexer] = value instead\n",
      "\n",
      "See the caveats in the documentation: https://pandas.pydata.org/pandas-docs/stable/user_guide/indexing.html#returning-a-view-versus-a-copy\n",
      "  submission_df['rating'] = final.astype(int)\n"
     ]
    },
    {
     "data": {
      "text/html": [
       "<div>\n",
       "<style scoped>\n",
       "    .dataframe tbody tr th:only-of-type {\n",
       "        vertical-align: middle;\n",
       "    }\n",
       "\n",
       "    .dataframe tbody tr th {\n",
       "        vertical-align: top;\n",
       "    }\n",
       "\n",
       "    .dataframe thead th {\n",
       "        text-align: right;\n",
       "    }\n",
       "</style>\n",
       "<table border=\"1\" class=\"dataframe\">\n",
       "  <thead>\n",
       "    <tr style=\"text-align: right;\">\n",
       "      <th></th>\n",
       "      <th>review_id</th>\n",
       "      <th>rating</th>\n",
       "    </tr>\n",
       "  </thead>\n",
       "  <tbody>\n",
       "    <tr>\n",
       "      <th>0</th>\n",
       "      <td>16c32b9bb0142734c60f8b028f281c5dd</td>\n",
       "      <td>3</td>\n",
       "    </tr>\n",
       "    <tr>\n",
       "      <th>1</th>\n",
       "      <td>1f86ec340856f1097c922d33aed48d4ea</td>\n",
       "      <td>5</td>\n",
       "    </tr>\n",
       "    <tr>\n",
       "      <th>2</th>\n",
       "      <td>14a20b34f27611e45bd75e24de6a06324</td>\n",
       "      <td>5</td>\n",
       "    </tr>\n",
       "    <tr>\n",
       "      <th>3</th>\n",
       "      <td>1b2e5b069e4f440d152ae6d48e3f111ac</td>\n",
       "      <td>4</td>\n",
       "    </tr>\n",
       "    <tr>\n",
       "      <th>4</th>\n",
       "      <td>132aec4dfb13a2f8032a7431023dd728f</td>\n",
       "      <td>3</td>\n",
       "    </tr>\n",
       "    <tr>\n",
       "      <th>...</th>\n",
       "      <td>...</td>\n",
       "      <td>...</td>\n",
       "    </tr>\n",
       "    <tr>\n",
       "      <th>199995</th>\n",
       "      <td>1e65b0ab60fb0fc5361da7c3a7a45bc2a</td>\n",
       "      <td>4</td>\n",
       "    </tr>\n",
       "    <tr>\n",
       "      <th>199996</th>\n",
       "      <td>176c31b9581191138cc477b0df2f82b09</td>\n",
       "      <td>3</td>\n",
       "    </tr>\n",
       "    <tr>\n",
       "      <th>199997</th>\n",
       "      <td>17af2bb1902e2b7f6a5004e7bbe285139</td>\n",
       "      <td>5</td>\n",
       "    </tr>\n",
       "    <tr>\n",
       "      <th>199998</th>\n",
       "      <td>1e13fa3ce7e49dfd190bd0a02c36efe61</td>\n",
       "      <td>4</td>\n",
       "    </tr>\n",
       "    <tr>\n",
       "      <th>199999</th>\n",
       "      <td>15f7e3747bb4b66f81c14a42a8d6e2403</td>\n",
       "      <td>4</td>\n",
       "    </tr>\n",
       "  </tbody>\n",
       "</table>\n",
       "<p>200000 rows × 2 columns</p>\n",
       "</div>"
      ],
      "text/plain": [
       "                                review_id  rating\n",
       "0       16c32b9bb0142734c60f8b028f281c5dd       3\n",
       "1       1f86ec340856f1097c922d33aed48d4ea       5\n",
       "2       14a20b34f27611e45bd75e24de6a06324       5\n",
       "3       1b2e5b069e4f440d152ae6d48e3f111ac       4\n",
       "4       132aec4dfb13a2f8032a7431023dd728f       3\n",
       "...                                   ...     ...\n",
       "199995  1e65b0ab60fb0fc5361da7c3a7a45bc2a       4\n",
       "199996  176c31b9581191138cc477b0df2f82b09       3\n",
       "199997  17af2bb1902e2b7f6a5004e7bbe285139       5\n",
       "199998  1e13fa3ce7e49dfd190bd0a02c36efe61       4\n",
       "199999  15f7e3747bb4b66f81c14a42a8d6e2403       4\n",
       "\n",
       "[200000 rows x 2 columns]"
      ]
     },
     "execution_count": 14,
     "metadata": {},
     "output_type": "execute_result"
    }
   ],
   "source": [
    "submit_predictions(predictions)"
   ]
  }
 ],
 "metadata": {
  "kernelspec": {
   "display_name": "Python 3",
   "language": "python",
   "name": "python3"
  },
  "language_info": {
   "codemirror_mode": {
    "name": "ipython",
    "version": 3
   },
   "file_extension": ".py",
   "mimetype": "text/x-python",
   "name": "python",
   "nbconvert_exporter": "python",
   "pygments_lexer": "ipython3",
   "version": "3.10.10"
  },
  "papermill": {
   "default_parameters": {},
   "duration": 1304.524212,
   "end_time": "2023-06-21T23:43:37.779072",
   "environment_variables": {},
   "exception": null,
   "input_path": "__notebook__.ipynb",
   "output_path": "__notebook__.ipynb",
   "parameters": {},
   "start_time": "2023-06-21T23:21:53.254860",
   "version": "2.4.0"
  }
 },
 "nbformat": 4,
 "nbformat_minor": 5
}
