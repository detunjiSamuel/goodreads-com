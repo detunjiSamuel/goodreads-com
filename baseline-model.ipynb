{
 "cells": [
  {
   "cell_type": "code",
   "execution_count": 1,
   "id": "2b28f845",
   "metadata": {
    "_cell_guid": "b1076dfc-b9ad-4769-8c92-a6c4dae69d19",
    "_uuid": "8f2839f25d086af736a60e9eeb907d3b93b6e0e5",
    "execution": {
     "iopub.execute_input": "2023-05-27T22:39:32.359348Z",
     "iopub.status.busy": "2023-05-27T22:39:32.358990Z",
     "iopub.status.idle": "2023-05-27T22:39:33.804797Z",
     "shell.execute_reply": "2023-05-27T22:39:33.803626Z"
    },
    "papermill": {
     "duration": 1.454924,
     "end_time": "2023-05-27T22:39:33.807604",
     "exception": false,
     "start_time": "2023-05-27T22:39:32.352680",
     "status": "completed"
    },
    "tags": []
   },
   "outputs": [
    {
     "name": "stdout",
     "output_type": "stream",
     "text": [
      "/kaggle/input/cs985-cs987-goodread-class-project/my_goodreads_test.csv\n",
      "/kaggle/input/cs985-cs987-goodread-class-project/my_goodreads_train.csv\n",
      "/kaggle/input/cs985-cs987-goodread-class-project/my_goodreads_sample_submission.csv\n"
     ]
    }
   ],
   "source": [
    "# This Python 3 environment comes with many helpful analytics libraries installed\n",
    "# It is defined by the kaggle/python Docker image: https://github.com/kaggle/docker-python\n",
    "# For example, here's several helpful packages to load\n",
    "\n",
    "import numpy as np # linear algebra\n",
    "import pandas as pd # data processing, CSV file I/O (e.g. pd.read_csv)\n",
    "from sklearn.model_selection import train_test_split\n",
    "\n",
    "# Input data files are available in the read-only \"../input/\" directory\n",
    "# For example, running this (by clicking run or pressing Shift+Enter) will list all files under the input directory\n",
    "\n",
    "import os\n",
    "for dirname, _, filenames in os.walk('/kaggle/input'):\n",
    "    for filename in filenames:\n",
    "        print(os.path.join(dirname, filename))\n",
    "\n",
    "# You can write up to 20GB to the current directory (/kaggle/working/) that gets preserved as output when you create a version using \"Save & Run All\" \n",
    "# You can also write temporary files to /kaggle/temp/, but they won't be saved outside of the current session"
   ]
  },
  {
   "cell_type": "code",
   "execution_count": 2,
   "id": "9e8ba0fb",
   "metadata": {
    "execution": {
     "iopub.execute_input": "2023-05-27T22:39:33.818850Z",
     "iopub.status.busy": "2023-05-27T22:39:33.817712Z",
     "iopub.status.idle": "2023-05-27T22:39:57.338442Z",
     "shell.execute_reply": "2023-05-27T22:39:57.336842Z"
    },
    "papermill": {
     "duration": 23.528722,
     "end_time": "2023-05-27T22:39:57.340880",
     "exception": false,
     "start_time": "2023-05-27T22:39:33.812158",
     "status": "completed"
    },
    "tags": []
   },
   "outputs": [
    {
     "data": {
      "text/html": [
       "<div>\n",
       "<style scoped>\n",
       "    .dataframe tbody tr th:only-of-type {\n",
       "        vertical-align: middle;\n",
       "    }\n",
       "\n",
       "    .dataframe tbody tr th {\n",
       "        vertical-align: top;\n",
       "    }\n",
       "\n",
       "    .dataframe thead th {\n",
       "        text-align: right;\n",
       "    }\n",
       "</style>\n",
       "<table border=\"1\" class=\"dataframe\">\n",
       "  <thead>\n",
       "    <tr style=\"text-align: right;\">\n",
       "      <th></th>\n",
       "      <th>user_id</th>\n",
       "      <th>book_id</th>\n",
       "      <th>review_id</th>\n",
       "      <th>rating</th>\n",
       "      <th>review_text</th>\n",
       "      <th>date_added</th>\n",
       "      <th>date_updated</th>\n",
       "      <th>read_at</th>\n",
       "      <th>started_at</th>\n",
       "      <th>n_votes</th>\n",
       "      <th>n_comments</th>\n",
       "    </tr>\n",
       "  </thead>\n",
       "  <tbody>\n",
       "    <tr>\n",
       "      <th>0</th>\n",
       "      <td>1da3dcc13cf360b9ecb06251e86237535</td>\n",
       "      <td>182091851</td>\n",
       "      <td>1c949b5dedf860514ec8b97ad158c9f4f</td>\n",
       "      <td>5</td>\n",
       "      <td>I thought this was a very good historical fant...</td>\n",
       "      <td>Fri Feb 01 16:44:16 -0800 2013</td>\n",
       "      <td>Tue Oct 25 18:49:25 -0700 2016</td>\n",
       "      <td>Sat May 04 00:00:00 -0700 2013</td>\n",
       "      <td>Thu Apr 25 00:00:00 -0700 2013</td>\n",
       "      <td>5</td>\n",
       "      <td>6</td>\n",
       "    </tr>\n",
       "    <tr>\n",
       "      <th>1</th>\n",
       "      <td>1ae436441b6153473ef907aed1006a159</td>\n",
       "      <td>1451461</td>\n",
       "      <td>112ee86a20d7e4308c0a054f8b03128cd</td>\n",
       "      <td>5</td>\n",
       "      <td>I've had this book recommended to me more than...</td>\n",
       "      <td>Sun Nov 08 12:10:16 -0800 2015</td>\n",
       "      <td>Sun Nov 08 12:24:59 -0800 2015</td>\n",
       "      <td>Tue May 05 00:00:00 -0700 2015</td>\n",
       "      <td>Sun May 03 00:00:00 -0700 2015</td>\n",
       "      <td>0</td>\n",
       "      <td>0</td>\n",
       "    </tr>\n",
       "    <tr>\n",
       "      <th>2</th>\n",
       "      <td>1aa5e9d859b0c0737f4b99a07edf19c88</td>\n",
       "      <td>13483572</td>\n",
       "      <td>1253729b67f301b75a0f26e85f6d6fb31</td>\n",
       "      <td>5</td>\n",
       "      <td>Seriously! You go and throw that twist into th...</td>\n",
       "      <td>Wed Oct 10 02:07:19 -0700 2012</td>\n",
       "      <td>Sat Apr 27 00:40:19 -0700 2013</td>\n",
       "      <td>Sat Apr 27 00:40:19 -0700 2013</td>\n",
       "      <td>Thu Apr 25 00:00:00 -0700 2013</td>\n",
       "      <td>0</td>\n",
       "      <td>0</td>\n",
       "    </tr>\n",
       "  </tbody>\n",
       "</table>\n",
       "</div>"
      ],
      "text/plain": [
       "                             user_id    book_id  \\\n",
       "0  1da3dcc13cf360b9ecb06251e86237535  182091851   \n",
       "1  1ae436441b6153473ef907aed1006a159    1451461   \n",
       "2  1aa5e9d859b0c0737f4b99a07edf19c88   13483572   \n",
       "\n",
       "                           review_id  rating  \\\n",
       "0  1c949b5dedf860514ec8b97ad158c9f4f       5   \n",
       "1  112ee86a20d7e4308c0a054f8b03128cd       5   \n",
       "2  1253729b67f301b75a0f26e85f6d6fb31       5   \n",
       "\n",
       "                                         review_text  \\\n",
       "0  I thought this was a very good historical fant...   \n",
       "1  I've had this book recommended to me more than...   \n",
       "2  Seriously! You go and throw that twist into th...   \n",
       "\n",
       "                       date_added                    date_updated  \\\n",
       "0  Fri Feb 01 16:44:16 -0800 2013  Tue Oct 25 18:49:25 -0700 2016   \n",
       "1  Sun Nov 08 12:10:16 -0800 2015  Sun Nov 08 12:24:59 -0800 2015   \n",
       "2  Wed Oct 10 02:07:19 -0700 2012  Sat Apr 27 00:40:19 -0700 2013   \n",
       "\n",
       "                          read_at                      started_at  n_votes  \\\n",
       "0  Sat May 04 00:00:00 -0700 2013  Thu Apr 25 00:00:00 -0700 2013        5   \n",
       "1  Tue May 05 00:00:00 -0700 2015  Sun May 03 00:00:00 -0700 2015        0   \n",
       "2  Sat Apr 27 00:40:19 -0700 2013  Thu Apr 25 00:00:00 -0700 2013        0   \n",
       "\n",
       "   n_comments  \n",
       "0           6  \n",
       "1           0  \n",
       "2           0  "
      ]
     },
     "execution_count": 2,
     "metadata": {},
     "output_type": "execute_result"
    }
   ],
   "source": [
    "train_set = pd.read_csv('/kaggle/input/cs985-cs987-goodread-class-project/my_goodreads_train.csv')\n",
    "test_set = pd.read_csv('/kaggle/input/cs985-cs987-goodread-class-project/my_goodreads_test.csv')\n",
    "\n",
    "train_set.head(3)"
   ]
  },
  {
   "cell_type": "code",
   "execution_count": 3,
   "id": "8909b7e4",
   "metadata": {
    "execution": {
     "iopub.execute_input": "2023-05-27T22:39:57.352168Z",
     "iopub.status.busy": "2023-05-27T22:39:57.351165Z",
     "iopub.status.idle": "2023-05-27T22:39:57.363937Z",
     "shell.execute_reply": "2023-05-27T22:39:57.363091Z"
    },
    "papermill": {
     "duration": 0.020539,
     "end_time": "2023-05-27T22:39:57.366067",
     "exception": false,
     "start_time": "2023-05-27T22:39:57.345528",
     "status": "completed"
    },
    "tags": []
   },
   "outputs": [],
   "source": [
    "# select features and label\n",
    "X = train_set[['n_votes' , 'n_comments']]\n",
    "y = train_set['rating']"
   ]
  },
  {
   "cell_type": "code",
   "execution_count": 4,
   "id": "7add9611",
   "metadata": {
    "execution": {
     "iopub.execute_input": "2023-05-27T22:39:57.376215Z",
     "iopub.status.busy": "2023-05-27T22:39:57.375854Z",
     "iopub.status.idle": "2023-05-27T22:39:57.457333Z",
     "shell.execute_reply": "2023-05-27T22:39:57.456185Z"
    },
    "papermill": {
     "duration": 0.089591,
     "end_time": "2023-05-27T22:39:57.460082",
     "exception": false,
     "start_time": "2023-05-27T22:39:57.370491",
     "status": "completed"
    },
    "tags": []
   },
   "outputs": [],
   "source": [
    "# split data to training and validation\n",
    "X_train , X_valid , y_train , y_valid = train_test_split(X , y ,random_state = 35 ,test_size = 0.3)"
   ]
  },
  {
   "cell_type": "code",
   "execution_count": 5,
   "id": "19738483",
   "metadata": {
    "execution": {
     "iopub.execute_input": "2023-05-27T22:39:57.470443Z",
     "iopub.status.busy": "2023-05-27T22:39:57.470078Z",
     "iopub.status.idle": "2023-05-27T22:39:57.476961Z",
     "shell.execute_reply": "2023-05-27T22:39:57.475946Z"
    },
    "papermill": {
     "duration": 0.014521,
     "end_time": "2023-05-27T22:39:57.479153",
     "exception": false,
     "start_time": "2023-05-27T22:39:57.464632",
     "status": "completed"
    },
    "tags": []
   },
   "outputs": [],
   "source": [
    "# select test features\n",
    "X_test = test_set[['n_votes' , 'n_comments']]"
   ]
  },
  {
   "cell_type": "code",
   "execution_count": 6,
   "id": "0bdd86f1",
   "metadata": {
    "execution": {
     "iopub.execute_input": "2023-05-27T22:39:57.489452Z",
     "iopub.status.busy": "2023-05-27T22:39:57.489075Z",
     "iopub.status.idle": "2023-05-27T22:40:20.105492Z",
     "shell.execute_reply": "2023-05-27T22:40:20.104402Z"
    },
    "papermill": {
     "duration": 22.624591,
     "end_time": "2023-05-27T22:40:20.108222",
     "exception": false,
     "start_time": "2023-05-27T22:39:57.483631",
     "status": "completed"
    },
    "tags": []
   },
   "outputs": [
    {
     "data": {
      "text/html": [
       "<style>#sk-container-id-1 {color: black;background-color: white;}#sk-container-id-1 pre{padding: 0;}#sk-container-id-1 div.sk-toggleable {background-color: white;}#sk-container-id-1 label.sk-toggleable__label {cursor: pointer;display: block;width: 100%;margin-bottom: 0;padding: 0.3em;box-sizing: border-box;text-align: center;}#sk-container-id-1 label.sk-toggleable__label-arrow:before {content: \"▸\";float: left;margin-right: 0.25em;color: #696969;}#sk-container-id-1 label.sk-toggleable__label-arrow:hover:before {color: black;}#sk-container-id-1 div.sk-estimator:hover label.sk-toggleable__label-arrow:before {color: black;}#sk-container-id-1 div.sk-toggleable__content {max-height: 0;max-width: 0;overflow: hidden;text-align: left;background-color: #f0f8ff;}#sk-container-id-1 div.sk-toggleable__content pre {margin: 0.2em;color: black;border-radius: 0.25em;background-color: #f0f8ff;}#sk-container-id-1 input.sk-toggleable__control:checked~div.sk-toggleable__content {max-height: 200px;max-width: 100%;overflow: auto;}#sk-container-id-1 input.sk-toggleable__control:checked~label.sk-toggleable__label-arrow:before {content: \"▾\";}#sk-container-id-1 div.sk-estimator input.sk-toggleable__control:checked~label.sk-toggleable__label {background-color: #d4ebff;}#sk-container-id-1 div.sk-label input.sk-toggleable__control:checked~label.sk-toggleable__label {background-color: #d4ebff;}#sk-container-id-1 input.sk-hidden--visually {border: 0;clip: rect(1px 1px 1px 1px);clip: rect(1px, 1px, 1px, 1px);height: 1px;margin: -1px;overflow: hidden;padding: 0;position: absolute;width: 1px;}#sk-container-id-1 div.sk-estimator {font-family: monospace;background-color: #f0f8ff;border: 1px dotted black;border-radius: 0.25em;box-sizing: border-box;margin-bottom: 0.5em;}#sk-container-id-1 div.sk-estimator:hover {background-color: #d4ebff;}#sk-container-id-1 div.sk-parallel-item::after {content: \"\";width: 100%;border-bottom: 1px solid gray;flex-grow: 1;}#sk-container-id-1 div.sk-label:hover label.sk-toggleable__label {background-color: #d4ebff;}#sk-container-id-1 div.sk-serial::before {content: \"\";position: absolute;border-left: 1px solid gray;box-sizing: border-box;top: 0;bottom: 0;left: 50%;z-index: 0;}#sk-container-id-1 div.sk-serial {display: flex;flex-direction: column;align-items: center;background-color: white;padding-right: 0.2em;padding-left: 0.2em;position: relative;}#sk-container-id-1 div.sk-item {position: relative;z-index: 1;}#sk-container-id-1 div.sk-parallel {display: flex;align-items: stretch;justify-content: center;background-color: white;position: relative;}#sk-container-id-1 div.sk-item::before, #sk-container-id-1 div.sk-parallel-item::before {content: \"\";position: absolute;border-left: 1px solid gray;box-sizing: border-box;top: 0;bottom: 0;left: 50%;z-index: -1;}#sk-container-id-1 div.sk-parallel-item {display: flex;flex-direction: column;z-index: 1;position: relative;background-color: white;}#sk-container-id-1 div.sk-parallel-item:first-child::after {align-self: flex-end;width: 50%;}#sk-container-id-1 div.sk-parallel-item:last-child::after {align-self: flex-start;width: 50%;}#sk-container-id-1 div.sk-parallel-item:only-child::after {width: 0;}#sk-container-id-1 div.sk-dashed-wrapped {border: 1px dashed gray;margin: 0 0.4em 0.5em 0.4em;box-sizing: border-box;padding-bottom: 0.4em;background-color: white;}#sk-container-id-1 div.sk-label label {font-family: monospace;font-weight: bold;display: inline-block;line-height: 1.2em;}#sk-container-id-1 div.sk-label-container {text-align: center;}#sk-container-id-1 div.sk-container {/* jupyter's `normalize.less` sets `[hidden] { display: none; }` but bootstrap.min.css set `[hidden] { display: none !important; }` so we also need the `!important` here to be able to override the default hidden behavior on the sphinx rendered scikit-learn.org. See: https://github.com/scikit-learn/scikit-learn/issues/21755 */display: inline-block !important;position: relative;}#sk-container-id-1 div.sk-text-repr-fallback {display: none;}</style><div id=\"sk-container-id-1\" class=\"sk-top-container\"><div class=\"sk-text-repr-fallback\"><pre>RandomForestClassifier()</pre><b>In a Jupyter environment, please rerun this cell to show the HTML representation or trust the notebook. <br />On GitHub, the HTML representation is unable to render, please try loading this page with nbviewer.org.</b></div><div class=\"sk-container\" hidden><div class=\"sk-item\"><div class=\"sk-estimator sk-toggleable\"><input class=\"sk-toggleable__control sk-hidden--visually\" id=\"sk-estimator-id-1\" type=\"checkbox\" checked><label for=\"sk-estimator-id-1\" class=\"sk-toggleable__label sk-toggleable__label-arrow\">RandomForestClassifier</label><div class=\"sk-toggleable__content\"><pre>RandomForestClassifier()</pre></div></div></div></div></div>"
      ],
      "text/plain": [
       "RandomForestClassifier()"
      ]
     },
     "execution_count": 6,
     "metadata": {},
     "output_type": "execute_result"
    }
   ],
   "source": [
    "from sklearn.ensemble import RandomForestClassifier\n",
    "\n",
    "# create basic randomforest model\n",
    "rfc = RandomForestClassifier()\n",
    "rfc.fit(X_train , y_train)"
   ]
  },
  {
   "cell_type": "code",
   "execution_count": 7,
   "id": "d6da9ad5",
   "metadata": {
    "execution": {
     "iopub.execute_input": "2023-05-27T22:40:20.120367Z",
     "iopub.status.busy": "2023-05-27T22:40:20.119969Z",
     "iopub.status.idle": "2023-05-27T22:40:22.196805Z",
     "shell.execute_reply": "2023-05-27T22:40:22.195920Z"
    },
    "papermill": {
     "duration": 2.085983,
     "end_time": "2023-05-27T22:40:22.199221",
     "exception": false,
     "start_time": "2023-05-27T22:40:20.113238",
     "status": "completed"
    },
    "tags": []
   },
   "outputs": [
    {
     "data": {
      "text/plain": [
       "0.35241428571428574"
      ]
     },
     "execution_count": 7,
     "metadata": {},
     "output_type": "execute_result"
    }
   ],
   "source": [
    "from sklearn.metrics import f1_score , accuracy_score\n",
    "# test accuracy\n",
    "accuracy_score(y_valid , rfc.predict(X_valid))"
   ]
  },
  {
   "cell_type": "code",
   "execution_count": 8,
   "id": "d8630c7a",
   "metadata": {
    "execution": {
     "iopub.execute_input": "2023-05-27T22:40:22.210912Z",
     "iopub.status.busy": "2023-05-27T22:40:22.210300Z",
     "iopub.status.idle": "2023-05-27T22:40:24.134981Z",
     "shell.execute_reply": "2023-05-27T22:40:24.134146Z"
    },
    "papermill": {
     "duration": 1.933358,
     "end_time": "2023-05-27T22:40:24.137443",
     "exception": false,
     "start_time": "2023-05-27T22:40:22.204085",
     "status": "completed"
    },
    "tags": []
   },
   "outputs": [],
   "source": [
    "results = rfc.predict(X_test)\n"
   ]
  },
  {
   "cell_type": "code",
   "execution_count": 9,
   "id": "af0cf293",
   "metadata": {
    "execution": {
     "iopub.execute_input": "2023-05-27T22:40:24.149216Z",
     "iopub.status.busy": "2023-05-27T22:40:24.148571Z",
     "iopub.status.idle": "2023-05-27T22:40:24.874423Z",
     "shell.execute_reply": "2023-05-27T22:40:24.873319Z"
    },
    "papermill": {
     "duration": 0.735115,
     "end_time": "2023-05-27T22:40:24.877447",
     "exception": false,
     "start_time": "2023-05-27T22:40:24.142332",
     "status": "completed"
    },
    "tags": []
   },
   "outputs": [
    {
     "name": "stderr",
     "output_type": "stream",
     "text": [
      "/tmp/ipykernel_20/1848146254.py:4: SettingWithCopyWarning: \n",
      "A value is trying to be set on a copy of a slice from a DataFrame.\n",
      "Try using .loc[row_indexer,col_indexer] = value instead\n",
      "\n",
      "See the caveats in the documentation: https://pandas.pydata.org/pandas-docs/stable/user_guide/indexing.html#returning-a-view-versus-a-copy\n",
      "  sub_df['rating'] = results.astype(int)\n"
     ]
    }
   ],
   "source": [
    "# create submission file\n",
    "def get_submission(results):\n",
    "    sub_df = test_set[['review_id']]\n",
    "    sub_df['rating'] = results.astype(int)\n",
    "    sub_df.to_csv('submission.csv', index= False)\n",
    "    \n",
    "    \n",
    "get_submission(results)"
   ]
  },
  {
   "cell_type": "code",
   "execution_count": null,
   "id": "9dddcd35",
   "metadata": {
    "papermill": {
     "duration": 0.004698,
     "end_time": "2023-05-27T22:40:24.887538",
     "exception": false,
     "start_time": "2023-05-27T22:40:24.882840",
     "status": "completed"
    },
    "tags": []
   },
   "outputs": [],
   "source": []
  }
 ],
 "metadata": {
  "kernelspec": {
   "display_name": "Python 3",
   "language": "python",
   "name": "python3"
  },
  "language_info": {
   "codemirror_mode": {
    "name": "ipython",
    "version": 3
   },
   "file_extension": ".py",
   "mimetype": "text/x-python",
   "name": "python",
   "nbconvert_exporter": "python",
   "pygments_lexer": "ipython3",
   "version": "3.10.10"
  },
  "papermill": {
   "default_parameters": {},
   "duration": 65.939632,
   "end_time": "2023-05-27T22:40:26.217068",
   "environment_variables": {},
   "exception": null,
   "input_path": "__notebook__.ipynb",
   "output_path": "__notebook__.ipynb",
   "parameters": {},
   "start_time": "2023-05-27T22:39:20.277436",
   "version": "2.4.0"
  }
 },
 "nbformat": 4,
 "nbformat_minor": 5
}
